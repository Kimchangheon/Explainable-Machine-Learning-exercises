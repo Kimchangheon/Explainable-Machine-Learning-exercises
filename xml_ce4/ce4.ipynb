{
 "cells": [
  {
   "cell_type": "code",
   "execution_count": 1,
   "metadata": {
    "ExecuteTime": {
     "end_time": "2023-06-30T22:21:09.796469Z",
     "start_time": "2023-06-30T22:21:01.499539Z"
    }
   },
   "outputs": [],
   "source": [
    "#https://chat.openai.com/share/1222f15a-185c-40b3-9b10-9e88d6c1f8e2\n",
    "from ce4_compare import set_name, scores, grade, write_submission_txt, compare, set_idm\n",
    "from feature_model import FeatureModel\n",
    "import pandas as pd \n",
    "import numpy as np \n",
    "import sklearn\n",
    "import matplotlib.pyplot as plt \n",
    "from pathlib import Path\n"
   ]
  },
  {
   "cell_type": "code",
   "execution_count": 2,
   "metadata": {
    "ExecuteTime": {
     "end_time": "2023-06-30T22:21:09.800294Z",
     "start_time": "2023-06-30T22:21:09.797583Z"
    }
   },
   "outputs": [],
   "source": [
    "set_name(\"Changhun\", \"Kim\")\n",
    "set_idm(\"no12neni\")"
   ]
  },
  {
   "cell_type": "markdown",
   "metadata": {},
   "source": [
    "# Computer exercise 4 (Local posthoc explanations)"
   ]
  },
  {
   "cell_type": "markdown",
   "metadata": {},
   "source": [
    "## Counterfactual explaination (for more examples, see alibi/examples)"
   ]
  },
  {
   "cell_type": "markdown",
   "metadata": {},
   "source": [
    "Given a test instance $X$, this method can generate counterfactual instances $X^\\prime$ given a desired counterfactual class $t$ which can either be a class specified upfront or any other class that is different from the predicted class of $X$.\n",
    "\n",
    "The loss function for finding counterfactuals is the following: \n",
    "\n",
    "$$L(X^\\prime\\vert X) = (f_t(X^\\prime) - p_t)^2 + \\lambda L_1(X^\\prime, X).$$\n",
    "\n",
    "The first loss term, guides the search towards instances $X^\\prime$ for which the predicted class probability $f_t(X^\\prime)$ is close to a pre-specified target class probability $p_t$ (typically $p_t=1$). The second loss term ensures that the counterfactuals are close in the feature space to the original test instance.\n",
    "\n",
    "In this notebook we illustrate the usage of the basic counterfactual algorithm on the MNIST dataset."
   ]
  },
  {
   "cell_type": "code",
   "execution_count": 3,
   "metadata": {
    "ExecuteTime": {
     "end_time": "2023-06-30T22:21:58.947739Z",
     "start_time": "2023-06-30T22:21:09.801003Z"
    }
   },
   "outputs": [
    {
     "name": "stderr",
     "output_type": "stream",
     "text": [
      "/Users/gimchangheon/opt/anaconda3/envs/xML/lib/python3.9/site-packages/tqdm/auto.py:21: TqdmWarning: IProgress not found. Please update jupyter and ipywidgets. See https://ipywidgets.readthedocs.io/en/stable/user_install.html\n",
      "  from .autonotebook import tqdm as notebook_tqdm\n"
     ]
    }
   ],
   "source": [
    "import tensorflow as tf\n",
    "from tensorflow.keras.layers import Conv2D, Dense, Dropout, Flatten, MaxPooling2D, Input\n",
    "from tensorflow.keras.models import Model, load_model\n",
    "from tensorflow.keras.utils import to_categorical\n",
    "%matplotlib inline\n",
    "import matplotlib.pyplot as plt\n",
    "import numpy as np\n",
    "import os\n",
    "from time import time\n",
    "from alibi.explainers import Counterfactual\n",
    "\n",
    "tf.get_logger().setLevel(40) # suppress deprecation messages\n",
    "tf.compat.v1.disable_v2_behavior() # disable TF2 behaviour as alibi code still relies on TF1 constructs\n",
    "\n",
    "def suppress_warnings():\n",
    "    import warnings\n",
    "    warnings.filterwarnings(\"ignore\", category=DeprecationWarning) # suppress scipy decprecation warnings\n",
    "\n",
    "    def warn(*args, **kwargs):\n",
    "        pass\n",
    "    warnings.warn = warn\n",
    "suppress_warnings()"
   ]
  },
  {
   "cell_type": "markdown",
   "metadata": {},
   "source": [
    "### Load and prepare MNIST data"
   ]
  },
  {
   "cell_type": "code",
   "execution_count": 4,
   "metadata": {
    "ExecuteTime": {
     "end_time": "2023-06-30T22:21:59.262164Z",
     "start_time": "2023-06-30T22:21:58.950344Z"
    }
   },
   "outputs": [
    {
     "name": "stdout",
     "output_type": "stream",
     "text": [
      "x_train shape: (60000, 28, 28) y_train shape: (60000,)\n"
     ]
    },
    {
     "data": {
      "text/plain": "<Figure size 640x480 with 1 Axes>",
      "image/png": "[encoded data removed]"
     },
     "metadata": {},
     "output_type": "display_data"
    }
   ],
   "source": [
    "(x_train, y_train), (x_test, y_test) = tf.keras.datasets.mnist.load_data()\n",
    "print('x_train shape:', x_train.shape, 'y_train shape:', y_train.shape)\n",
    "plt.gray()\n",
    "plt.imshow(x_test[1]);"
   ]
  },
  {
   "cell_type": "markdown",
   "metadata": {},
   "source": [
    "Prepare data: scale, reshape and categorize"
   ]
  },
  {
   "cell_type": "code",
   "execution_count": 5,
   "metadata": {
    "ExecuteTime": {
     "end_time": "2023-06-30T22:21:59.333555Z",
     "start_time": "2023-06-30T22:21:59.264403Z"
    }
   },
   "outputs": [
    {
     "name": "stdout",
     "output_type": "stream",
     "text": [
      "x_train shape: (60000, 28, 28, 1) x_test shape: (10000, 28, 28, 1)\n",
      "y_train shape: (60000, 10) y_test shape: (10000, 10)\n"
     ]
    }
   ],
   "source": [
    "x_train = x_train.astype('float32') / 255\n",
    "x_test = x_test.astype('float32') / 255\n",
    "x_train = np.reshape(x_train, x_train.shape + (1,))\n",
    "x_test = np.reshape(x_test, x_test.shape + (1,))\n",
    "print('x_train shape:', x_train.shape, 'x_test shape:', x_test.shape)\n",
    "y_train = to_categorical(y_train)\n",
    "y_test = to_categorical(y_test)\n",
    "print('y_train shape:', y_train.shape, 'y_test shape:', y_test.shape)"
   ]
  },
  {
   "cell_type": "code",
   "execution_count": 6,
   "metadata": {
    "ExecuteTime": {
     "end_time": "2023-06-30T22:21:59.459337Z",
     "start_time": "2023-06-30T22:21:59.336359Z"
    }
   },
   "outputs": [],
   "source": [
    "xmin, xmax = -.5, .5\n",
    "x_train = ((x_train - x_train.min()) / (x_train.max() - x_train.min())) * (xmax - xmin) + xmin\n",
    "x_test = ((x_test - x_test.min()) / (x_test.max() - x_test.min())) * (xmax - xmin) + xmin"
   ]
  },
  {
   "cell_type": "markdown",
   "metadata": {},
   "source": [
    "### Define and train CNN model"
   ]
  },
  {
   "cell_type": "code",
   "execution_count": 7,
   "metadata": {
    "ExecuteTime": {
     "end_time": "2023-06-30T22:21:59.464993Z",
     "start_time": "2023-06-30T22:21:59.462591Z"
    }
   },
   "outputs": [],
   "source": [
    "def cnn_model():\n",
    "    x_in = Input(shape=(28, 28, 1))\n",
    "    x = Conv2D(filters=64, kernel_size=2, padding='same', activation='relu')(x_in)\n",
    "    x = MaxPooling2D(pool_size=2)(x)\n",
    "    x = Dropout(0.3)(x)\n",
    "    \n",
    "    x = Conv2D(filters=32, kernel_size=2, padding='same', activation='relu')(x)\n",
    "    x = MaxPooling2D(pool_size=2)(x)\n",
    "    x = Dropout(0.3)(x)\n",
    "    \n",
    "    x = Flatten()(x)\n",
    "    x = Dense(256, activation='relu')(x)\n",
    "    x = Dropout(0.5)(x)\n",
    "    x_out = Dense(10, activation='softmax')(x)\n",
    "    \n",
    "    cnn = Model(inputs=x_in, outputs=x_out)\n",
    "    cnn.compile(loss='categorical_crossentropy', optimizer='adam', metrics=['accuracy'])\n",
    "    \n",
    "    return cnn"
   ]
  },
  {
   "cell_type": "code",
   "execution_count": 8,
   "metadata": {
    "ExecuteTime": {
     "end_time": "2023-06-30T22:21:59.564133Z",
     "start_time": "2023-06-30T22:21:59.467006Z"
    }
   },
   "outputs": [
    {
     "name": "stdout",
     "output_type": "stream",
     "text": [
      "Model: \"model\"\n",
      "_________________________________________________________________\n",
      "Layer (type)                 Output Shape              Param #   \n",
      "=================================================================\n",
      "input_1 (InputLayer)         [(None, 28, 28, 1)]       0         \n",
      "_________________________________________________________________\n",
      "conv2d (Conv2D)              (None, 28, 28, 64)        320       \n",
      "_________________________________________________________________\n",
      "max_pooling2d (MaxPooling2D) (None, 14, 14, 64)        0         \n",
      "_________________________________________________________________\n",
      "dropout (Dropout)            (None, 14, 14, 64)        0         \n",
      "_________________________________________________________________\n",
      "conv2d_1 (Conv2D)            (None, 14, 14, 32)        8224      \n",
      "_________________________________________________________________\n",
      "max_pooling2d_1 (MaxPooling2 (None, 7, 7, 32)          0         \n",
      "_________________________________________________________________\n",
      "dropout_1 (Dropout)          (None, 7, 7, 32)          0         \n",
      "_________________________________________________________________\n",
      "flatten (Flatten)            (None, 1568)              0         \n",
      "_________________________________________________________________\n",
      "dense (Dense)                (None, 256)               401664    \n",
      "_________________________________________________________________\n",
      "dropout_2 (Dropout)          (None, 256)               0         \n",
      "_________________________________________________________________\n",
      "dense_1 (Dense)              (None, 10)                2570      \n",
      "=================================================================\n",
      "Total params: 412,778\n",
      "Trainable params: 412,778\n",
      "Non-trainable params: 0\n",
      "_________________________________________________________________\n"
     ]
    }
   ],
   "source": [
    "cnn = cnn_model()\n",
    "cnn.summary()\n",
    "\n",
    "params_path = Path(\"mnist_cnn.h5\")\n",
    "do_training = not params_path.exists()\n",
    "\n",
    "t0 = False\n",
    "# Training takes on my laptop ~65s\n",
    "# FYI: If you use the metal backend (using igpu) it takes about ~40s\n",
    "if do_training:\n",
    "    cnn.fit(x_train, y_train, batch_size=64, epochs=3, verbose=0)\n",
    "    cnn.save(params_path)\n",
    "    print(f\"Well that took: {round(time()-t0, 2)}s\")"
   ]
  },
  {
   "cell_type": "markdown",
   "metadata": {},
   "source": [
    "Evaluate the model on test set"
   ]
  },
  {
   "cell_type": "code",
   "execution_count": 9,
   "metadata": {
    "ExecuteTime": {
     "end_time": "2023-06-30T22:22:01.151278Z",
     "start_time": "2023-06-30T22:21:59.577971Z"
    }
   },
   "outputs": [
    {
     "name": "stderr",
     "output_type": "stream",
     "text": [
      "2023-07-01 00:21:59.631429: I tensorflow/core/platform/cpu_feature_guard.cc:142] This TensorFlow binary is optimized with oneAPI Deep Neural Network Library (oneDNN) to use the following CPU instructions in performance-critical operations:  SSE4.1 SSE4.2\n",
      "To enable them in other operations, rebuild TensorFlow with the appropriate compiler flags.\n",
      "2023-07-01 00:21:59.641288: I tensorflow/compiler/mlir/mlir_graph_optimization_pass.cc:196] None of the MLIR optimization passes are enabled (registered 0 passes)\n"
     ]
    },
    {
     "name": "stdout",
     "output_type": "stream",
     "text": [
      "Test accuracy:  0.9866\n"
     ]
    }
   ],
   "source": [
    "cnn = load_model('mnist_cnn.h5')\n",
    "score = cnn.evaluate(x_test, y_test, verbose=0)\n",
    "print('Test accuracy: ', score[1])"
   ]
  },
  {
   "cell_type": "markdown",
   "metadata": {},
   "source": [
    "#### Exercise 4.1\n",
    "\n",
    "Use the CNN to find the datapoint of the test-dataset with the highest predicted probability of being a `7`. Return the index and the features of that datapoint"
   ]
  },
  {
   "cell_type": "code",
   "execution_count": 10,
   "metadata": {
    "ExecuteTime": {
     "end_time": "2023-06-30T22:22:02.436608Z",
     "start_time": "2023-06-30T22:22:01.156010Z"
    }
   },
   "outputs": [],
   "source": [
    "y_hat_test = cnn.predict(x_test)"
   ]
  },
  {
   "cell_type": "code",
   "execution_count": 11,
   "metadata": {
    "ExecuteTime": {
     "end_time": "2023-06-30T22:22:02.445634Z",
     "start_time": "2023-06-30T22:22:02.435949Z"
    }
   },
   "outputs": [
    {
     "data": {
      "text/plain": "4474"
     },
     "execution_count": 11,
     "metadata": {},
     "output_type": "execute_result"
    }
   ],
   "source": [
    "y_hat_test[:,7].argmax()"
   ]
  },
  {
   "cell_type": "code",
   "execution_count": 12,
   "metadata": {
    "ExecuteTime": {
     "end_time": "2023-06-30T22:22:02.446251Z",
     "start_time": "2023-06-30T22:22:02.445383Z"
    }
   },
   "outputs": [],
   "source": [
    "def ex_4_1():\n",
    "    y_hat_test = cnn.predict(x_test)\n",
    "    index = y_hat_test[:,7].argmax()\n",
    "    features = y_hat_test[index,:]\n",
    "    return index, features"
   ]
  },
  {
   "cell_type": "code",
   "execution_count": 13,
   "metadata": {
    "ExecuteTime": {
     "end_time": "2023-06-30T22:22:02.453650Z",
     "start_time": "2023-06-30T22:22:02.447914Z"
    }
   },
   "outputs": [
    {
     "data": {
      "text/plain": "(10000, 28, 28, 1)"
     },
     "execution_count": 13,
     "metadata": {},
     "output_type": "execute_result"
    }
   ],
   "source": [
    "x_test.shape"
   ]
  },
  {
   "cell_type": "code",
   "execution_count": 14,
   "metadata": {
    "ExecuteTime": {
     "end_time": "2023-06-30T22:22:02.453906Z",
     "start_time": "2023-06-30T22:22:02.451857Z"
    }
   },
   "outputs": [],
   "source": [
    "def ex_4_1():\n",
    "    y_hat_test = cnn.predict(x_test)\n",
    "    index = y_hat_test[:,7].argmax()\n",
    "    features = x_test[index,:]\n",
    "    return index, features"
   ]
  },
  {
   "cell_type": "code",
   "execution_count": 15,
   "metadata": {
    "ExecuteTime": {
     "end_time": "2023-06-30T22:22:04.454678Z",
     "start_time": "2023-06-30T22:22:02.455648Z"
    }
   },
   "outputs": [
    {
     "name": "stdout",
     "output_type": "stream",
     "text": [
      "Great work!\n"
     ]
    }
   ],
   "source": [
    "compare(\"ex_4_1\", ex_4_1)"
   ]
  },
  {
   "cell_type": "code",
   "execution_count": 16,
   "metadata": {
    "ExecuteTime": {
     "end_time": "2023-06-30T22:22:05.619845Z",
     "start_time": "2023-06-30T22:22:04.458612Z"
    }
   },
   "outputs": [
    {
     "data": {
      "text/plain": "4474"
     },
     "execution_count": 16,
     "metadata": {},
     "output_type": "execute_result"
    }
   ],
   "source": [
    "ex_4_1()[0]"
   ]
  },
  {
   "cell_type": "code",
   "execution_count": 17,
   "metadata": {
    "ExecuteTime": {
     "end_time": "2023-06-30T22:22:06.930161Z",
     "start_time": "2023-06-30T22:22:05.623076Z"
    }
   },
   "outputs": [
    {
     "data": {
      "text/plain": "<matplotlib.image.AxesImage at 0x1be019880>"
     },
     "execution_count": 17,
     "metadata": {},
     "output_type": "execute_result"
    },
    {
     "data": {
      "text/plain": "<Figure size 640x480 with 1 Axes>",
      "image/png": "[encoded data removed]"
     },
     "metadata": {},
     "output_type": "display_data"
    }
   ],
   "source": [
    "plt.imshow(ex_4_1()[1])"
   ]
  },
  {
   "cell_type": "markdown",
   "metadata": {},
   "source": [
    "### Generate counterfactuals"
   ]
  },
  {
   "cell_type": "markdown",
   "metadata": {},
   "source": [
    "Original instance:"
   ]
  },
  {
   "cell_type": "code",
   "execution_count": 18,
   "metadata": {
    "ExecuteTime": {
     "end_time": "2023-06-30T22:22:07.007514Z",
     "start_time": "2023-06-30T22:22:06.928592Z"
    }
   },
   "outputs": [
    {
     "data": {
      "text/plain": "<Figure size 640x480 with 1 Axes>",
      "image/png": "[encoded data removed]"
     },
     "metadata": {},
     "output_type": "display_data"
    }
   ],
   "source": [
    "X = x_test[4].reshape((1,) + x_test[4].shape)\n",
    "plt.imshow(X.reshape(28, 28));"
   ]
  },
  {
   "cell_type": "markdown",
   "metadata": {},
   "source": [
    "Counterfactual parameters:"
   ]
  },
  {
   "cell_type": "code",
   "execution_count": 19,
   "metadata": {
    "ExecuteTime": {
     "end_time": "2023-06-30T22:22:07.047254Z",
     "start_time": "2023-06-30T22:22:07.007786Z"
    }
   },
   "outputs": [],
   "source": [
    "shape = (1,) + x_train.shape[1:]\n",
    "target_proba = 1.0\n",
    "tol = 0.01 # want counterfactuals with p(class)>0.99\n",
    "target_class = 'other' # any class other than 4 will do\n",
    "max_iter = 1000 # how many optimization step in given lamda innter\n",
    "feature_range = (x_train.min(),x_train.max()) #valid feature range\n",
    "lam_init=0.1\n",
    "max_lam_steps=10"
   ]
  },
  {
   "cell_type": "markdown",
   "metadata": {},
   "source": [
    "Run counterfactual:"
   ]
  },
  {
   "cell_type": "code",
   "execution_count": 20,
   "metadata": {
    "ExecuteTime": {
     "end_time": "2023-06-30T22:22:11.322327Z",
     "start_time": "2023-06-30T22:22:07.033889Z"
    }
   },
   "outputs": [],
   "source": [
    "# initialize explainer\n",
    "cf = Counterfactual(cnn, shape=shape, target_proba=target_proba, tol=tol,\n",
    "                    target_class=target_class, max_iter=max_iter, distance_fn=\"l1\", \n",
    "                    lam_init=lam_init, max_lam_steps=max_lam_steps,\n",
    "                    feature_range=feature_range)\n",
    "\n",
    "explanation = cf.explain(X)\n"
   ]
  },
  {
   "cell_type": "code",
   "execution_count": 21,
   "metadata": {
    "ExecuteTime": {
     "end_time": "2023-06-30T22:22:11.325653Z",
     "start_time": "2023-06-30T22:22:11.323325Z"
    }
   },
   "outputs": [],
   "source": [
    "X_cf = explanation.cf['X'].reshape(28, 28)"
   ]
  },
  {
   "cell_type": "code",
   "execution_count": 22,
   "metadata": {
    "ExecuteTime": {
     "end_time": "2023-06-30T22:22:11.415970Z",
     "start_time": "2023-06-30T22:22:11.336641Z"
    }
   },
   "outputs": [
    {
     "data": {
      "text/plain": "<Figure size 640x480 with 1 Axes>",
      "image/png": "[encoded data removed]"
     },
     "metadata": {},
     "output_type": "display_data"
    }
   ],
   "source": [
    "plt.imshow(X_cf);"
   ]
  },
  {
   "cell_type": "markdown",
   "metadata": {},
   "source": [
    "#### Exercise 4.2\n",
    "\n",
    "What is the predicted class/number of the counterfactual above? What is the predicted probability of that class? Return both numbers"
   ]
  },
  {
   "cell_type": "code",
   "execution_count": 23,
   "metadata": {
    "ExecuteTime": {
     "end_time": "2023-06-30T22:22:11.420437Z",
     "start_time": "2023-06-30T22:22:11.418711Z"
    }
   },
   "outputs": [],
   "source": [
    "y_hat_cf = cnn.predict(X_cf[None,:,:,None])\n",
    "label  = y_hat_cf.argmax()\n",
    "prob = y_hat_cf[:,label]"
   ]
  },
  {
   "cell_type": "code",
   "execution_count": 99,
   "metadata": {
    "ExecuteTime": {
     "end_time": "2023-06-30T22:26:39.064534Z",
     "start_time": "2023-06-30T22:26:39.053797Z"
    }
   },
   "outputs": [],
   "source": [
    "def ex_4_2():\n",
    "    y_hat_cf = cnn.predict(X_cf[None,:,:,None])\n",
    "    label  = y_hat_cf.argmax()\n",
    "    prob = y_hat_cf[:,label]\n",
    "    return label, prob[0]\n"
   ]
  },
  {
   "cell_type": "code",
   "execution_count": 100,
   "metadata": {
    "ExecuteTime": {
     "end_time": "2023-06-30T22:26:39.463366Z",
     "start_time": "2023-06-30T22:26:39.455162Z"
    }
   },
   "outputs": [
    {
     "data": {
      "text/plain": "(9, 0.9909258)"
     },
     "execution_count": 100,
     "metadata": {},
     "output_type": "execute_result"
    }
   ],
   "source": [
    "ex_4_2()"
   ]
  },
  {
   "cell_type": "code",
   "execution_count": 101,
   "metadata": {
    "ExecuteTime": {
     "end_time": "2023-06-30T22:26:40.009022Z",
     "start_time": "2023-06-30T22:26:39.994857Z"
    }
   },
   "outputs": [
    {
     "name": "stdout",
     "output_type": "stream",
     "text": [
      "Great work!\n"
     ]
    }
   ],
   "source": [
    "compare(\"ex_4_2\", ex_4_2)"
   ]
  },
  {
   "cell_type": "markdown",
   "metadata": {},
   "source": [
    "Q: Does this imply that this class is the most similar to `4`s? "
   ]
  },
  {
   "cell_type": "markdown",
   "metadata": {},
   "source": [
    "The counterfactual starting from a 4 moves towards the closest class as determined by the model and the data - in this case a 9. The evolution of the counterfactual during the iterations over $\\lambda$ can be seen below (note that all of the following examples satisfy the counterfactual condition):"
   ]
  },
  {
   "cell_type": "code",
   "execution_count": 27,
   "metadata": {
    "ExecuteTime": {
     "end_time": "2023-06-30T22:22:11.569626Z",
     "start_time": "2023-06-30T22:22:11.442667Z"
    }
   },
   "outputs": [
    {
     "data": {
      "text/plain": "<Figure size 1600x600 with 6 Axes>",
      "image/png": "[encoded data removed]"
     },
     "metadata": {},
     "output_type": "display_data"
    }
   ],
   "source": [
    "n_cfs = np.array([len(explanation.all[iter_cf]) for iter_cf in range(max_lam_steps)]) # n_cfs is the number of counterfactuals found at each lambda step during the explanation process.\n",
    "examples = {}\n",
    "lambdas = []\n",
    "for ix, n in enumerate(n_cfs):\n",
    "    if n>0:\n",
    "        examples[ix] = {'ix': ix, 'lambda': explanation.all[ix][0]['lambda'],\n",
    "                       'X': explanation.all[ix][0]['X']}\n",
    "        lambdas.append(explanation.all[ix][0]['lambda'])\n",
    "columns = len(examples) + 1\n",
    "rows = 1\n",
    "\n",
    "fig = plt.figure(figsize=(16,6))\n",
    "\n",
    "for i, key in enumerate(examples.keys()):\n",
    "    ax = plt.subplot(rows, columns, i+1)\n",
    "    ax.get_xaxis().set_visible(False)\n",
    "    ax.get_yaxis().set_visible(False)\n",
    "    plt.imshow(examples[key]['X'].reshape(28,28))\n",
    "    plt.title(f'Iteration: {key}')"
   ]
  },
  {
   "cell_type": "code",
   "execution_count": 28,
   "metadata": {
    "ExecuteTime": {
     "end_time": "2023-06-30T22:22:11.579485Z",
     "start_time": "2023-06-30T22:22:11.576762Z"
    }
   },
   "outputs": [
    {
     "data": {
      "text/plain": "[0.00505,\n 0.0075250000000000004,\n 0.00566875,\n 0.0053593749999999996,\n 0.005204687499999999,\n 0.005088671874999999]"
     },
     "execution_count": 28,
     "metadata": {},
     "output_type": "execute_result"
    }
   ],
   "source": [
    "lambdas"
   ]
  },
  {
   "cell_type": "markdown",
   "metadata": {},
   "source": []
  },
  {
   "cell_type": "markdown",
   "metadata": {},
   "source": [
    "#### Exercise 4.3\n",
    "\n",
    "At iteration `9` what is the value of the prefactor $\\lambda$ in front of the missmatch term?\n",
    "m\n",
    "$L(X^\\prime\\vert X) = (f_t(X^\\prime) - p_t)^2 + \\lambda L_1(X^\\prime, X).$\n",
    "\n",
    "Return that value"
   ]
  },
  {
   "cell_type": "code",
   "execution_count": 29,
   "metadata": {
    "ExecuteTime": {
     "end_time": "2023-06-30T22:22:16.186659Z",
     "start_time": "2023-06-30T22:22:11.585777Z"
    }
   },
   "outputs": [
    {
     "data": {
      "text/plain": "<Figure size 1600x600 with 10 Axes>",
      "image/png": "[encoded data removed]"
     },
     "metadata": {},
     "output_type": "display_data"
    }
   ],
   "source": [
    "shape = (1,) + x_train.shape[1:]\n",
    "target_proba = 1.0\n",
    "tol = 0.1 # want counterfactuals with p(class)>0.99\n",
    "target_class = 'other' # any class other than 4 will do\n",
    "max_iter = 1000 # how many optimization step in given lamda innter\n",
    "feature_range = (x_train.min(),x_train.max()) #valid feature range\n",
    "lam_init=0.1\n",
    "max_lam_steps=10\n",
    "\n",
    "# initialize explainer\n",
    "cf = Counterfactual(cnn, shape=shape, target_proba=target_proba, tol=tol,\n",
    "                    target_class=target_class, max_iter=max_iter, distance_fn=\"l1\",\n",
    "                    lam_init=lam_init, max_lam_steps=max_lam_steps,\n",
    "                    feature_range=feature_range)\n",
    "\n",
    "explanation = cf.explain(X)\n",
    "\n",
    "n_cfs = np.array([len(explanation.all[iter_cf]) for iter_cf in range(max_lam_steps)]) # n_cfs is the number of counterfactuals found at each lambda step during the explanation process.\n",
    "examples = {}\n",
    "lambdas = []\n",
    "for ix, n in enumerate(n_cfs):\n",
    "    if n>0:\n",
    "        examples[ix] = {'ix': ix, 'lambda': explanation.all[ix][0]['lambda'],\n",
    "                       'X': explanation.all[ix][0]['X']}\n",
    "        lambdas.append(explanation.all[ix][0]['lambda'])\n",
    "    else :\n",
    "        lambdas.append(explanation.all[ix][0]['lambda'])\n",
    "columns = len(examples) + 1\n",
    "rows = 1\n",
    "\n",
    "fig = plt.figure(figsize=(16,6))\n",
    "\n",
    "for i, key in enumerate(examples.keys()):\n",
    "    ax = plt.subplot(rows, columns, i+1)\n",
    "    ax.get_xaxis().set_visible(False)\n",
    "    ax.get_yaxis().set_visible(False)\n",
    "    plt.imshow(examples[key]['X'].reshape(28,28))\n",
    "    plt.title(f'Iteration: {key}')"
   ]
  },
  {
   "cell_type": "code",
   "execution_count": 30,
   "metadata": {
    "ExecuteTime": {
     "end_time": "2023-06-30T22:22:16.191955Z",
     "start_time": "2023-06-30T22:22:16.187454Z"
    }
   },
   "outputs": [
    {
     "data": {
      "text/plain": "[0.00505,\n 0.0075250000000000004,\n 0.0087625,\n 0.00938125,\n 0.009690625000000001,\n 0.009845312500000002,\n 0.009922656250000002,\n 0.009961328125000002,\n 0.009980664062500002,\n 0.00999033203125]"
     },
     "execution_count": 30,
     "metadata": {},
     "output_type": "execute_result"
    }
   ],
   "source": [
    "lambdas"
   ]
  },
  {
   "cell_type": "code",
   "execution_count": 31,
   "metadata": {
    "ExecuteTime": {
     "end_time": "2023-06-30T22:22:16.195635Z",
     "start_time": "2023-06-30T22:22:16.192557Z"
    }
   },
   "outputs": [],
   "source": [
    "def ex_4_3():\n",
    "    #change tolarance\n",
    "    return lambdas[8]"
   ]
  },
  {
   "cell_type": "code",
   "execution_count": 32,
   "metadata": {
    "ExecuteTime": {
     "end_time": "2023-06-30T22:22:16.201034Z",
     "start_time": "2023-06-30T22:22:16.197083Z"
    }
   },
   "outputs": [
    {
     "name": "stdout",
     "output_type": "stream",
     "text": [
      "Great work!\n"
     ]
    }
   ],
   "source": [
    "compare(\"ex_4_3\", ex_4_3)"
   ]
  },
  {
   "cell_type": "code",
   "execution_count": 33,
   "metadata": {
    "ExecuteTime": {
     "end_time": "2023-06-30T22:22:16.203460Z",
     "start_time": "2023-06-30T22:22:16.201352Z"
    }
   },
   "outputs": [
    {
     "data": {
      "text/plain": "0.009980664062500002"
     },
     "execution_count": 33,
     "metadata": {},
     "output_type": "execute_result"
    }
   ],
   "source": [
    "ex_4_3()"
   ]
  },
  {
   "cell_type": "markdown",
   "metadata": {},
   "source": [
    "Typically, the first few iterations find counterfactuals that are out of distribution, while the later iterations make the counterfactual more sparse and interpretable."
   ]
  },
  {
   "cell_type": "markdown",
   "metadata": {},
   "source": [
    "Let's now try to steer the counterfactual to a specific class:"
   ]
  },
  {
   "cell_type": "code",
   "execution_count": 68,
   "metadata": {
    "ExecuteTime": {
     "end_time": "2023-06-30T22:23:22.695863Z",
     "start_time": "2023-06-30T22:23:19.103112Z"
    }
   },
   "outputs": [
    {
     "name": "stdout",
     "output_type": "stream",
     "text": [
      "Explanation took 3.488 sec\n"
     ]
    }
   ],
   "source": [
    "target_class = 0\n",
    "\n",
    "cf = Counterfactual(cnn, shape=shape, target_proba=target_proba, tol=tol,\n",
    "                    target_class=target_class, max_iter=max_iter, lam_init=lam_init,\n",
    "                    max_lam_steps=max_lam_steps, feature_range=feature_range)\n",
    "\n",
    "explanation = start_time = time()\n",
    "explanation = cf.explain(X)\n",
    "print('Explanation took {:.3f} sec'.format(time() - start_time))"
   ]
  },
  {
   "cell_type": "code",
   "execution_count": 35,
   "metadata": {
    "ExecuteTime": {
     "end_time": "2023-06-30T22:22:19.929437Z",
     "start_time": "2023-06-30T22:22:19.833638Z"
    }
   },
   "outputs": [
    {
     "name": "stdout",
     "output_type": "stream",
     "text": [
      "Counterfactual prediction: 0 with probability 0.9997531771659851\n"
     ]
    },
    {
     "data": {
      "text/plain": "<Figure size 640x480 with 1 Axes>",
      "image/png": "[encoded data removed]"
     },
     "metadata": {},
     "output_type": "display_data"
    }
   ],
   "source": [
    "pred_class = explanation.cf['class']\n",
    "proba = explanation.cf['proba'][0][pred_class]\n",
    "\n",
    "print(f'Counterfactual prediction: {pred_class} with probability {proba}')\n",
    "plt.imshow(explanation.cf['X'].reshape(28, 28));"
   ]
  },
  {
   "cell_type": "markdown",
   "metadata": {},
   "source": [
    "Difference between original and counterfactual"
   ]
  },
  {
   "cell_type": "code",
   "execution_count": 36,
   "metadata": {
    "ExecuteTime": {
     "end_time": "2023-06-30T22:22:20.034849Z",
     "start_time": "2023-06-30T22:22:19.931964Z"
    }
   },
   "outputs": [
    {
     "data": {
      "text/plain": "<Figure size 640x480 with 1 Axes>",
      "image/png": "[encoded data removed]"
     },
     "metadata": {},
     "output_type": "display_data"
    }
   ],
   "source": [
    "plt.imshow((explanation.cf['X'] - X).reshape(28, 28));"
   ]
  },
  {
   "cell_type": "markdown",
   "metadata": {},
   "source": [
    "## Local interpretable model-agnostic explanations (LIME)\n",
    "\n",
    "$\n",
    "\\min\\limits_{g\\in G} \\quad \\mathcal{L}(f, g, p_x) + \\Omega(g)\n",
    "$\n",
    "\n",
    "*where*\n",
    "\n",
    "$f$ is complex/black-box function\n",
    "\n",
    "$g$ is simple/interpretable function\n",
    "\n",
    "$p_x$ defines a sort-of `distribution` around $x$ \n",
    "\n",
    "$\\Omega$ regularises $g$ (regarding complexity)\n",
    "\n",
    "$\\mathcal{L}(f, g, p_x) = \\mathbb{E}_{z \\sim p_x} [ (f(z)-g(z))^2 ]$"
   ]
  },
  {
   "cell_type": "code",
   "execution_count": 69,
   "metadata": {
    "ExecuteTime": {
     "end_time": "2023-06-30T22:23:29.130792Z",
     "start_time": "2023-06-30T22:23:29.101459Z"
    }
   },
   "outputs": [
    {
     "name": "stdout",
     "output_type": "stream",
     "text": [
      "FeatureModel(->Not fully specified yet!)\n",
      "FeatureModel(cnt ~ -1 + season + yr + mnth + holiday + weekday + workingday + weathersit + temp + hum + windspeed + days_since_01_01_2011 )\n"
     ]
    }
   ],
   "source": [
    "bike_path = \"datasets/bike/rented_bikes_day_pre.csv\"\n",
    "bike_data = FeatureModel(bike_path)\n",
    "bike_data.df = bike_data.df.drop(labels=[\"casual\", \"registered\"], axis=1)\n",
    "bike_data.add_target(\"cnt\")\n",
    "bike_data.add_all_features_but_target()\n",
    "X_train, y_train, X_test, y_test = bike_data.return_Xy(train_test_split=True)"
   ]
  },
  {
   "cell_type": "code",
   "execution_count": 70,
   "metadata": {
    "ExecuteTime": {
     "end_time": "2023-06-30T22:23:32.966093Z",
     "start_time": "2023-06-30T22:23:29.661469Z"
    }
   },
   "outputs": [
    {
     "data": {
      "text/plain": "MLPRegressor(hidden_layer_sizes=[64, 32], max_iter=3000, random_state=1)"
     },
     "execution_count": 70,
     "metadata": {},
     "output_type": "execute_result"
    }
   ],
   "source": [
    "from sklearn.neural_network import MLPRegressor\n",
    "\n",
    "mlp = MLPRegressor([64, 32], random_state=1, max_iter=3_000)\n",
    "mlp.fit(X_train.to_numpy(), y_train.to_numpy())"
   ]
  },
  {
   "cell_type": "code",
   "execution_count": 71,
   "metadata": {
    "ExecuteTime": {
     "end_time": "2023-06-30T22:23:32.973161Z",
     "start_time": "2023-06-30T22:23:32.967865Z"
    }
   },
   "outputs": [
    {
     "data": {
      "text/plain": "0.8038836281469584"
     },
     "execution_count": 71,
     "metadata": {},
     "output_type": "execute_result"
    }
   ],
   "source": [
    "mlp.score(X_test, y_test)"
   ]
  },
  {
   "cell_type": "code",
   "execution_count": 72,
   "metadata": {
    "ExecuteTime": {
     "end_time": "2023-06-30T22:23:32.975962Z",
     "start_time": "2023-06-30T22:23:32.972251Z"
    }
   },
   "outputs": [],
   "source": [
    "import lime \n",
    "from lime import lime_tabular"
   ]
  },
  {
   "cell_type": "code",
   "execution_count": 73,
   "metadata": {
    "ExecuteTime": {
     "end_time": "2023-06-30T22:23:32.981903Z",
     "start_time": "2023-06-30T22:23:32.977890Z"
    }
   },
   "outputs": [
    {
     "data": {
      "text/plain": "Index(['season', 'yr', 'mnth', 'holiday', 'weekday', 'workingday',\n       'weathersit', 'temp', 'hum', 'windspeed', 'days_since_01_01_2011'],\n      dtype='object')"
     },
     "execution_count": 73,
     "metadata": {},
     "output_type": "execute_result"
    }
   ],
   "source": [
    "X_train.columns"
   ]
  },
  {
   "cell_type": "code",
   "execution_count": 74,
   "metadata": {
    "ExecuteTime": {
     "end_time": "2023-06-30T22:23:33.012306Z",
     "start_time": "2023-06-30T22:23:32.982834Z"
    }
   },
   "outputs": [],
   "source": [
    "explainer = lime_tabular.LimeTabularExplainer(\n",
    "    training_data=X_train.to_numpy(), # Q: Why does the algorithm need that? suppose no correlated\n",
    "    feature_names=list(X_train.columns),\n",
    "    mode=\"regression\",\n",
    "    categorical_features=np.arange(7), # Q: Why does the algorithm need that? ex) season cannot be 2.5\n",
    "    random_state=1\n",
    ")"
   ]
  },
  {
   "cell_type": "markdown",
   "metadata": {},
   "source": [
    "Q: Why does the algorithm need that (training_data=X_train.to_numpy())? suppose no correlated.\n",
    "A: The LIME (Local Interpretable Model-Agnostic Explanations) algorithm requires the training dataset as an input because it needs it to learn the local decision boundaries. It perturbs your instance (i.e., adds some noise) and then observes the predictions of the other instances that are close to it. By doing this, LIME creates a new dataset, which it uses to train an interpretable model that approximates the behavior of the original model locally, around the instance to be explained.\n",
    "\n",
    "Q: Why does the algorithm need that (categorical_features=np.arange(7))? ex) season cannot be 2.5\n",
    "A: The categorical_features parameter is used to specify which features in the dataset are categorical. This is necessary because categorical data is treated differently than continuous data when generating explanations. For example, for a categorical feature, the perturbations involve sampling from the empirical frequency of the training data, while for continuous features, a normal (Gaussian) perturbation is applied. By specifying categorical_features=np.arange(7), you're telling the algorithm that the first 7 features in your dataset are categorical."
   ]
  },
  {
   "cell_type": "code",
   "execution_count": 75,
   "metadata": {
    "ExecuteTime": {
     "end_time": "2023-06-30T22:23:33.291740Z",
     "start_time": "2023-06-30T22:23:33.240535Z"
    }
   },
   "outputs": [],
   "source": [
    "suppress_warnings()\n",
    "exp = explainer.explain_instance(\n",
    "    X_test.to_numpy()[0], mlp.predict, num_features=5\n",
    ")"
   ]
  },
  {
   "cell_type": "code",
   "execution_count": null,
   "metadata": {
    "is_executing": true,
    "ExecuteTime": {
     "start_time": "2023-06-30T22:23:33.780716Z"
    }
   },
   "outputs": [],
   "source": [
    "exp.show_in_notebook()"
   ]
  },
  {
   "cell_type": "code",
   "execution_count": 77,
   "metadata": {
    "ExecuteTime": {
     "end_time": "2023-06-30T22:23:34.627522Z",
     "start_time": "2023-06-30T22:23:34.622788Z"
    }
   },
   "outputs": [
    {
     "data": {
      "text/plain": "[('temp <= 8.61', -1806.3062361108077),\n ('season=1', -681.4413278801666),\n ('mnth=2', 662.2461590034777),\n ('371.50 < days_since_01_01_2011 <= 555.25', 558.4031333484863),\n ('weathersit=1', 426.38613362789926)]"
     },
     "execution_count": 77,
     "metadata": {},
     "output_type": "execute_result"
    }
   ],
   "source": [
    "exp.as_list()"
   ]
  },
  {
   "cell_type": "markdown",
   "metadata": {},
   "source": [
    "Q: What type of `simple` model does this use? \n",
    "\n",
    "Q: Where are the categorical features(rule based features) for the continuous features coming from? (E.g. temp <= 8.61)"
   ]
  },
  {
   "cell_type": "markdown",
   "metadata": {},
   "source": [
    "Q: What type of simple model does this use?\n",
    "A: LIME uses a simple linear model (like linear regression for regression tasks or logistic regression for classification tasks) locally to approximate the decision boundary of the complex model. The reason for this is that while the global decision boundary of the complex model may be highly non-linear and difficult to interpret, it can be approximated well by a linear decision boundary in a small local region around a specific instance.\n",
    "\n",
    "Q: Where are the categorical features for the continuous features coming from? (E.g. temp <= 8.61)\n",
    "A: The explanation like 'temp <= 8.61' comes from the way LIME handles continuous variables. LIME discretizes continuous features into quartiles (or a number of intervals defined by percentiles). This makes the explanations more interpretable. For example, instead of saying that an increase in temperature by 1 degree results in a certain change in the prediction, it might be easier to understand that temperatures below 8.61 result in a certain change. In your output, 'temp <= 8.61' is a feature that was derived by LIME by discretizing the 'temp' feature, and the corresponding coefficient indicates how this condition influences the prediction."
   ]
  },
  {
   "cell_type": "markdown",
   "metadata": {},
   "source": [
    "#### Exercise 4.4\n",
    "Return the simple model-class $g$ that we just used? Find this class in `sklearn` and return it"
   ]
  },
  {
   "cell_type": "code",
   "execution_count": 78,
   "metadata": {
    "ExecuteTime": {
     "end_time": "2023-06-30T22:23:35.419389Z",
     "start_time": "2023-06-30T22:23:35.409547Z"
    }
   },
   "outputs": [],
   "source": [
    "from sklearn.linear_model import LinearRegression\n",
    "from sklearn.linear_model import LogisticRegression\n",
    "from sklearn.neural_network import MLPRegressor\n",
    "from sklearn.neural_network._multilayer_perceptron import MLPRegressor\n",
    "from sklearn.linear_model import Ridge\n",
    "\n",
    "\n",
    "from sklearn.base import BaseEstimator\n",
    "\n",
    "def ex_4_4() -> BaseEstimator:\n",
    "    return Ridge\n"
   ]
  },
  {
   "cell_type": "code",
   "execution_count": 79,
   "metadata": {
    "ExecuteTime": {
     "end_time": "2023-06-30T22:23:35.603739Z",
     "start_time": "2023-06-30T22:23:35.596603Z"
    }
   },
   "outputs": [
    {
     "data": {
      "text/plain": "sklearn.linear_model._ridge.Ridge"
     },
     "execution_count": 79,
     "metadata": {},
     "output_type": "execute_result"
    }
   ],
   "source": [
    "ex_4_4()"
   ]
  },
  {
   "cell_type": "code",
   "execution_count": 80,
   "metadata": {
    "ExecuteTime": {
     "end_time": "2023-06-30T22:23:35.995938Z",
     "start_time": "2023-06-30T22:23:35.972144Z"
    }
   },
   "outputs": [
    {
     "name": "stdout",
     "output_type": "stream",
     "text": [
      "Great work!\n"
     ]
    }
   ],
   "source": [
    "compare(\"ex_4_4\", ex_4_4)"
   ]
  },
  {
   "cell_type": "markdown",
   "metadata": {},
   "source": [
    "#### Exercise 4.5\n",
    "\n",
    "Explain the highest-cnt/bikes-rented test-datapoint of the bike-dataset using the `explainer` as defined above. For this local explanation return the string representation of the feature with the highest negative impact on the `cnt`-variable. Set `num_features=10`\n",
    "\n",
    "Re-instantiate the `explainer` to reset the `random_state`"
   ]
  },
  {
   "cell_type": "code",
   "execution_count": 81,
   "metadata": {
    "ExecuteTime": {
     "end_time": "2023-06-30T22:23:36.793690Z",
     "start_time": "2023-06-30T22:23:36.783772Z"
    }
   },
   "outputs": [],
   "source": [
    "def ex_4_5() -> str:\n",
    "    return \"14.0 <= temp\"\n"
   ]
  },
  {
   "cell_type": "code",
   "execution_count": 82,
   "metadata": {
    "ExecuteTime": {
     "end_time": "2023-06-30T22:23:37.057797Z",
     "start_time": "2023-06-30T22:23:37.019217Z"
    }
   },
   "outputs": [
    {
     "name": "stdout",
     "output_type": "stream",
     "text": [
      "weathersit=2\n"
     ]
    }
   ],
   "source": [
    "def ex_4_5() -> str:\n",
    "    # Re-instantiate the explainer\n",
    "    explainer = lime_tabular.LimeTabularExplainer(\n",
    "        training_data=X_train.to_numpy(),\n",
    "        feature_names=list(X_train.columns),\n",
    "        mode=\"regression\",\n",
    "        categorical_features=np.arange(7),\n",
    "        random_state=1\n",
    "    )\n",
    "\n",
    "    # find the index of the highest 'cnt' value in y_test\n",
    "    highest_cnt_index = np.argmax(y_test)\n",
    "\n",
    "    # explain this instance with num_features set to 10\n",
    "    exp = explainer.explain_instance(\n",
    "        X_test.to_numpy()[highest_cnt_index], mlp.predict, num_features=10\n",
    "    )\n",
    "\n",
    "    # get the feature with the highest negative impact\n",
    "    negative_impact_feature = min(exp.as_list(), key=lambda x: x[1])[0]\n",
    "\n",
    "    return negative_impact_feature\n",
    "\n",
    "print(ex_4_5())\n"
   ]
  },
  {
   "cell_type": "code",
   "execution_count": 83,
   "metadata": {
    "ExecuteTime": {
     "end_time": "2023-06-30T22:23:37.396550Z",
     "start_time": "2023-06-30T22:23:37.368648Z"
    }
   },
   "outputs": [
    {
     "data": {
      "text/plain": "'weathersit=2'"
     },
     "execution_count": 83,
     "metadata": {},
     "output_type": "execute_result"
    }
   ],
   "source": [
    "ex_4_5()"
   ]
  },
  {
   "cell_type": "code",
   "execution_count": 84,
   "metadata": {
    "ExecuteTime": {
     "end_time": "2023-06-30T22:23:37.962621Z",
     "start_time": "2023-06-30T22:23:37.937751Z"
    }
   },
   "outputs": [
    {
     "name": "stdout",
     "output_type": "stream",
     "text": [
      "Great work!\n"
     ]
    }
   ],
   "source": [
    "compare(\"ex_4_5\", ex_4_5)"
   ]
  },
  {
   "cell_type": "markdown",
   "metadata": {},
   "source": [
    "Q: Does this make sense? Does this explain that otherwise this good-bike-selling day *could* have been even better?"
   ]
  },
  {
   "cell_type": "markdown",
   "metadata": {},
   "source": [
    "Yes, this does make sense.\n",
    "\n",
    "The LIME explanation identifies the most influential features for a particular prediction, in this case, the prediction of bike rentals for the day in the dataset that had the highest number of rentals. By highlighting the feature with the most negative impact on this prediction, the explanation is effectively pointing out a factor that, had it been different, could have led to even more bike rentals that day.\n",
    "\n",
    "For instance, if the most negatively impactful feature is 'temp <= 8.61', it indicates that the relatively low temperature (less than or equal to 8.61) on that day negatively impacted the number of bike rentals. If the temperature were higher, the model predicts that more bikes could have been rented.\n",
    "\n",
    "This sort of information can be valuable for understanding the limitations of a model's prediction and for identifying ways to improve outcomes. However, while LIME can tell us which features are influential and in what way, it doesn't tell us how to change those features. The temperature, for example, is not something that can be controlled.\n",
    "\n",
    "But knowing that temperature is an influential factor can still be useful. For example, a bike rental company could use this information to plan promotions or special offers for colder days to encourage more rentals."
   ]
  },
  {
   "cell_type": "markdown",
   "metadata": {},
   "source": [
    "## Shapley Additive explanations (SHAP)\n",
    "\n",
    "Based on Shapley values. What is the average contribution of a feature versus removing it?\n",
    "\n",
    "```python\n",
    "featureA = \"temp\"\n",
    "X_local = ... # local datapoint\n",
    "\n",
    "shapley_value = 0.0\n",
    "\n",
    "for _ in range(N):\n",
    "    feature_subset = random_subset_that_contains(featureA)\n",
    "    for _ in range(1_000):\n",
    "        X = X_local.copy()\n",
    "        X[not feature_subset] = random_feature(not feature_subset)\n",
    "        X_withoutA = X.copy()\n",
    "        X_withoutA[featureA] = random_feature(featureA)\n",
    "\n",
    "        shapley_value += prefactor(feature_subset)*f(X, X_withoutA)\n",
    "\n",
    "shapley_value = shapley_value / (N*1_000)\n",
    "```"
   ]
  },
  {
   "cell_type": "code",
   "execution_count": 85,
   "metadata": {
    "ExecuteTime": {
     "end_time": "2023-06-30T22:23:39.371852Z",
     "start_time": "2023-06-30T22:23:39.338237Z"
    }
   },
   "outputs": [
    {
     "name": "stdout",
     "output_type": "stream",
     "text": [
      "FeatureModel(->Not fully specified yet!)\n",
      "FeatureModel(Biopsy ~ -1 + Age + Number_of_sexual_partners + First_sexual_intercourse + Num_of_pregnancies + Smokes + Smokes__years + Hormonal_Contraceptives + Hormonal_Contraceptives__years + IUD + IUD__years + STDs + STDs__Number_of_diagnosis + STDs__Time_since_first_diagnosis + STDs__Time_since_last_diagnosis )\n"
     ]
    }
   ],
   "source": [
    "cancer_path = \"datasets/cervical_cancer/risk_factors_cervical_cancer_pre.csv\"\n",
    "cancer_data = FeatureModel(cancer_path)\n",
    "cancer_data.add_target(\"Biopsy\")\n",
    "cancer_data.add_all_features_but_target()\n",
    "X_train, y_train, X_test, y_test = cancer_data.return_Xy(train_test_split=True)"
   ]
  },
  {
   "cell_type": "markdown",
   "metadata": {},
   "source": [
    "### Kernel SHAP"
   ]
  },
  {
   "cell_type": "code",
   "execution_count": null,
   "metadata": {
    "is_executing": true,
    "ExecuteTime": {
     "start_time": "2023-06-30T22:23:40.218140Z"
    }
   },
   "outputs": [],
   "source": [
    "import shap\n",
    "shap.initjs()"
   ]
  },
  {
   "cell_type": "code",
   "execution_count": 87,
   "metadata": {
    "ExecuteTime": {
     "end_time": "2023-06-30T22:23:40.564208Z",
     "start_time": "2023-06-30T22:23:40.508148Z"
    }
   },
   "outputs": [
    {
     "data": {
      "text/plain": "SVC(probability=True, random_state=1)"
     },
     "execution_count": 87,
     "metadata": {},
     "output_type": "execute_result"
    }
   ],
   "source": [
    "from sklearn.svm import SVC \n",
    "\n",
    "svm = SVC(random_state=1, probability=True)\n",
    "svm.fit(X_train, y_train)"
   ]
  },
  {
   "cell_type": "code",
   "execution_count": 88,
   "metadata": {
    "ExecuteTime": {
     "end_time": "2023-06-30T22:23:40.653597Z",
     "start_time": "2023-06-30T22:23:40.645892Z"
    }
   },
   "outputs": [
    {
     "data": {
      "text/plain": "0.9302325581395349"
     },
     "execution_count": 88,
     "metadata": {},
     "output_type": "execute_result"
    }
   ],
   "source": [
    "svm.score(X_test, y_test)"
   ]
  },
  {
   "cell_type": "code",
   "execution_count": 89,
   "metadata": {
    "ExecuteTime": {
     "end_time": "2023-06-30T22:23:40.887220Z",
     "start_time": "2023-06-30T22:23:40.832313Z"
    }
   },
   "outputs": [],
   "source": [
    "from sklearn.cluster import KMeans\n",
    "\n",
    "knn = KMeans(n_clusters=10)\n",
    "knn.fit(X_train)\n",
    "\n",
    "# Why do we need that?\n",
    "X_clusters = knn.cluster_centers_"
   ]
  },
  {
   "cell_type": "markdown",
   "metadata": {},
   "source": [
    "Q: What is the `X_clusters` used for?"
   ]
  },
  {
   "cell_type": "code",
   "execution_count": 90,
   "metadata": {
    "ExecuteTime": {
     "end_time": "2023-06-30T22:23:41.192669Z",
     "start_time": "2023-06-30T22:23:41.186537Z"
    }
   },
   "outputs": [],
   "source": [
    "explainer = shap.KernelExplainer(svm.predict_proba, X_clusters)"
   ]
  },
  {
   "cell_type": "code",
   "execution_count": 91,
   "metadata": {
    "ExecuteTime": {
     "end_time": "2023-06-30T22:24:50.189573Z",
     "start_time": "2023-06-30T22:23:41.380583Z"
    }
   },
   "outputs": [
    {
     "name": "stderr",
     "output_type": "stream",
     "text": [
      "100%|██████████| 172/172 [01:08<00:00,  2.50it/s]\n"
     ]
    }
   ],
   "source": [
    "shap_values = explainer.shap_values(X_test, n_samples=100)"
   ]
  },
  {
   "cell_type": "code",
   "execution_count": 92,
   "metadata": {
    "ExecuteTime": {
     "end_time": "2023-06-30T22:24:50.196229Z",
     "start_time": "2023-06-30T22:24:50.192047Z"
    }
   },
   "outputs": [
    {
     "data": {
      "text/plain": "<shap.plots._force.AdditiveForceVisualizer at 0x1bf35bbb0>",
      "text/html": "\n<div id='iEV6BI7LVE857HYEZIPLS'>\n<div style='color: #900; text-align: center;'>\n  <b>Visualization omitted, Javascript library not loaded!</b><br>\n  Have you run `initjs()` in this notebook? If this notebook was from another\n  user you must also trust this notebook (File -> Trust notebook). If you are viewing\n  this notebook on github the Javascript has been stripped for security. If you are using\n  JupyterLab this error is because a JupyterLab extension has not yet been written.\n</div></div>\n <script>\n   if (window.SHAP) SHAP.ReactDom.render(\n    SHAP.React.createElement(SHAP.AdditiveForceVisualizer, {\"outNames\": [\"f(x)\"], \"baseValue\": 0.9450761855608341, \"outValue\": 0.9403988929205993, \"link\": \"identity\", \"featureNames\": [\"Age\", \"Number_of_sexual_partners\", \"First_sexual_intercourse\", \"Num_of_pregnancies\", \"Smokes\", \"Smokes__years\", \"Hormonal_Contraceptives\", \"Hormonal_Contraceptives__years\", \"IUD\", \"IUD__years\", \"STDs\", \"STDs__Number_of_diagnosis\", \"STDs__Time_since_first_diagnosis\", \"STDs__Time_since_last_diagnosis\"], \"features\": {\"0\": {\"effect\": -0.00672945417133549, \"value\": 25.0}, \"2\": {\"effect\": -0.0011895184325868649, \"value\": 18.0}, \"3\": {\"effect\": 0.0011673079457369276, \"value\": 2.0}, \"4\": {\"effect\": -0.000643117150797515, \"value\": 0.0}, \"5\": {\"effect\": 0.002157694807849937, \"value\": 0.0}, \"7\": {\"effect\": 0.0015079821737467452, \"value\": 0.25}, \"9\": {\"effect\": -0.000948187812848493, \"value\": 0.0}}, \"plot_cmap\": \"RdBu\", \"labelMargin\": 20}),\n    document.getElementById('iEV6BI7LVE857HYEZIPLS')\n  );\n</script>"
     },
     "execution_count": 92,
     "metadata": {},
     "output_type": "execute_result"
    }
   ],
   "source": [
    "shap.force_plot(explainer.expected_value[0], shap_values[0][0,:], X_test[0:1])"
   ]
  },
  {
   "cell_type": "markdown",
   "metadata": {},
   "source": [
    "We can see `Age=25` pushes the probability of having cancer *down*\n",
    "\n",
    "We can create these force plots for every datapoin and stack them vertically"
   ]
  },
  {
   "cell_type": "code",
   "execution_count": 93,
   "metadata": {
    "ExecuteTime": {
     "end_time": "2023-06-30T22:24:50.230663Z",
     "start_time": "2023-06-30T22:24:50.202622Z"
    }
   },
   "outputs": [
    {
     "data": {
      "text/plain": "<shap.plots._force.AdditiveForceArrayVisualizer at 0x1bf35b190>",
      "text/html": "\n<div id='iW1UPX7WTJT4JPUJET5U2'>\n<div style='color: #900; text-align: center;'>\n  <b>Visualization omitted, Javascript library not loaded!</b><br>\n  Have you run `initjs()` in this notebook? If this notebook was from another\n  user you must also trust this notebook (File -> Trust notebook). If you are viewing\n  this notebook on github the Javascript has been stripped for security. If you are using\n  JupyterLab this error is because a JupyterLab extension has not yet been written.\n</div></div>\n <script>\n   if (window.SHAP) SHAP.ReactDom.render(\n    SHAP.React.createElement(SHAP.AdditiveForceArrayVisualizer, {\"outNames\": [\"f(x)\"], \"baseValue\": 0.9450761855608341, \"link\": \"identity\", \"featureNames\": [\"Age\", \"Number_of_sexual_partners\", \"First_sexual_intercourse\", \"Num_of_pregnancies\", \"Smokes\", \"Smokes__years\", \"Hormonal_Contraceptives\", \"Hormonal_Contraceptives__years\", \"IUD\", \"IUD__years\", \"STDs\", \"STDs__Number_of_diagnosis\", \"STDs__Time_since_first_diagnosis\", \"STDs__Time_since_last_diagnosis\"], \"explanations\": [{\"outValue\": 0.9403988929205993, \"simIndex\": 97.0, \"features\": {\"0\": {\"effect\": -0.00672945417133549, \"value\": 25.0}, \"1\": {\"effect\": 0.0, \"value\": 2.0}, \"2\": {\"effect\": -0.0011895184325868649, \"value\": 18.0}, \"3\": {\"effect\": 0.0011673079457369276, \"value\": 2.0}, \"4\": {\"effect\": -0.000643117150797515, \"value\": 0.0}, \"5\": {\"effect\": 0.002157694807849937, \"value\": 0.0}, \"6\": {\"effect\": 0.0, \"value\": 1.0}, \"7\": {\"effect\": 0.0015079821737467452, \"value\": 0.25}, \"8\": {\"effect\": 0.0, \"value\": 0.0}, \"9\": {\"effect\": -0.000948187812848493, \"value\": 0.0}, \"10\": {\"effect\": 0.0, \"value\": 0.0}, \"11\": {\"effect\": 0.0, \"value\": 0.0}, \"12\": {\"effect\": 0.0, \"value\": 1.0}, \"13\": {\"effect\": 0.0, \"value\": 1.0}}}, {\"outValue\": 0.9392702621289876, \"simIndex\": 34.0, \"features\": {\"0\": {\"effect\": -0.004031318921670548, \"value\": 35.0}, \"1\": {\"effect\": 0.0, \"value\": 5.0}, \"2\": {\"effect\": 0.0016959397423094273, \"value\": 15.0}, \"3\": {\"effect\": -0.0011352633789216866, \"value\": 4.0}, \"4\": {\"effect\": -0.00030485968145967015, \"value\": 0.0}, \"5\": {\"effect\": 0.0, \"value\": 0.0}, \"6\": {\"effect\": 0.0, \"value\": 0.0}, \"7\": {\"effect\": 0.0010404183834032067, \"value\": 0.0}, \"8\": {\"effect\": 0.0, \"value\": 0.0}, \"9\": {\"effect\": -0.0011253770379679381, \"value\": 0.0}, \"10\": {\"effect\": 0.0, \"value\": 0.0}, \"11\": {\"effect\": 0.0, \"value\": 0.0}, \"12\": {\"effect\": -0.000771939200426508, \"value\": 1.0}, \"13\": {\"effect\": -0.0011735233371127762, \"value\": 1.0}}}, {\"outValue\": 0.9408565968944255, \"simIndex\": 7.0, \"features\": {\"0\": {\"effect\": -0.006564976829550758, \"value\": 28.0}, \"1\": {\"effect\": 0.000513037132690135, \"value\": 1.0}, \"2\": {\"effect\": -0.007818361618346044, \"value\": 24.0}, \"3\": {\"effect\": 0.0012653332254255441, \"value\": 2.0}, \"4\": {\"effect\": -0.0007234955898923342, \"value\": 0.0}, \"5\": {\"effect\": 0.008697313670664631, \"value\": 0.0}, \"6\": {\"effect\": 0.0, \"value\": 1.0}, \"7\": {\"effect\": 0.002300801242141815, \"value\": 0.5}, \"8\": {\"effect\": 0.0, \"value\": 0.0}, \"9\": {\"effect\": -0.00140690275280653, \"value\": 0.0}, \"10\": {\"effect\": 0.0, \"value\": 0.0}, \"11\": {\"effect\": 0.0, \"value\": 0.0}, \"12\": {\"effect\": 0.0, \"value\": 1.0}, \"13\": {\"effect\": -0.00048233714673504924, \"value\": 1.0}}}, {\"outValue\": 0.9401919732867973, \"simIndex\": 33.0, \"features\": {\"0\": {\"effect\": -0.003605177381455411, \"value\": 36.0}, \"1\": {\"effect\": 0.0, \"value\": 2.0}, \"2\": {\"effect\": 0.00130637972209898, \"value\": 15.0}, \"3\": {\"effect\": 0.0, \"value\": 3.0}, \"4\": {\"effect\": -0.0004344981886153412, \"value\": 0.0}, \"5\": {\"effect\": -0.0008634142928778494, \"value\": 0.0}, \"6\": {\"effect\": 0.0, \"value\": 0.0}, \"7\": {\"effect\": 0.0012408927747909568, \"value\": 0.0}, \"8\": {\"effect\": 0.0, \"value\": 0.0}, \"9\": {\"effect\": -0.0009754391040451499, \"value\": 0.0}, \"10\": {\"effect\": -0.0003461439362083159, \"value\": 1.0}, \"11\": {\"effect\": 0.0013409065736513447, \"value\": 1.0}, \"12\": {\"effect\": -0.0010477517515343705, \"value\": 1.0}, \"13\": {\"effect\": -0.0014999666898416354, \"value\": 1.0}}}, {\"outValue\": 0.9395461087067349, \"simIndex\": 113.0, \"features\": {\"0\": {\"effect\": -0.003146421481137692, \"value\": 41.0}, \"1\": {\"effect\": 0.0, \"value\": 3.0}, \"2\": {\"effect\": -0.0012017032211723557, \"value\": 18.0}, \"3\": {\"effect\": -0.0008355657577991649, \"value\": 4.0}, \"4\": {\"effect\": -0.0003607407636400284, \"value\": 0.0}, \"5\": {\"effect\": 0.0024560034503686313, \"value\": 0.0}, \"6\": {\"effect\": 0.0, \"value\": 1.0}, \"7\": {\"effect\": 0.0009463170264593168, \"value\": 1.0}, \"8\": {\"effect\": 0.0, \"value\": 0.0}, \"9\": {\"effect\": -0.0016721407606816517, \"value\": 0.0}, \"10\": {\"effect\": 0.0, \"value\": 0.0}, \"11\": {\"effect\": -0.0002598475178515543, \"value\": 0.0}, \"12\": {\"effect\": -0.0004998101689124475, \"value\": 1.0}, \"13\": {\"effect\": -0.0009561676597321742, \"value\": 1.0}}}, {\"outValue\": 0.9400724750367699, \"simIndex\": 96.0, \"features\": {\"0\": {\"effect\": -0.007722425965729243, \"value\": 23.0}, \"1\": {\"effect\": 0.0, \"value\": 1.0}, \"2\": {\"effect\": -0.0011865678593515503, \"value\": 18.0}, \"3\": {\"effect\": 0.0009785182136710815, \"value\": 2.0}, \"4\": {\"effect\": -0.0006851434202730243, \"value\": 0.0}, \"5\": {\"effect\": 0.0018341723104808938, \"value\": 0.0}, \"6\": {\"effect\": 0.0, \"value\": 1.0}, \"7\": {\"effect\": 0.0008889432013737472, \"value\": 1.0}, \"8\": {\"effect\": 0.0, \"value\": 0.0}, \"9\": {\"effect\": -0.001214629778498995, \"value\": 0.0}, \"10\": {\"effect\": 0.0, \"value\": 0.0}, \"11\": {\"effect\": 0.0, \"value\": 0.0}, \"12\": {\"effect\": 0.0014388279690575575, \"value\": 1.0}, \"13\": {\"effect\": 0.0006645948052054112, \"value\": 1.0}}}, {\"outValue\": 0.9170227067568519, \"simIndex\": 139.0, \"features\": {\"0\": {\"effect\": -0.004541979922112213, \"value\": 38.0}, \"1\": {\"effect\": 0.0, \"value\": 2.0}, \"2\": {\"effect\": -0.0014765699853904989, \"value\": 15.0}, \"3\": {\"effect\": 0.0011654432853728525, \"value\": 2.0}, \"4\": {\"effect\": -0.0003752601555050382, \"value\": 0.0}, \"5\": {\"effect\": -0.007491151938338929, \"value\": 0.0}, \"6\": {\"effect\": 0.0, \"value\": 1.0}, \"7\": {\"effect\": -0.0008453185831716996, \"value\": 0.5}, \"8\": {\"effect\": 0.0, \"value\": 1.0}, \"9\": {\"effect\": -0.009446504981953579, \"value\": 19.0}, \"10\": {\"effect\": 0.0, \"value\": 0.0}, \"11\": {\"effect\": -0.00020011670184900965, \"value\": 0.0}, \"12\": {\"effect\": -0.0022725948804746317, \"value\": 1.0}, \"13\": {\"effect\": -0.002569424940559374, \"value\": 1.0}}}, {\"outValue\": 0.9388424068460469, \"simIndex\": 43.0, \"features\": {\"0\": {\"effect\": -0.0042089638913780205, \"value\": 36.0}, \"1\": {\"effect\": 0.0, \"value\": 2.0}, \"2\": {\"effect\": 0.0, \"value\": 16.0}, \"3\": {\"effect\": -0.0021574537170958546, \"value\": 5.0}, \"4\": {\"effect\": -0.00036511946373752116, \"value\": 0.0}, \"5\": {\"effect\": 0.0015226996656516419, \"value\": 0.0}, \"6\": {\"effect\": -0.0001694978481103981, \"value\": 1.0}, \"7\": {\"effect\": 0.0017692315644284042, \"value\": 0.16}, \"8\": {\"effect\": 0.0, \"value\": 0.0}, \"9\": {\"effect\": -0.0010843665412389246, \"value\": 0.0}, \"10\": {\"effect\": 0.0, \"value\": 0.0}, \"11\": {\"effect\": -0.00015353698513392768, \"value\": 0.0}, \"12\": {\"effect\": -0.0005017625211600611, \"value\": 1.0}, \"13\": {\"effect\": -0.000885008977012481, \"value\": 1.0}}}, {\"outValue\": 0.9829876259522561, \"simIndex\": 2.0, \"features\": {\"0\": {\"effect\": 0.020475121332943907, \"value\": 52.0}, \"1\": {\"effect\": 0.0, \"value\": 5.0}, \"2\": {\"effect\": 0.0020243238586094454, \"value\": 16.0}, \"3\": {\"effect\": -0.001172305991344845, \"value\": 4.0}, \"4\": {\"effect\": 0.0006626457210165207, \"value\": 1.0}, \"5\": {\"effect\": 0.02372205413724313, \"value\": 37.0}, \"6\": {\"effect\": 0.0, \"value\": 1.0}, \"7\": {\"effect\": 0.0, \"value\": 3.0}, \"8\": {\"effect\": 0.0, \"value\": 0.0}, \"9\": {\"effect\": -0.004076373981832283, \"value\": 0.0}, \"10\": {\"effect\": 0.0, \"value\": 0.0}, \"11\": {\"effect\": 0.0, \"value\": 0.0}, \"12\": {\"effect\": -0.001909521478379684, \"value\": 1.0}, \"13\": {\"effect\": -0.0018145032068341699, \"value\": 1.0}}}, {\"outValue\": 0.9671563037652434, \"simIndex\": 168.0, \"features\": {\"0\": {\"effect\": 0.017050018931850354, \"value\": 70.0}, \"1\": {\"effect\": 0.0, \"value\": 1.0}, \"2\": {\"effect\": -0.0007712590436668373, \"value\": 16.0}, \"3\": {\"effect\": -0.004347700593426369, \"value\": 10.0}, \"4\": {\"effect\": 0.0, \"value\": 0.0}, \"5\": {\"effect\": -0.0035005220634567007, \"value\": 0.0}, \"6\": {\"effect\": 0.0, \"value\": 0.0}, \"7\": {\"effect\": -0.0008066242370224092, \"value\": 0.0}, \"8\": {\"effect\": 0.0, \"value\": 1.0}, \"9\": {\"effect\": 0.010684137960290219, \"value\": 3.0}, \"10\": {\"effect\": 0.0, \"value\": 0.0}, \"11\": {\"effect\": 0.0, \"value\": 0.0}, \"12\": {\"effect\": 0.001980390974950088, \"value\": 1.0}, \"13\": {\"effect\": 0.0017916762748910152, \"value\": 1.0}}}, {\"outValue\": 0.828046764973632, \"simIndex\": 172.0, \"features\": {\"0\": {\"effect\": 0.019216454930859585, \"value\": 35.0}, \"1\": {\"effect\": -0.0003298978248780157, \"value\": 3.0}, \"2\": {\"effect\": 0.0018216455541644402, \"value\": 17.0}, \"3\": {\"effect\": -0.010515604801910876, \"value\": 4.0}, \"4\": {\"effect\": 1.832070241222783e-06, \"value\": 0.0}, \"5\": {\"effect\": -0.020883003656783528, \"value\": 0.0}, \"6\": {\"effect\": -0.0009672890739066548, \"value\": 1.0}, \"7\": {\"effect\": -0.024822261404579347, \"value\": 7.0}, \"8\": {\"effect\": 0.0013669784095248216, \"value\": 1.0}, \"9\": {\"effect\": -0.0022613538643018044, \"value\": 0.08}, \"10\": {\"effect\": -0.0013133629558192417, \"value\": 1.0}, \"11\": {\"effect\": 0.001480370687036013, \"value\": 1.0}, \"12\": {\"effect\": -0.04248987964666083, \"value\": 19.0}, \"13\": {\"effect\": -0.03733404901018779, \"value\": 19.0}}}, {\"outValue\": 0.9040836297761595, \"simIndex\": 167.0, \"features\": {\"0\": {\"effect\": -0.02456217471335003, \"value\": 79.0}, \"1\": {\"effect\": 0.0, \"value\": 2.0}, \"2\": {\"effect\": -0.0010550228984410603, \"value\": 16.0}, \"3\": {\"effect\": 0.0, \"value\": 5.0}, \"4\": {\"effect\": 0.0, \"value\": 0.0}, \"5\": {\"effect\": -0.0045056443320315945, \"value\": 0.0}, \"6\": {\"effect\": 0.0, \"value\": 0.0}, \"7\": {\"effect\": -0.006109897935463356, \"value\": 0.0}, \"8\": {\"effect\": 0.0, \"value\": 0.0}, \"9\": {\"effect\": -0.005693278337011271, \"value\": 0.0}, \"10\": {\"effect\": 0.0, \"value\": 0.0}, \"11\": {\"effect\": 0.0, \"value\": 0.0}, \"12\": {\"effect\": 0.0009334624316227752, \"value\": 1.0}, \"13\": {\"effect\": 0.0, \"value\": 1.0}}}, {\"outValue\": 0.9468850374988589, \"simIndex\": 122.0, \"features\": {\"0\": {\"effect\": -0.0024114518502856928, \"value\": 34.0}, \"1\": {\"effect\": 0.0, \"value\": 2.0}, \"2\": {\"effect\": -0.005013092135826753, \"value\": 21.0}, \"3\": {\"effect\": 0.003971491956229906, \"value\": 1.0}, \"4\": {\"effect\": -0.0004836170160959184, \"value\": 0.0}, \"5\": {\"effect\": -0.00039014059464451394, \"value\": 0.0}, \"6\": {\"effect\": 0.0, \"value\": 0.0}, \"7\": {\"effect\": 0.007180588156554756, \"value\": 0.0}, \"8\": {\"effect\": 0.0, \"value\": 0.0}, \"9\": {\"effect\": -0.0010582366812581883, \"value\": 0.0}, \"10\": {\"effect\": 0.0, \"value\": 1.0}, \"11\": {\"effect\": 0.002023084513504858, \"value\": 1.0}, \"12\": {\"effect\": -0.0012157653705865818, \"value\": 4.0}, \"13\": {\"effect\": -0.0007940090395670467, \"value\": 4.0}}}, {\"outValue\": 0.940007030178557, \"simIndex\": 18.0, \"features\": {\"0\": {\"effect\": -0.005705671201728988, \"value\": 26.0}, \"1\": {\"effect\": 0.0, \"value\": 4.0}, \"2\": {\"effect\": 0.0, \"value\": 17.0}, \"3\": {\"effect\": -0.0008080872792117547, \"value\": 4.0}, \"4\": {\"effect\": 0.0017691007071667113, \"value\": 1.0}, \"5\": {\"effect\": -0.0006618895815852953, \"value\": 2.0}, \"6\": {\"effect\": 0.0, \"value\": 0.0}, \"7\": {\"effect\": 0.0015867652197540248, \"value\": 0.0}, \"8\": {\"effect\": 0.0, \"value\": 0.0}, \"9\": {\"effect\": -0.0009262329909368512, \"value\": 0.0}, \"10\": {\"effect\": 0.0, \"value\": 0.0}, \"11\": {\"effect\": 0.0, \"value\": 0.0}, \"12\": {\"effect\": 0.0, \"value\": 1.0}, \"13\": {\"effect\": -0.0003231402557348816, \"value\": 1.0}}}, {\"outValue\": 0.9385727045671248, \"simIndex\": 78.0, \"features\": {\"0\": {\"effect\": -0.007549934256842478, \"value\": 26.0}, \"1\": {\"effect\": 0.0, \"value\": 2.0}, \"2\": {\"effect\": -0.003536778365936329, \"value\": 20.0}, \"3\": {\"effect\": 0.0013647704328906387, \"value\": 2.0}, \"4\": {\"effect\": -0.0006710902746615332, \"value\": 0.0}, \"5\": {\"effect\": 0.002890066358725611, \"value\": 0.0}, \"6\": {\"effect\": 0.0, \"value\": 1.0}, \"7\": {\"effect\": -0.0018468772412790126, \"value\": 6.0}, \"8\": {\"effect\": 0.0, \"value\": 0.0}, \"9\": {\"effect\": -0.001341551937469175, \"value\": 0.0}, \"10\": {\"effect\": 0.0, \"value\": 0.0}, \"11\": {\"effect\": 0.0, \"value\": 0.0}, \"12\": {\"effect\": 0.0024255709716485673, \"value\": 1.0}, \"13\": {\"effect\": 0.001762343319214479, \"value\": 1.0}}}, {\"outValue\": 0.934063843016924, \"simIndex\": 166.0, \"features\": {\"0\": {\"effect\": -0.014722785638193878, \"value\": 19.0}, \"1\": {\"effect\": 0.0, \"value\": 2.0}, \"2\": {\"effect\": 0.00084133052555963, \"value\": 15.0}, \"3\": {\"effect\": 0.0015973372430239177, \"value\": 2.0}, \"4\": {\"effect\": -0.0007606120918250111, \"value\": 0.0}, \"5\": {\"effect\": -0.0028138022904105747, \"value\": 0.0}, \"6\": {\"effect\": 0.0, \"value\": 1.0}, \"7\": {\"effect\": 0.002838752354428712, \"value\": 1.0}, \"8\": {\"effect\": 0.0, \"value\": 0.0}, \"9\": {\"effect\": -0.001422316775724639, \"value\": 0.0}, \"10\": {\"effect\": -0.000422891403917487, \"value\": 1.0}, \"11\": {\"effect\": 0.00293821490999054, \"value\": 2.0}, \"12\": {\"effect\": -0.0012481787095751633, \"value\": 5.0}, \"13\": {\"effect\": 0.002162609332733918, \"value\": 2.0}}}, {\"outValue\": 0.9405344063676881, \"simIndex\": 105.0, \"features\": {\"0\": {\"effect\": -0.004866523760831959, \"value\": 31.0}, \"1\": {\"effect\": 0.0, \"value\": 2.0}, \"2\": {\"effect\": -0.00133604493246626, \"value\": 18.0}, \"3\": {\"effect\": 0.0012851121905850813, \"value\": 2.0}, \"4\": {\"effect\": -0.0005595359617865468, \"value\": 0.0}, \"5\": {\"effect\": 0.002296525281337455, \"value\": 0.0}, \"6\": {\"effect\": 0.0, \"value\": 0.0}, \"7\": {\"effect\": 0.001746006380979972, \"value\": 0.0}, \"8\": {\"effect\": 0.0, \"value\": 0.0}, \"9\": {\"effect\": -0.0010169997772034184, \"value\": 0.0}, \"10\": {\"effect\": 0.0, \"value\": 0.0}, \"11\": {\"effect\": 0.0, \"value\": 0.0}, \"12\": {\"effect\": -0.0007854086104165047, \"value\": 1.0}, \"13\": {\"effect\": -0.0013049100033437305, \"value\": 1.0}}}, {\"outValue\": 0.9384818766590451, \"simIndex\": 150.0, \"features\": {\"0\": {\"effect\": -0.014572334915924268, \"value\": 16.0}, \"1\": {\"effect\": 0.0, \"value\": 2.0}, \"2\": {\"effect\": 0.0004902756331793502, \"value\": 16.0}, \"3\": {\"effect\": 0.0018338200981886364, \"value\": 1.0}, \"4\": {\"effect\": -0.00047648835115494254, \"value\": 0.0}, \"5\": {\"effect\": 0.0, \"value\": 0.0}, \"6\": {\"effect\": 0.0, \"value\": 1.0}, \"7\": {\"effect\": 0.0, \"value\": 0.08}, \"8\": {\"effect\": 0.0, \"value\": 0.0}, \"9\": {\"effect\": -0.001193398985135965, \"value\": 0.0}, \"10\": {\"effect\": 0.0, \"value\": 0.0}, \"11\": {\"effect\": 0.0, \"value\": 0.0}, \"12\": {\"effect\": 0.004022255915326652, \"value\": 1.0}, \"13\": {\"effect\": 0.003301561703731625, \"value\": 1.0}}}, {\"outValue\": 0.9398186249170651, \"simIndex\": 50.0, \"features\": {\"0\": {\"effect\": -0.009734439088436443, \"value\": 21.0}, \"1\": {\"effect\": 0.0, \"value\": 4.0}, \"2\": {\"effect\": 0.0015548474266448703, \"value\": 15.0}, \"3\": {\"effect\": 0.0018598540629664096, \"value\": 1.0}, \"4\": {\"effect\": -0.0005836980200718475, \"value\": 0.0}, \"5\": {\"effect\": -0.0007028389411419551, \"value\": 0.0}, \"6\": {\"effect\": 0.0, \"value\": 0.0}, \"7\": {\"effect\": 0.0008692698320537603, \"value\": 0.0}, \"8\": {\"effect\": 0.0, \"value\": 0.0}, \"9\": {\"effect\": -0.0010837680704409523, \"value\": 0.0}, \"10\": {\"effect\": 0.0, \"value\": 0.0}, \"11\": {\"effect\": 0.0, \"value\": 0.0}, \"12\": {\"effect\": 0.0015750235819117914, \"value\": 1.0}, \"13\": {\"effect\": 0.0009881885727454458, \"value\": 1.0}}}, {\"outValue\": 0.9404594310808436, \"simIndex\": 143.0, \"features\": {\"0\": {\"effect\": -0.01588739184538621, \"value\": 15.0}, \"1\": {\"effect\": 0.0, \"value\": 1.0}, \"2\": {\"effect\": 0.0029007560991149185, \"value\": 13.0}, \"3\": {\"effect\": 0.0019211377784372039, \"value\": 1.0}, \"4\": {\"effect\": 0.0011240044244314054, \"value\": 1.0}, \"5\": {\"effect\": -0.002435560043656565, \"value\": 1.0}, \"6\": {\"effect\": 0.0, \"value\": 1.0}, \"7\": {\"effect\": 0.0003470051497352442, \"value\": 0.0}, \"8\": {\"effect\": 0.0, \"value\": 0.0}, \"9\": {\"effect\": -0.0011962148722419247, \"value\": 0.0}, \"10\": {\"effect\": 0.0, \"value\": 0.0}, \"11\": {\"effect\": 0.0, \"value\": 0.0}, \"12\": {\"effect\": 0.004605948646510306, \"value\": 1.0}, \"13\": {\"effect\": 0.004003560183065184, \"value\": 1.0}}}, {\"outValue\": 0.940484239373232, \"simIndex\": 19.0, \"features\": {\"0\": {\"effect\": -0.0058824790380511555, \"value\": 26.0}, \"1\": {\"effect\": 0.0, \"value\": 4.0}, \"2\": {\"effect\": 0.0004891171168186124, \"value\": 16.0}, \"3\": {\"effect\": 0.0, \"value\": 3.0}, \"4\": {\"effect\": -0.0005981543323527363, \"value\": 0.0}, \"5\": {\"effect\": 0.000734344574420168, \"value\": 0.0}, \"6\": {\"effect\": 0.0, \"value\": 1.0}, \"7\": {\"effect\": 0.0016126927912671644, \"value\": 0.0}, \"8\": {\"effect\": 0.0, \"value\": 0.0}, \"9\": {\"effect\": -0.0009474672997041118, \"value\": 0.0}, \"10\": {\"effect\": 0.0, \"value\": 0.0}, \"11\": {\"effect\": 0.0, \"value\": 0.0}, \"12\": {\"effect\": 0.0, \"value\": 1.0}, \"13\": {\"effect\": 0.0, \"value\": 1.0}}}, {\"outValue\": 0.939018851657502, \"simIndex\": 151.0, \"features\": {\"0\": {\"effect\": -0.01440539507608616, \"value\": 16.0}, \"1\": {\"effect\": 0.0, \"value\": 1.0}, \"2\": {\"effect\": 0.0011370683348634527, \"value\": 15.0}, \"3\": {\"effect\": 0.001987630418883261, \"value\": 1.0}, \"4\": {\"effect\": -0.0005980133623614192, \"value\": 0.0}, \"5\": {\"effect\": -0.0007045186099641602, \"value\": 0.0}, \"6\": {\"effect\": 0.0, \"value\": 0.0}, \"7\": {\"effect\": 0.0005877900837514966, \"value\": 0.0}, \"8\": {\"effect\": 0.0, \"value\": 0.0}, \"9\": {\"effect\": -0.0014402150006530123, \"value\": 0.0}, \"10\": {\"effect\": 0.0, \"value\": 0.0}, \"11\": {\"effect\": 0.0, \"value\": 0.0}, \"12\": {\"effect\": 0.003929464068377573, \"value\": 1.0}, \"13\": {\"effect\": 0.0034488552398568954, \"value\": 1.0}}}, {\"outValue\": 0.9406268917209113, \"simIndex\": 41.0, \"features\": {\"0\": {\"effect\": -0.004160185279433274, \"value\": 33.0}, \"1\": {\"effect\": 0.0, \"value\": 3.0}, \"2\": {\"effect\": 0.0006157760691524222, \"value\": 16.0}, \"3\": {\"effect\": 0.0012450658929943094, \"value\": 2.0}, \"4\": {\"effect\": 0.0, \"value\": 0.0}, \"5\": {\"effect\": 0.0004693866597590239, \"value\": 0.0}, \"6\": {\"effect\": 0.0, \"value\": 0.0}, \"7\": {\"effect\": 0.0011244209005490495, \"value\": 0.0}, \"8\": {\"effect\": 0.0, \"value\": 0.0}, \"9\": {\"effect\": -0.0009816225030353557, \"value\": 0.0}, \"10\": {\"effect\": 0.0, \"value\": 0.0}, \"11\": {\"effect\": 0.0, \"value\": 0.0}, \"12\": {\"effect\": -0.0011597293938880398, \"value\": 1.0}, \"13\": {\"effect\": -0.001602406186020899, \"value\": 1.0}}}, {\"outValue\": 0.9389248580327406, \"simIndex\": 163.0, \"features\": {\"0\": {\"effect\": -0.011558624454629721, \"value\": 19.0}, \"1\": {\"effect\": 0.0, \"value\": 4.0}, \"2\": {\"effect\": 0.0018101849797862923, \"value\": 14.0}, \"3\": {\"effect\": 0.0017738935170441984, \"value\": 1.0}, \"4\": {\"effect\": -0.0006120441413584908, \"value\": 0.0}, \"5\": {\"effect\": -0.0012168895239499083, \"value\": 0.0}, \"6\": {\"effect\": 0.0, \"value\": 1.0}, \"7\": {\"effect\": 0.00048335270389336746, \"value\": 0.0}, \"8\": {\"effect\": 0.0, \"value\": 0.0}, \"9\": {\"effect\": -0.0009694982306116891, \"value\": 0.0}, \"10\": {\"effect\": 0.0, \"value\": 0.0}, \"11\": {\"effect\": 0.0, \"value\": 0.0}, \"12\": {\"effect\": 0.002351209752317503, \"value\": 1.0}, \"13\": {\"effect\": 0.001787087869415005, \"value\": 1.0}}}, {\"outValue\": 0.9381036594422792, \"simIndex\": 112.0, \"features\": {\"0\": {\"effect\": -0.0016387470280995325, \"value\": 45.0}, \"1\": {\"effect\": 0.0, \"value\": 1.0}, \"2\": {\"effect\": -0.0028798986255585144, \"value\": 20.0}, \"3\": {\"effect\": -0.0023797293749971376, \"value\": 5.0}, \"4\": {\"effect\": -0.0003731583662903433, \"value\": 0.0}, \"5\": {\"effect\": 0.002017054311924658, \"value\": 0.0}, \"6\": {\"effect\": 0.0, \"value\": 0.0}, \"7\": {\"effect\": 0.0013360594562232626, \"value\": 0.0}, \"8\": {\"effect\": 0.0, \"value\": 0.0}, \"9\": {\"effect\": -0.0020779976233859625, \"value\": 0.0}, \"10\": {\"effect\": 0.0, \"value\": 0.0}, \"11\": {\"effect\": 0.0, \"value\": 0.0}, \"12\": {\"effect\": -0.0003421765849502354, \"value\": 1.0}, \"13\": {\"effect\": -0.0006339322834210065, \"value\": 1.0}}}, {\"outValue\": 0.921046720321309, \"simIndex\": 127.0, \"features\": {\"0\": {\"effect\": -0.008961000388905814, \"value\": 24.0}, \"1\": {\"effect\": -0.00041570259092747405, \"value\": 4.0}, \"2\": {\"effect\": 0.0007440631764361952, \"value\": 17.0}, \"3\": {\"effect\": 0.004129113492732825, \"value\": 1.0}, \"4\": {\"effect\": 0.0019176183439285621, \"value\": 1.0}, \"5\": {\"effect\": -0.014147445454438584, \"value\": 9.0}, \"6\": {\"effect\": -0.0004042117157830906, \"value\": 1.0}, \"7\": {\"effect\": -0.001948089283265557, \"value\": 1.0}, \"8\": {\"effect\": 0.0, \"value\": 0.0}, \"9\": {\"effect\": -0.0014647753011544033, \"value\": 0.0}, \"10\": {\"effect\": 0.0, \"value\": 0.0}, \"11\": {\"effect\": -0.00035361223276978576, \"value\": 0.0}, \"12\": {\"effect\": -0.0013335641740692423, \"value\": 1.0}, \"13\": {\"effect\": -0.001791859111308726, \"value\": 1.0}}}, {\"outValue\": 0.940766187514145, \"simIndex\": 104.0, \"features\": {\"0\": {\"effect\": -0.00486447578025984, \"value\": 30.0}, \"1\": {\"effect\": 0.0, \"value\": 2.0}, \"2\": {\"effect\": -0.0012655255376803234, \"value\": 18.0}, \"3\": {\"effect\": 0.0021543588937433865, \"value\": 1.0}, \"4\": {\"effect\": -0.0005661107993351353, \"value\": 0.0}, \"5\": {\"effect\": 0.0017834974570377247, \"value\": 0.0}, \"6\": {\"effect\": 0.0, \"value\": 0.0}, \"7\": {\"effect\": 0.001582260035250422, \"value\": 0.0}, \"8\": {\"effect\": 0.0, \"value\": 0.0}, \"9\": {\"effect\": -0.0009137957548927263, \"value\": 0.0}, \"10\": {\"effect\": 0.0, \"value\": 0.0}, \"11\": {\"effect\": 0.0, \"value\": 0.0}, \"12\": {\"effect\": -0.0008794403233885232, \"value\": 1.0}, \"13\": {\"effect\": -0.0013407662371640646, \"value\": 1.0}}}, {\"outValue\": 0.9384409321045084, \"simIndex\": 60.0, \"features\": {\"0\": {\"effect\": -0.011942099062425486, \"value\": 19.0}, \"1\": {\"effect\": 0.0, \"value\": 3.0}, \"2\": {\"effect\": -0.0012678144938042517, \"value\": 18.0}, \"3\": {\"effect\": 0.0018185886829706847, \"value\": 1.0}, \"4\": {\"effect\": -0.000595478449675493, \"value\": 0.0}, \"5\": {\"effect\": 0.0016713437850284759, \"value\": 0.0}, \"6\": {\"effect\": 0.0, \"value\": 1.0}, \"7\": {\"effect\": 0.0, \"value\": 1.0}, \"8\": {\"effect\": 0.0, \"value\": 0.0}, \"9\": {\"effect\": -0.0012296941616488132, \"value\": 0.0}, \"10\": {\"effect\": 0.0, \"value\": 0.0}, \"11\": {\"effect\": 0.0, \"value\": 0.0}, \"12\": {\"effect\": 0.0027583802445357826, \"value\": 1.0}, \"13\": {\"effect\": 0.0021515199986934484, \"value\": 1.0}}}, {\"outValue\": 0.9342155395374823, \"simIndex\": 136.0, \"features\": {\"0\": {\"effect\": -0.006858187470446023, \"value\": 28.0}, \"1\": {\"effect\": 0.0, \"value\": 3.0}, \"2\": {\"effect\": 0.005680385278438993, \"value\": 16.0}, \"3\": {\"effect\": 0.0, \"value\": 3.0}, \"4\": {\"effect\": 0.0016109183263751138, \"value\": 1.0}, \"5\": {\"effect\": -0.008961160921077533, \"value\": 12.0}, \"6\": {\"effect\": -0.0004379696925432782, \"value\": 1.0}, \"7\": {\"effect\": -0.0005715280229295887, \"value\": 7.0}, \"8\": {\"effect\": 0.0, \"value\": 0.0}, \"9\": {\"effect\": -0.0019499707831459314, \"value\": 0.0}, \"10\": {\"effect\": 0.0, \"value\": 1.0}, \"11\": {\"effect\": 0.0023252010328680623, \"value\": 1.0}, \"12\": {\"effect\": -0.0007088610784379435, \"value\": 2.0}, \"13\": {\"effect\": -0.0009894726924536638, \"value\": 2.0}}}, {\"outValue\": 0.9393200598099352, \"simIndex\": 81.0, \"features\": {\"0\": {\"effect\": -0.008384601940800707, \"value\": 24.0}, \"1\": {\"effect\": 0.0, \"value\": 2.0}, \"2\": {\"effect\": -0.001246903552227281, \"value\": 18.0}, \"3\": {\"effect\": 0.002270395573554137, \"value\": 1.0}, \"4\": {\"effect\": -0.0006373235220556023, \"value\": 0.0}, \"5\": {\"effect\": 0.0010332307349105291, \"value\": 0.0}, \"6\": {\"effect\": 0.0, \"value\": 1.0}, \"7\": {\"effect\": -0.0012393337748015333, \"value\": 5.0}, \"8\": {\"effect\": 0.0, \"value\": 0.0}, \"9\": {\"effect\": -0.0013912867320715365, \"value\": 0.0}, \"10\": {\"effect\": 0.0, \"value\": 0.0}, \"11\": {\"effect\": 0.0, \"value\": 0.0}, \"12\": {\"effect\": 0.002204058251483465, \"value\": 1.0}, \"13\": {\"effect\": 0.0016356392111096301, \"value\": 1.0}}}, {\"outValue\": 0.9401289352167309, \"simIndex\": 103.0, \"features\": {\"0\": {\"effect\": -0.0044656081680317355, \"value\": 35.0}, \"1\": {\"effect\": 0.0, \"value\": 4.0}, \"2\": {\"effect\": -0.0013426358640959933, \"value\": 18.0}, \"3\": {\"effect\": 0.00261943558641054, \"value\": 1.0}, \"4\": {\"effect\": -0.0004438358977514633, \"value\": 0.0}, \"5\": {\"effect\": 0.0021541870713177765, \"value\": 0.0}, \"6\": {\"effect\": 0.0, \"value\": 1.0}, \"7\": {\"effect\": 0.0, \"value\": 2.0}, \"8\": {\"effect\": 0.0, \"value\": 0.0}, \"9\": {\"effect\": -0.0012911654670303687, \"value\": 0.0}, \"10\": {\"effect\": 0.0, \"value\": 0.0}, \"11\": {\"effect\": 0.0, \"value\": 0.0}, \"12\": {\"effect\": -0.0008809179776067839, \"value\": 1.0}, \"13\": {\"effect\": -0.001296709627315121, \"value\": 1.0}}}, {\"outValue\": 0.9401552499987964, \"simIndex\": 94.0, \"features\": {\"0\": {\"effect\": -0.007345448401157091, \"value\": 24.0}, \"1\": {\"effect\": 0.0, \"value\": 3.0}, \"2\": {\"effect\": -0.0012569937149555462, \"value\": 18.0}, \"3\": {\"effect\": 0.0010156936842963594, \"value\": 2.0}, \"4\": {\"effect\": -0.0006993064816440044, \"value\": 0.0}, \"5\": {\"effect\": 0.0021794235702975624, \"value\": 0.0}, \"6\": {\"effect\": 0.0, \"value\": 1.0}, \"7\": {\"effect\": 0.0015209095696235332, \"value\": 0.16}, \"8\": {\"effect\": 0.0, \"value\": 0.0}, \"9\": {\"effect\": -0.0010355728979014739, \"value\": 0.0}, \"10\": {\"effect\": 0.0, \"value\": 0.0}, \"11\": {\"effect\": 0.0, \"value\": 0.0}, \"12\": {\"effect\": 0.0007003591094030068, \"value\": 1.0}, \"13\": {\"effect\": 0.0, \"value\": 1.0}}}, {\"outValue\": 0.9388560426896886, \"simIndex\": 16.0, \"features\": {\"0\": {\"effect\": -0.006854619659169982, \"value\": 27.0}, \"1\": {\"effect\": 0.0, \"value\": 2.0}, \"2\": {\"effect\": 0.0017087840124974459, \"value\": 15.0}, \"3\": {\"effect\": 0.0, \"value\": 3.0}, \"4\": {\"effect\": -0.00044089615166391285, \"value\": 0.0}, \"5\": {\"effect\": -0.0014643369615620037, \"value\": 0.0}, \"6\": {\"effect\": 0.0, \"value\": 1.0}, \"7\": {\"effect\": -0.0016536595115685948, \"value\": 6.0}, \"8\": {\"effect\": 0.0, \"value\": 0.0}, \"9\": {\"effect\": -0.001195841632044256, \"value\": 0.0}, \"10\": {\"effect\": 0.0, \"value\": 0.0}, \"11\": {\"effect\": -0.0002738141436957244, \"value\": 0.0}, \"12\": {\"effect\": 0.0023020763318613007, \"value\": 1.0}, \"13\": {\"effect\": 0.001652164844200256, \"value\": 1.0}}}, {\"outValue\": 0.9400479450421984, \"simIndex\": 22.0, \"features\": {\"0\": {\"effect\": -0.006583941287475159, \"value\": 25.0}, \"1\": {\"effect\": 0.0, \"value\": 4.0}, \"2\": {\"effect\": 0.0014242180100556882, \"value\": 15.0}, \"3\": {\"effect\": 0.0, \"value\": 3.0}, \"4\": {\"effect\": -0.000642363536921455, \"value\": 0.0}, \"5\": {\"effect\": 0.0, \"value\": 0.0}, \"6\": {\"effect\": 0.0, \"value\": 1.0}, \"7\": {\"effect\": 0.0009234629157245473, \"value\": 1.0}, \"8\": {\"effect\": 0.0, \"value\": 0.0}, \"9\": {\"effect\": -0.0009668929146067721, \"value\": 0.0}, \"10\": {\"effect\": 0.0, \"value\": 0.0}, \"11\": {\"effect\": 0.0, \"value\": 0.0}, \"12\": {\"effect\": 0.0008172762945874434, \"value\": 1.0}, \"13\": {\"effect\": 0.0, \"value\": 1.0}}}, {\"outValue\": 0.9392395815261164, \"simIndex\": 63.0, \"features\": {\"0\": {\"effect\": -0.010499090680125125, \"value\": 20.0}, \"1\": {\"effect\": 0.0, \"value\": 2.0}, \"2\": {\"effect\": -0.0010359888892585716, \"value\": 18.0}, \"3\": {\"effect\": 0.0017928386441007124, \"value\": 1.0}, \"4\": {\"effect\": -0.0007136551486912317, \"value\": 0.0}, \"5\": {\"effect\": 0.0014465091318791755, \"value\": 0.0}, \"6\": {\"effect\": 0.0, \"value\": 1.0}, \"7\": {\"effect\": 0.0011177215311039333, \"value\": 0.08}, \"8\": {\"effect\": 0.0, \"value\": 0.0}, \"9\": {\"effect\": -0.0013304714715121416, \"value\": 0.0}, \"10\": {\"effect\": 0.0, \"value\": 0.0}, \"11\": {\"effect\": 0.0, \"value\": 0.0}, \"12\": {\"effect\": 0.0019918774981019806, \"value\": 1.0}, \"13\": {\"effect\": 0.0013936553496836281, \"value\": 1.0}}}, {\"outValue\": 0.9380531272372935, \"simIndex\": 107.0, \"features\": {\"0\": {\"effect\": -0.0052952705968708465, \"value\": 35.0}, \"1\": {\"effect\": 0.0, \"value\": 2.0}, \"2\": {\"effect\": -0.0038904104311871437, \"value\": 20.0}, \"3\": {\"effect\": 0.001152763900668736, \"value\": 2.0}, \"4\": {\"effect\": -0.0004754611693099991, \"value\": 0.0}, \"5\": {\"effect\": 0.00421171985814071, \"value\": 0.0}, \"6\": {\"effect\": 0.0, \"value\": 1.0}, \"7\": {\"effect\": 0.0010416970731737217, \"value\": 2.0}, \"8\": {\"effect\": 0.0, \"value\": 0.0}, \"9\": {\"effect\": -0.001964382600420681, \"value\": 0.0}, \"10\": {\"effect\": 0.0, \"value\": 0.0}, \"11\": {\"effect\": 0.0, \"value\": 0.0}, \"12\": {\"effect\": -0.0007806067205527625, \"value\": 1.0}, \"13\": {\"effect\": -0.0010231076371822866, \"value\": 1.0}}}, {\"outValue\": 0.9380838554384806, \"simIndex\": 142.0, \"features\": {\"0\": {\"effect\": -0.014727104044958262, \"value\": 18.0}, \"1\": {\"effect\": 0.0, \"value\": 5.0}, \"2\": {\"effect\": 0.0038929638339857226, \"value\": 14.0}, \"3\": {\"effect\": 0.0024254325287633906, \"value\": 1.0}, \"4\": {\"effect\": 0.0017357638741450077, \"value\": 1.0}, \"5\": {\"effect\": -0.0037847338572584684, \"value\": 3.0}, \"6\": {\"effect\": 0.0, \"value\": 1.0}, \"7\": {\"effect\": -0.0007444239670820699, \"value\": 2.0}, \"8\": {\"effect\": 0.0, \"value\": 0.0}, \"9\": {\"effect\": -0.0015157739172755374, \"value\": 0.0}, \"10\": {\"effect\": 0.0, \"value\": 0.0}, \"11\": {\"effect\": 0.0, \"value\": 0.0}, \"12\": {\"effect\": 0.00328143988811514, \"value\": 1.0}, \"13\": {\"effect\": 0.0024441055392116252, \"value\": 1.0}}}, {\"outValue\": 0.9238388080491957, \"simIndex\": 138.0, \"features\": {\"0\": {\"effect\": -0.007120057300243905, \"value\": 29.0}, \"1\": {\"effect\": 0.0, \"value\": 3.0}, \"2\": {\"effect\": 0.0010390265801385329, \"value\": 17.0}, \"3\": {\"effect\": 0.0, \"value\": 3.0}, \"4\": {\"effect\": 0.0015592657136530349, \"value\": 1.0}, \"5\": {\"effect\": -0.012394473792439992, \"value\": 10.0}, \"6\": {\"effect\": -0.00029052058159249883, \"value\": 1.0}, \"7\": {\"effect\": 0.0, \"value\": 6.0}, \"8\": {\"effect\": 0.0, \"value\": 0.0}, \"9\": {\"effect\": -0.0017907326733843359, \"value\": 0.0}, \"10\": {\"effect\": 0.0, \"value\": 0.0}, \"11\": {\"effect\": -0.00027354248922983534, \"value\": 0.0}, \"12\": {\"effect\": -0.0007173958037417077, \"value\": 1.0}, \"13\": {\"effect\": -0.0012489471647976376, \"value\": 1.0}}}, {\"outValue\": 0.93926320417954, \"simIndex\": 82.0, \"features\": {\"0\": {\"effect\": -0.008253411974790629, \"value\": 25.0}, \"1\": {\"effect\": 0.0, \"value\": 2.0}, \"2\": {\"effect\": -0.001270623791491835, \"value\": 18.0}, \"3\": {\"effect\": 0.0016167620329530412, \"value\": 2.0}, \"4\": {\"effect\": -0.0006456192612209486, \"value\": 0.0}, \"5\": {\"effect\": 0.0007659794841202907, \"value\": 0.0}, \"6\": {\"effect\": 0.0, \"value\": 1.0}, \"7\": {\"effect\": -0.002505280956199764, \"value\": 7.0}, \"8\": {\"effect\": 0.0, \"value\": 0.0}, \"9\": {\"effect\": -0.001465345231141662, \"value\": 0.0}, \"10\": {\"effect\": 0.0, \"value\": 0.0}, \"11\": {\"effect\": 0.0, \"value\": 0.0}, \"12\": {\"effect\": 0.0033605199212824017, \"value\": 1.0}, \"13\": {\"effect\": 0.0025840383951950593, \"value\": 1.0}}}, {\"outValue\": 0.9402793338588654, \"simIndex\": 92.0, \"features\": {\"0\": {\"effect\": -0.007801252145806671, \"value\": 23.0}, \"1\": {\"effect\": 0.0, \"value\": 3.0}, \"2\": {\"effect\": 0.0, \"value\": 17.0}, \"3\": {\"effect\": 0.0010910462071542105, \"value\": 2.0}, \"4\": {\"effect\": -0.0006052775278317657, \"value\": 0.0}, \"5\": {\"effect\": 0.0010077427689063048, \"value\": 0.0}, \"6\": {\"effect\": 0.0, \"value\": 0.0}, \"7\": {\"effect\": 0.0015083807464521006, \"value\": 0.0}, \"8\": {\"effect\": 0.0, \"value\": 0.0}, \"9\": {\"effect\": -0.0010105056821883892, \"value\": 0.0}, \"10\": {\"effect\": 0.0, \"value\": 0.0}, \"11\": {\"effect\": 0.0, \"value\": 0.0}, \"12\": {\"effect\": 0.0010130139313455694, \"value\": 1.0}, \"13\": {\"effect\": 0.0, \"value\": 1.0}}}, {\"outValue\": 0.9405181062155176, \"simIndex\": 90.0, \"features\": {\"0\": {\"effect\": -0.005040476852682429, \"value\": 33.0}, \"1\": {\"effect\": 0.0, \"value\": 4.0}, \"2\": {\"effect\": -0.001057228125861399, \"value\": 18.0}, \"3\": {\"effect\": 0.0, \"value\": 3.0}, \"4\": {\"effect\": 0.0, \"value\": 0.0}, \"5\": {\"effect\": 0.002023220407048495, \"value\": 0.0}, \"6\": {\"effect\": 0.0, \"value\": 1.0}, \"7\": {\"effect\": 0.0, \"value\": 5.0}, \"8\": {\"effect\": 0.0, \"value\": 0.0}, \"9\": {\"effect\": -0.0012984532580241287, \"value\": 0.0}, \"10\": {\"effect\": 0.0, \"value\": 0.0}, \"11\": {\"effect\": 0.0, \"value\": 0.0}, \"12\": {\"effect\": 0.0008148584842029719, \"value\": 1.0}, \"13\": {\"effect\": 0.0, \"value\": 1.0}}}, {\"outValue\": 0.9394256125371914, \"simIndex\": 79.0, \"features\": {\"0\": {\"effect\": -0.008815527656503543, \"value\": 24.0}, \"1\": {\"effect\": 0.0, \"value\": 2.0}, \"2\": {\"effect\": -0.0024879446789699694, \"value\": 19.0}, \"3\": {\"effect\": 0.002536390841742262, \"value\": 1.0}, \"4\": {\"effect\": -0.0005833790526517122, \"value\": 0.0}, \"5\": {\"effect\": 0.0018767079658562845, \"value\": 0.0}, \"6\": {\"effect\": 0.0, \"value\": 1.0}, \"7\": {\"effect\": -0.0017596648347553935, \"value\": 6.0}, \"8\": {\"effect\": 0.0, \"value\": 0.0}, \"9\": {\"effect\": -0.001529204511495188, \"value\": 0.0}, \"10\": {\"effect\": 0.0, \"value\": 0.0}, \"11\": {\"effect\": 0.0, \"value\": 0.0}, \"12\": {\"effect\": 0.0028458741416596384, \"value\": 1.0}, \"13\": {\"effect\": 0.0022661747614749275, \"value\": 1.0}}}, {\"outValue\": 0.9415522081815186, \"simIndex\": 61.0, \"features\": {\"0\": {\"effect\": -0.010215227192346538, \"value\": 20.0}, \"1\": {\"effect\": 0.0005422318361173787, \"value\": 1.0}, \"2\": {\"effect\": -0.0010462817040767123, \"value\": 18.0}, \"3\": {\"effect\": 0.001849862122187179, \"value\": 1.0}, \"4\": {\"effect\": -0.0007121188385610946, \"value\": 0.0}, \"5\": {\"effect\": 0.0008405337088777138, \"value\": 0.0}, \"6\": {\"effect\": 0.0, \"value\": 0.0}, \"7\": {\"effect\": 0.0014793079774418022, \"value\": 0.0}, \"8\": {\"effect\": 0.0, \"value\": 0.0}, \"9\": {\"effect\": -0.0013326686814781603, \"value\": 0.0}, \"10\": {\"effect\": 0.0, \"value\": 1.0}, \"11\": {\"effect\": 0.0016975575941870391, \"value\": 1.0}, \"12\": {\"effect\": 0.0020059645953528706, \"value\": 1.0}, \"13\": {\"effect\": 0.0013668612029830978, \"value\": 1.0}}}, {\"outValue\": 0.9398451236428293, \"simIndex\": 85.0, \"features\": {\"0\": {\"effect\": -0.005461302817357061, \"value\": 28.0}, \"1\": {\"effect\": 0.0, \"value\": 3.0}, \"2\": {\"effect\": -0.00032587327310084745, \"value\": 17.0}, \"3\": {\"effect\": -0.0008633027824784196, \"value\": 4.0}, \"4\": {\"effect\": -0.0005518005338821354, \"value\": 0.0}, \"5\": {\"effect\": 0.002073503357949878, \"value\": 0.0}, \"6\": {\"effect\": -0.00016891321144131078, \"value\": 1.0}, \"7\": {\"effect\": 0.001314752931792021, \"value\": 1.0}, \"8\": {\"effect\": 0.0, \"value\": 0.0}, \"9\": {\"effect\": -0.000979108239332159, \"value\": 0.0}, \"10\": {\"effect\": 0.0, \"value\": 0.0}, \"11\": {\"effect\": -0.0002690173501546742, \"value\": 0.0}, \"12\": {\"effect\": 0.0, \"value\": 1.0}, \"13\": {\"effect\": 0.0, \"value\": 1.0}}}, {\"outValue\": 0.9186252046333937, \"simIndex\": 140.0, \"features\": {\"0\": {\"effect\": -0.018764030584851616, \"value\": 19.0}, \"1\": {\"effect\": 0.0, \"value\": 3.0}, \"2\": {\"effect\": 0.002142063726478169, \"value\": 13.0}, \"3\": {\"effect\": -0.002436146936119602, \"value\": 4.0}, \"4\": {\"effect\": -0.0005754675573326502, \"value\": 0.0}, \"5\": {\"effect\": -0.005859526305473659, \"value\": 0.0}, \"6\": {\"effect\": 0.0008014669952836027, \"value\": 0.0}, \"7\": {\"effect\": 0.008469827319856349, \"value\": 0.0}, \"8\": {\"effect\": -0.00042485779203591846, \"value\": 0.0}, \"9\": {\"effect\": -0.0016335172733553845, \"value\": 0.0}, \"10\": {\"effect\": -0.0004891684303528505, \"value\": 1.0}, \"11\": {\"effect\": 0.0013762024364484763, \"value\": 1.0}, \"12\": {\"effect\": -0.005042319472589568, \"value\": 6.0}, \"13\": {\"effect\": -0.004015507053395706, \"value\": 6.0}}}, {\"outValue\": 0.9389426945028193, \"simIndex\": 132.0, \"features\": {\"0\": {\"effect\": -0.01065390284702494, \"value\": 20.0}, \"1\": {\"effect\": 0.0, \"value\": 3.0}, \"2\": {\"effect\": 0.0026905203096229263, \"value\": 15.0}, \"3\": {\"effect\": 0.0011884257186806418, \"value\": 2.0}, \"4\": {\"effect\": 0.0016908235662921444, \"value\": 1.0}, \"5\": {\"effect\": -0.003653879101907591, \"value\": 3.0}, \"6\": {\"effect\": 0.0004177331521115638, \"value\": 0.0}, \"7\": {\"effect\": 0.0005977955733090317, \"value\": 0.0}, \"8\": {\"effect\": 0.0, \"value\": 0.0}, \"9\": {\"effect\": -0.0013046935687383368, \"value\": 0.0}, \"10\": {\"effect\": 0.0, \"value\": 0.0}, \"11\": {\"effect\": 0.0, \"value\": 0.0}, \"12\": {\"effect\": 0.0018165392462783027, \"value\": 1.0}, \"13\": {\"effect\": 0.0010771468933615056, \"value\": 1.0}}}, {\"outValue\": 0.9442215252168437, \"simIndex\": 125.0, \"features\": {\"0\": {\"effect\": -0.009511911527907398, \"value\": 31.0}, \"1\": {\"effect\": 0.0, \"value\": 3.0}, \"2\": {\"effect\": 0.007246227692289967, \"value\": 15.0}, \"3\": {\"effect\": 0.0, \"value\": 3.0}, \"4\": {\"effect\": 0.0015191908451762516, \"value\": 1.0}, \"5\": {\"effect\": -0.0014924922588084154, \"value\": 16.0}, \"6\": {\"effect\": 0.0009321652780304255, \"value\": 0.0}, \"7\": {\"effect\": -0.003954973750051645, \"value\": 0.0}, \"8\": {\"effect\": 0.0, \"value\": 1.0}, \"9\": {\"effect\": 0.01168857317898468, \"value\": 11.0}, \"10\": {\"effect\": 0.0, \"value\": 0.0}, \"11\": {\"effect\": -0.0003803927845477739, \"value\": 0.0}, \"12\": {\"effect\": -0.0032975272093675348, \"value\": 1.0}, \"13\": {\"effect\": -0.0036035198077889554, \"value\": 1.0}}}, {\"outValue\": 0.9400430354120389, \"simIndex\": 100.0, \"features\": {\"0\": {\"effect\": -0.0050197203522399, \"value\": 32.0}, \"1\": {\"effect\": 0.0, \"value\": 1.0}, \"2\": {\"effect\": -0.0022693417494426458, \"value\": 19.0}, \"3\": {\"effect\": 0.0021628873455698536, \"value\": 1.0}, \"4\": {\"effect\": -0.0005929524370594742, \"value\": 0.0}, \"5\": {\"effect\": 0.003048909155176893, \"value\": 0.0}, \"6\": {\"effect\": 0.0, \"value\": 1.0}, \"7\": {\"effect\": 0.0015909066632128692, \"value\": 0.25}, \"8\": {\"effect\": 0.0, \"value\": 0.0}, \"9\": {\"effect\": -0.0012146177282967058, \"value\": 0.0}, \"10\": {\"effect\": 0.0, \"value\": 0.0}, \"11\": {\"effect\": -0.00033177339717561666, \"value\": 0.0}, \"12\": {\"effect\": -0.0009572905434503461, \"value\": 1.0}, \"13\": {\"effect\": -0.001450157105090057, \"value\": 1.0}}}, {\"outValue\": 0.9392223192890662, \"simIndex\": 65.0, \"features\": {\"0\": {\"effect\": -0.010559129269459736, \"value\": 20.0}, \"1\": {\"effect\": 0.0, \"value\": 3.0}, \"2\": {\"effect\": 0.0, \"value\": 17.0}, \"3\": {\"effect\": 0.000966628813046295, \"value\": 2.0}, \"4\": {\"effect\": -0.000746455413629873, \"value\": 0.0}, \"5\": {\"effect\": 0.0010924006061561369, \"value\": 0.0}, \"6\": {\"effect\": 0.0, \"value\": 1.0}, \"7\": {\"effect\": 0.0008502443260294916, \"value\": 0.25}, \"8\": {\"effect\": 0.0, \"value\": 0.0}, \"9\": {\"effect\": -0.0013577601524673395, \"value\": 0.0}, \"10\": {\"effect\": 0.0, \"value\": 0.0}, \"11\": {\"effect\": 0.0, \"value\": 0.0}, \"12\": {\"effect\": 0.0023789611654362005, \"value\": 1.0}, \"13\": {\"effect\": 0.0015212436531209569, \"value\": 1.0}}}, {\"outValue\": 0.9388307469813394, \"simIndex\": 162.0, \"features\": {\"0\": {\"effect\": -0.011510640567013546, \"value\": 19.0}, \"1\": {\"effect\": 0.0, \"value\": 3.0}, \"2\": {\"effect\": 0.0012088871722438694, \"value\": 15.0}, \"3\": {\"effect\": 0.0017235325294013184, \"value\": 1.0}, \"4\": {\"effect\": -0.0005373336148518787, \"value\": 0.0}, \"5\": {\"effect\": -0.0007524329352751251, \"value\": 0.0}, \"6\": {\"effect\": 0.0, \"value\": 1.0}, \"7\": {\"effect\": 0.0005487958665523758, \"value\": 0.25}, \"8\": {\"effect\": 0.0, \"value\": 0.0}, \"9\": {\"effect\": -0.0013541513576475405, \"value\": 0.0}, \"10\": {\"effect\": 0.0, \"value\": 0.0}, \"11\": {\"effect\": 0.0, \"value\": 0.0}, \"12\": {\"effect\": 0.0026273747331213237, \"value\": 1.0}, \"13\": {\"effect\": 0.0018005295939745366, \"value\": 1.0}}}, {\"outValue\": 0.9395928369639719, \"simIndex\": 4.0, \"features\": {\"0\": {\"effect\": -0.0071303596727416586, \"value\": 30.0}, \"1\": {\"effect\": 0.0, \"value\": 2.0}, \"2\": {\"effect\": -0.013474216299262919, \"value\": 29.0}, \"3\": {\"effect\": 0.0015791663472874253, \"value\": 1.0}, \"4\": {\"effect\": -0.0004696986983710235, \"value\": 0.0}, \"5\": {\"effect\": 0.013327210826525477, \"value\": 0.0}, \"6\": {\"effect\": 0.0, \"value\": 1.0}, \"7\": {\"effect\": 0.003300984064351631, \"value\": 0.0}, \"8\": {\"effect\": 0.0, \"value\": 0.0}, \"9\": {\"effect\": -0.0014101878063184107, \"value\": 0.0}, \"10\": {\"effect\": 0.0, \"value\": 0.0}, \"11\": {\"effect\": -0.0003952777956690674, \"value\": 0.0}, \"12\": {\"effect\": -0.00027292626884146574, \"value\": 1.0}, \"13\": {\"effect\": -0.000538043293822156, \"value\": 1.0}}}, {\"outValue\": 0.9321503412850477, \"simIndex\": 13.0, \"features\": {\"0\": {\"effect\": -0.0038891096038396102, \"value\": 43.0}, \"1\": {\"effect\": 0.0, \"value\": 3.0}, \"2\": {\"effect\": 0.001183827110063991, \"value\": 15.0}, \"3\": {\"effect\": -0.010057079284777184, \"value\": 8.0}, \"4\": {\"effect\": -0.0004809973800447235, \"value\": 0.0}, \"5\": {\"effect\": 0.0, \"value\": 0.0}, \"6\": {\"effect\": 0.0, \"value\": 1.0}, \"7\": {\"effect\": 0.0, \"value\": 3.0}, \"8\": {\"effect\": 0.0, \"value\": 0.0}, \"9\": {\"effect\": -0.0018197866489693352, \"value\": 0.0}, \"10\": {\"effect\": 0.0, \"value\": 0.0}, \"11\": {\"effect\": 0.0, \"value\": 0.0}, \"12\": {\"effect\": 0.0013303309835042548, \"value\": 1.0}, \"13\": {\"effect\": 0.0008069705482762497, \"value\": 1.0}}}, {\"outValue\": 0.9405486597905043, \"simIndex\": 118.0, \"features\": {\"0\": {\"effect\": -0.004799085249223159, \"value\": 37.0}, \"1\": {\"effect\": 0.0, \"value\": 3.0}, \"2\": {\"effect\": -0.00341571339417088, \"value\": 20.0}, \"3\": {\"effect\": -0.0019118765034471003, \"value\": 5.0}, \"4\": {\"effect\": -0.00018309641223695486, \"value\": 0.0}, \"5\": {\"effect\": 0.0056316657422349125, \"value\": 0.0}, \"6\": {\"effect\": 0.0, \"value\": 0.0}, \"7\": {\"effect\": 0.00285690678768276, \"value\": 0.0}, \"8\": {\"effect\": 0.0, \"value\": 0.0}, \"9\": {\"effect\": -0.0014104796960240072, \"value\": 0.0}, \"10\": {\"effect\": 0.0, \"value\": 0.0}, \"11\": {\"effect\": 0.0, \"value\": 0.0}, \"12\": {\"effect\": -0.0004392652799645089, \"value\": 1.0}, \"13\": {\"effect\": -0.0008565817651808396, \"value\": 1.0}}}, {\"outValue\": 0.9386969842339424, \"simIndex\": 62.0, \"features\": {\"0\": {\"effect\": -0.010991707890338334, \"value\": 20.0}, \"1\": {\"effect\": 0.0, \"value\": 3.0}, \"2\": {\"effect\": -0.001302698450384325, \"value\": 18.0}, \"3\": {\"effect\": 0.0018473346958284593, \"value\": 1.0}, \"4\": {\"effect\": -0.0007801617848013555, \"value\": 0.0}, \"5\": {\"effect\": 0.0015902787929680724, \"value\": 0.0}, \"6\": {\"effect\": 0.0, \"value\": 1.0}, \"7\": {\"effect\": 0.00038869018568084453, \"value\": 1.0}, \"8\": {\"effect\": 0.0, \"value\": 0.0}, \"9\": {\"effect\": -0.0013183496840658135, \"value\": 0.0}, \"10\": {\"effect\": 0.0, \"value\": 0.0}, \"11\": {\"effect\": 0.0, \"value\": 0.0}, \"12\": {\"effect\": 0.002429507787528655, \"value\": 1.0}, \"13\": {\"effect\": 0.0017579050206921708, \"value\": 1.0}}}, {\"outValue\": 0.9406612902628614, \"simIndex\": 55.0, \"features\": {\"0\": {\"effect\": -0.010499315490408211, \"value\": 20.0}, \"1\": {\"effect\": 0.0, \"value\": 3.0}, \"2\": {\"effect\": 0.001484057909815751, \"value\": 15.0}, \"3\": {\"effect\": 0.0019718077196997498, \"value\": 1.0}, \"4\": {\"effect\": 0.0012394883827246384, \"value\": 1.0}, \"5\": {\"effect\": -0.0017138392148983036, \"value\": 1.0}, \"6\": {\"effect\": 0.0004554196023680351, \"value\": 0.0}, \"7\": {\"effect\": 0.0007448913409134534, \"value\": 0.0}, \"8\": {\"effect\": 0.0, \"value\": 0.0}, \"9\": {\"effect\": -0.0010895278908203856, \"value\": 0.0}, \"10\": {\"effect\": 0.0, \"value\": 0.0}, \"11\": {\"effect\": 0.0, \"value\": 0.0}, \"12\": {\"effect\": 0.001838408879409134, \"value\": 1.0}, \"13\": {\"effect\": 0.001153713463223462, \"value\": 1.0}}}, {\"outValue\": 0.9401584052311608, \"simIndex\": 117.0, \"features\": {\"0\": {\"effect\": -0.006200590122408374, \"value\": 28.0}, \"1\": {\"effect\": 0.0, \"value\": 3.0}, \"2\": {\"effect\": -0.004869147957685482, \"value\": 21.0}, \"3\": {\"effect\": 0.0019047970045452786, \"value\": 1.0}, \"4\": {\"effect\": -0.0005743483377329082, \"value\": 0.0}, \"5\": {\"effect\": 0.005211779823255415, \"value\": 0.0}, \"6\": {\"effect\": 0.0, \"value\": 0.0}, \"7\": {\"effect\": 0.002008108880647255, \"value\": 0.0}, \"8\": {\"effect\": 0.0, \"value\": 0.0}, \"9\": {\"effect\": -0.0010488443784449509, \"value\": 0.0}, \"10\": {\"effect\": 0.0, \"value\": 0.0}, \"11\": {\"effect\": 0.0, \"value\": 0.0}, \"12\": {\"effect\": -0.0005303868393236218, \"value\": 1.0}, \"13\": {\"effect\": -0.0008191484025258829, \"value\": 1.0}}}, {\"outValue\": 0.9400521339335174, \"simIndex\": 108.0, \"features\": {\"0\": {\"effect\": -0.006045411420521709, \"value\": 28.0}, \"1\": {\"effect\": 0.0, \"value\": 2.0}, \"2\": {\"effect\": -0.0035101012791810063, \"value\": 20.0}, \"3\": {\"effect\": 0.0013397681671380964, \"value\": 2.0}, \"4\": {\"effect\": -0.0006747874547550097, \"value\": 0.0}, \"5\": {\"effect\": 0.004480419114745527, \"value\": 0.0}, \"6\": {\"effect\": 0.0, \"value\": 1.0}, \"7\": {\"effect\": 0.001388682941797742, \"value\": 1.0}, \"8\": {\"effect\": 0.0, \"value\": 0.0}, \"9\": {\"effect\": -0.00131419121959357, \"value\": 0.0}, \"10\": {\"effect\": 0.0, \"value\": 0.0}, \"11\": {\"effect\": 0.0, \"value\": 0.0}, \"12\": {\"effect\": 0.0, \"value\": 1.0}, \"13\": {\"effect\": -0.0006884304769467437, \"value\": 1.0}}}, {\"outValue\": 0.9374977364909345, \"simIndex\": 14.0, \"features\": {\"0\": {\"effect\": -0.004909823385497515, \"value\": 39.0}, \"1\": {\"effect\": 0.0, \"value\": 1.0}, \"2\": {\"effect\": -0.0013363919967272061, \"value\": 18.0}, \"3\": {\"effect\": -0.0015604546347063866, \"value\": 4.0}, \"4\": {\"effect\": -0.0005869134518138334, \"value\": 0.0}, \"5\": {\"effect\": -0.001818972908185273, \"value\": 0.0}, \"6\": {\"effect\": 0.0, \"value\": 1.0}, \"7\": {\"effect\": -0.0026317269552775142, \"value\": 8.0}, \"8\": {\"effect\": 0.0007145839969160787, \"value\": 1.0}, \"9\": {\"effect\": 0.0009893863975161824, \"value\": 3.0}, \"10\": {\"effect\": 0.0, \"value\": 0.0}, \"11\": {\"effect\": 0.0, \"value\": 0.0}, \"12\": {\"effect\": 0.0020737668825550073, \"value\": 1.0}, \"13\": {\"effect\": 0.001488096985320887, \"value\": 1.0}}}, {\"outValue\": 0.9406184243698472, \"simIndex\": 84.0, \"features\": {\"0\": {\"effect\": -0.005037040997012861, \"value\": 33.0}, \"1\": {\"effect\": 0.0, \"value\": 3.0}, \"2\": {\"effect\": -0.0014343818894083987, \"value\": 18.0}, \"3\": {\"effect\": -0.0018742542365620116, \"value\": 5.0}, \"4\": {\"effect\": 0.0, \"value\": 0.0}, \"5\": {\"effect\": 0.003888469739582677, \"value\": 0.0}, \"6\": {\"effect\": 0.0, \"value\": 1.0}, \"7\": {\"effect\": 0.0018394786896887986, \"value\": 1.0}, \"8\": {\"effect\": 0.0, \"value\": 0.0}, \"9\": {\"effect\": -0.0012367181890104262, \"value\": 0.0}, \"10\": {\"effect\": 0.0, \"value\": 0.0}, \"11\": {\"effect\": 0.0, \"value\": 0.0}, \"12\": {\"effect\": 0.0, \"value\": 1.0}, \"13\": {\"effect\": -0.0006033143082646206, \"value\": 1.0}}}, {\"outValue\": 0.9401612667939087, \"simIndex\": 56.0, \"features\": {\"0\": {\"effect\": -0.008716980009998593, \"value\": 24.0}, \"1\": {\"effect\": 0.0, \"value\": 5.0}, \"2\": {\"effect\": 0.0018705869477636892, \"value\": 15.0}, \"3\": {\"effect\": 0.001469791874112422, \"value\": 2.0}, \"4\": {\"effect\": -0.0005619224762784618, \"value\": 0.0}, \"5\": {\"effect\": -0.0009374916570519757, \"value\": 0.0}, \"6\": {\"effect\": 0.0, \"value\": 1.0}, \"7\": {\"effect\": -0.001096023274985907, \"value\": 5.0}, \"8\": {\"effect\": 0.0, \"value\": 0.0}, \"9\": {\"effect\": -0.0011625527094216003, \"value\": 0.0}, \"10\": {\"effect\": 0.0, \"value\": 0.0}, \"11\": {\"effect\": 0.0, \"value\": 0.0}, \"12\": {\"effect\": 0.0024059643954568283, \"value\": 1.0}, \"13\": {\"effect\": 0.0018137081434781953, \"value\": 1.0}}}, {\"outValue\": 0.9402583811908151, \"simIndex\": 42.0, \"features\": {\"0\": {\"effect\": -0.004452612676445869, \"value\": 31.0}, \"1\": {\"effect\": 0.0, \"value\": 2.0}, \"2\": {\"effect\": 0.0, \"value\": 17.0}, \"3\": {\"effect\": -0.0020421244491509198, \"value\": 5.0}, \"4\": {\"effect\": 0.0012753004850893897, \"value\": 1.0}, \"5\": {\"effect\": 0.0009704136401577851, \"value\": 1.266972909}, \"6\": {\"effect\": 0.0, \"value\": 1.0}, \"7\": {\"effect\": 0.002033570049278432, \"value\": 0.0}, \"8\": {\"effect\": 0.0, \"value\": 0.0}, \"9\": {\"effect\": -0.0010323009691319439, \"value\": 0.0}, \"10\": {\"effect\": 0.0, \"value\": 0.0}, \"11\": {\"effect\": -0.0003114087874661669, \"value\": 0.0}, \"12\": {\"effect\": -0.000384908235205757, \"value\": 1.0}, \"13\": {\"effect\": -0.0008737334271439468, \"value\": 1.0}}}, {\"outValue\": 0.9400634696236994, \"simIndex\": 39.0, \"features\": {\"0\": {\"effect\": -0.004589511371839413, \"value\": 30.0}, \"1\": {\"effect\": 0.0, \"value\": 3.0}, \"2\": {\"effect\": 0.0, \"value\": 16.0}, \"3\": {\"effect\": 0.0, \"value\": 3.0}, \"4\": {\"effect\": -0.0006197639200268275, \"value\": 0.0}, \"5\": {\"effect\": 0.0009658102623199446, \"value\": 0.0}, \"6\": {\"effect\": 0.0, \"value\": 1.0}, \"7\": {\"effect\": 0.001529336838398457, \"value\": 0.0}, \"8\": {\"effect\": 0.0, \"value\": 0.0}, \"9\": {\"effect\": -0.000861696489097711, \"value\": 0.0}, \"10\": {\"effect\": 0.0, \"value\": 0.0}, \"11\": {\"effect\": 0.0, \"value\": 0.0}, \"12\": {\"effect\": -0.0004614392831623379, \"value\": 1.0}, \"13\": {\"effect\": -0.0009754519737268166, \"value\": 1.0}}}, {\"outValue\": 0.9341579469244968, \"simIndex\": 29.0, \"features\": {\"0\": {\"effect\": -0.00719726208428177, \"value\": 26.0}, \"1\": {\"effect\": 0.0, \"value\": 2.0}, \"2\": {\"effect\": 0.0, \"value\": 15.0}, \"3\": {\"effect\": 0.0010374583802582613, \"value\": 2.0}, \"4\": {\"effect\": -0.0005826697846550623, \"value\": 0.0}, \"5\": {\"effect\": -0.0021758460278727782, \"value\": 0.0}, \"6\": {\"effect\": 0.0, \"value\": 1.0}, \"7\": {\"effect\": -0.0005768271149184283, \"value\": 1.0}, \"8\": {\"effect\": 0.0006961930267116541, \"value\": 1.0}, \"9\": {\"effect\": -0.0007393067172076391, \"value\": 8.0}, \"10\": {\"effect\": 0.0, \"value\": 0.0}, \"11\": {\"effect\": 0.0, \"value\": 0.0}, \"12\": {\"effect\": -0.0004366617608972372, \"value\": 1.0}, \"13\": {\"effect\": -0.0009433165534742296, \"value\": 1.0}}}, {\"outValue\": 0.9390033408268633, \"simIndex\": 83.0, \"features\": {\"0\": {\"effect\": -0.006215491388337348, \"value\": 33.0}, \"1\": {\"effect\": 0.0, \"value\": 3.0}, \"2\": {\"effect\": -0.002096146252181757, \"value\": 19.0}, \"3\": {\"effect\": 0.0, \"value\": 3.0}, \"4\": {\"effect\": -0.0004594056463806109, \"value\": 0.0}, \"5\": {\"effect\": 0.002378760135897132, \"value\": 0.0}, \"6\": {\"effect\": 0.0, \"value\": 1.0}, \"7\": {\"effect\": 0.0015013714862416611, \"value\": 0.16}, \"8\": {\"effect\": 0.0006536610910156146, \"value\": 1.0}, \"9\": {\"effect\": 0.0005559482453756013, \"value\": 3.0}, \"10\": {\"effect\": 0.0, \"value\": 0.0}, \"11\": {\"effect\": 0.0, \"value\": 0.0}, \"12\": {\"effect\": -0.0009854356315020804, \"value\": 1.0}, \"13\": {\"effect\": -0.0014061067740989523, \"value\": 1.0}}}, {\"outValue\": 0.8159538377205818, \"simIndex\": 1.0, \"features\": {\"0\": {\"effect\": -0.015317963888753866, \"value\": 36.0}, \"1\": {\"effect\": 0.004297192011329304, \"value\": 1.0}, \"2\": {\"effect\": -0.05899776711915557, \"value\": 28.0}, \"3\": {\"effect\": 0.006022762438491355, \"value\": 1.0}, \"4\": {\"effect\": 0.0017139859480288233, \"value\": 1.0}, \"5\": {\"effect\": -0.05656682403551448, \"value\": 16.0}, \"6\": {\"effect\": 0.001251111135256798, \"value\": 0.0}, \"7\": {\"effect\": -0.0009518327825277367, \"value\": 0.0}, \"8\": {\"effect\": 0.0, \"value\": 0.0}, \"9\": {\"effect\": -0.005406492115268405, \"value\": 0.0}, \"10\": {\"effect\": 0.0017815951851063855, \"value\": 1.0}, \"11\": {\"effect\": 0.0055835693153487645, \"value\": 1.0}, \"12\": {\"effect\": -0.006483929244134337, \"value\": 1.0}, \"13\": {\"effect\": -0.006047754688459264, \"value\": 1.0}}}, {\"outValue\": 0.9391355461237622, \"simIndex\": 164.0, \"features\": {\"0\": {\"effect\": -0.011347851276854472, \"value\": 19.0}, \"1\": {\"effect\": 0.0, \"value\": 2.0}, \"2\": {\"effect\": 0.001732628239191934, \"value\": 14.0}, \"3\": {\"effect\": 0.0011473959739911194, \"value\": 2.0}, \"4\": {\"effect\": -0.0005939815499952086, \"value\": 0.0}, \"5\": {\"effect\": -0.00118611220153603, \"value\": 0.0}, \"6\": {\"effect\": 0.0, \"value\": 1.0}, \"7\": {\"effect\": 0.0004701296167398672, \"value\": 0.5}, \"8\": {\"effect\": 0.0, \"value\": 0.0}, \"9\": {\"effect\": -0.0013088061032950544, \"value\": 0.0}, \"10\": {\"effect\": 0.0, \"value\": 0.0}, \"11\": {\"effect\": 0.0, \"value\": 0.0}, \"12\": {\"effect\": 0.0029375173886224872, \"value\": 1.0}, \"13\": {\"effect\": 0.002208440476063455, \"value\": 1.0}}}, {\"outValue\": 0.9406823145712688, \"simIndex\": 116.0, \"features\": {\"0\": {\"effect\": -0.005921380389146148, \"value\": 30.0}, \"1\": {\"effect\": 0.0, \"value\": 1.0}, \"2\": {\"effect\": -0.005638727218879126, \"value\": 22.0}, \"3\": {\"effect\": 0.0010921802787138971, \"value\": 2.0}, \"4\": {\"effect\": -0.0004962574757937837, \"value\": 0.0}, \"5\": {\"effect\": 0.006667734144314527, \"value\": 0.0}, \"6\": {\"effect\": 0.0, \"value\": 1.0}, \"7\": {\"effect\": 0.0024815662156989046, \"value\": 0.16}, \"8\": {\"effect\": 0.0, \"value\": 0.0}, \"9\": {\"effect\": -0.0010272557661161032, \"value\": 0.0}, \"10\": {\"effect\": 0.0, \"value\": 0.0}, \"11\": {\"effect\": -0.0003244559667100655, \"value\": 0.0}, \"12\": {\"effect\": -0.0003525545703740422, \"value\": 1.0}, \"13\": {\"effect\": -0.0008747202412732894, \"value\": 1.0}}}, {\"outValue\": 0.9391194713490623, \"simIndex\": 160.0, \"features\": {\"0\": {\"effect\": -0.012674926860758665, \"value\": 18.0}, \"1\": {\"effect\": 0.0, \"value\": 2.0}, \"2\": {\"effect\": 0.0012573962371363774, \"value\": 15.0}, \"3\": {\"effect\": 0.0019623482059474583, \"value\": 1.0}, \"4\": {\"effect\": -0.0005799403179075312, \"value\": 0.0}, \"5\": {\"effect\": -0.0007507178820798021, \"value\": 0.0}, \"6\": {\"effect\": 0.0, \"value\": 0.0}, \"7\": {\"effect\": 0.0006556548175886447, \"value\": 0.0}, \"8\": {\"effect\": 0.0, \"value\": 0.0}, \"9\": {\"effect\": -0.0012625795235555893, \"value\": 0.0}, \"10\": {\"effect\": 0.0, \"value\": 0.0}, \"11\": {\"effect\": 0.0, \"value\": 0.0}, \"12\": {\"effect\": 0.0031573132122895984, \"value\": 1.0}, \"13\": {\"effect\": 0.0022787378995677114, \"value\": 1.0}}}, {\"outValue\": 0.9353682722827161, \"simIndex\": 44.0, \"features\": {\"0\": {\"effect\": -0.004174311902858652, \"value\": 36.0}, \"1\": {\"effect\": 0.0, \"value\": 1.0}, \"2\": {\"effect\": 0.0019516638421731743, \"value\": 13.0}, \"3\": {\"effect\": -0.004366777123989501, \"value\": 6.0}, \"4\": {\"effect\": -0.00047130582665922283, \"value\": 0.0}, \"5\": {\"effect\": -0.0009429312575209708, \"value\": 0.0}, \"6\": {\"effect\": -0.00026496208941257857, \"value\": 1.0}, \"7\": {\"effect\": 0.0012291321977917543, \"value\": 0.0}, \"8\": {\"effect\": 0.0, \"value\": 0.0}, \"9\": {\"effect\": -0.0008637872541049337, \"value\": 0.0}, \"10\": {\"effect\": 0.0, \"value\": 0.0}, \"11\": {\"effect\": -0.00030438316881720466, \"value\": 0.0}, \"12\": {\"effect\": -0.0005690503093665278, \"value\": 1.0}, \"13\": {\"effect\": -0.0009312003853532667, \"value\": 1.0}}}, {\"outValue\": 0.9393693744435885, \"simIndex\": 68.0, \"features\": {\"0\": {\"effect\": -0.009902447938741968, \"value\": 21.0}, \"1\": {\"effect\": 0.0, \"value\": 2.0}, \"2\": {\"effect\": -0.0020414062607256233, \"value\": 19.0}, \"3\": {\"effect\": 0.0016994165241478354, \"value\": 1.0}, \"4\": {\"effect\": -0.000853078449322359, \"value\": 0.0}, \"5\": {\"effect\": 0.002479670745468589, \"value\": 0.0}, \"6\": {\"effect\": 0.0, \"value\": 1.0}, \"7\": {\"effect\": 0.000967167792553745, \"value\": 0.5}, \"8\": {\"effect\": 0.0, \"value\": 0.0}, \"9\": {\"effect\": -0.0011700346745482457, \"value\": 0.0}, \"10\": {\"effect\": 0.0, \"value\": 0.0}, \"11\": {\"effect\": 0.0, \"value\": 0.0}, \"12\": {\"effect\": 0.0018417798708789748, \"value\": 1.0}, \"13\": {\"effect\": 0.0012721212730434726, \"value\": 1.0}}}, {\"outValue\": 0.9388905605088215, \"simIndex\": 148.0, \"features\": {\"0\": {\"effect\": -0.015876243315809255, \"value\": 15.0}, \"1\": {\"effect\": 0.0, \"value\": 1.0}, \"2\": {\"effect\": 0.0010197672431307096, \"value\": 15.0}, \"3\": {\"effect\": 0.0015408457144651918, \"value\": 1.0}, \"4\": {\"effect\": 0.0, \"value\": 0.0}, \"5\": {\"effect\": 0.0, \"value\": 0.0}, \"6\": {\"effect\": 0.0, \"value\": 1.0}, \"7\": {\"effect\": 0.0, \"value\": 0.0}, \"8\": {\"effect\": 0.0, \"value\": 0.0}, \"9\": {\"effect\": -0.0015463460612529763, \"value\": 0.0}, \"10\": {\"effect\": 0.0, \"value\": 0.0}, \"11\": {\"effect\": 0.0, \"value\": 0.0}, \"12\": {\"effect\": 0.004678706879062572, \"value\": 1.0}, \"13\": {\"effect\": 0.003997644488391168, \"value\": 1.0}}}, {\"outValue\": 0.9401594367261725, \"simIndex\": 141.0, \"features\": {\"0\": {\"effect\": -0.018168397705447144, \"value\": 16.0}, \"1\": {\"effect\": 0.002507938093451469, \"value\": 28.0}, \"2\": {\"effect\": 0.01159945031490411, \"value\": 10.0}, \"3\": {\"effect\": 0.002468678536280158, \"value\": 1.0}, \"4\": {\"effect\": 0.0009600913288866876, \"value\": 1.0}, \"5\": {\"effect\": -0.005261648419190332, \"value\": 5.0}, \"6\": {\"effect\": 0.000727470796132214, \"value\": 0.0}, \"7\": {\"effect\": -0.0015906471955840782, \"value\": 0.0}, \"8\": {\"effect\": 0.0, \"value\": 0.0}, \"9\": {\"effect\": -0.000885119949219654, \"value\": 0.0}, \"10\": {\"effect\": 0.0, \"value\": 0.0}, \"11\": {\"effect\": 0.0, \"value\": 0.0}, \"12\": {\"effect\": 0.0017433362625901248, \"value\": 1.0}, \"13\": {\"effect\": 0.0009820991025349113, \"value\": 1.0}}}, {\"outValue\": 0.9385447455471495, \"simIndex\": 157.0, \"features\": {\"0\": {\"effect\": -0.01269391233863045, \"value\": 18.0}, \"1\": {\"effect\": 0.0, \"value\": 3.0}, \"2\": {\"effect\": 0.0003910953542098361, \"value\": 16.0}, \"3\": {\"effect\": 0.0015610599743201149, \"value\": 1.0}, \"4\": {\"effect\": 0.0, \"value\": 0.0}, \"5\": {\"effect\": 0.0, \"value\": 0.0}, \"6\": {\"effect\": 0.0, \"value\": 1.0}, \"7\": {\"effect\": 0.000654806992471571, \"value\": 0.0}, \"8\": {\"effect\": 0.0, \"value\": 0.0}, \"9\": {\"effect\": -0.0013577542954816015, \"value\": 0.0}, \"10\": {\"effect\": 0.0, \"value\": 0.0}, \"11\": {\"effect\": 0.0, \"value\": 0.0}, \"12\": {\"effect\": 0.0027651542946125077, \"value\": 1.0}, \"13\": {\"effect\": 0.0021481100048134708, \"value\": 1.0}}}, {\"outValue\": 0.928085360298606, \"simIndex\": 135.0, \"features\": {\"0\": {\"effect\": -0.005243650038384451, \"value\": 29.0}, \"1\": {\"effect\": 0.0, \"value\": 3.0}, \"2\": {\"effect\": 0.007669395723777357, \"value\": 15.0}, \"3\": {\"effect\": 0.0024684602547078364, \"value\": 2.0}, \"4\": {\"effect\": 0.001764758909390398, \"value\": 1.0}, \"5\": {\"effect\": -0.01301874845483981, \"value\": 10.0}, \"6\": {\"effect\": -0.0005625892494604996, \"value\": 1.0}, \"7\": {\"effect\": -0.002698250038339094, \"value\": 0.25}, \"8\": {\"effect\": 0.0, \"value\": 0.0}, \"9\": {\"effect\": -0.001422241625679086, \"value\": 0.0}, \"10\": {\"effect\": 0.0, \"value\": 0.0}, \"11\": {\"effect\": -0.0003679974992671347, \"value\": 0.0}, \"12\": {\"effect\": -0.0026279674959848974, \"value\": 1.0}, \"13\": {\"effect\": -0.002951995748148679, \"value\": 1.0}}}, {\"outValue\": 0.951100768361744, \"simIndex\": 124.0, \"features\": {\"0\": {\"effect\": 0.003487128933744951, \"value\": 45.0}, \"1\": {\"effect\": 0.0, \"value\": 2.0}, \"2\": {\"effect\": 0.0, \"value\": 17.0}, \"3\": {\"effect\": 0.0026919805804004474, \"value\": 1.0}, \"4\": {\"effect\": 0.0, \"value\": 0.0}, \"5\": {\"effect\": -0.004529335002951522, \"value\": 0.0}, \"6\": {\"effect\": 0.0, \"value\": 1.0}, \"7\": {\"effect\": 0.0, \"value\": 6.0}, \"8\": {\"effect\": 0.0002695599451483878, \"value\": 1.0}, \"9\": {\"effect\": 0.00410524834456763, \"value\": 5.0}, \"10\": {\"effect\": 0.0, \"value\": 0.0}, \"11\": {\"effect\": 0.0, \"value\": 0.0}, \"12\": {\"effect\": 0.0, \"value\": 1.0}, \"13\": {\"effect\": 0.0, \"value\": 1.0}}}, {\"outValue\": 0.9256183653488516, \"simIndex\": 129.0, \"features\": {\"0\": {\"effect\": -0.006287160511790488, \"value\": 32.0}, \"1\": {\"effect\": 0.0, \"value\": 3.0}, \"2\": {\"effect\": -0.0029842316527381556, \"value\": 18.0}, \"3\": {\"effect\": 0.006434246572251497, \"value\": 1.0}, \"4\": {\"effect\": 0.0015760873617861673, \"value\": 1.0}, \"5\": {\"effect\": -0.012425725745990691, \"value\": 11.0}, \"6\": {\"effect\": -0.0004120556009408298, \"value\": 1.0}, \"7\": {\"effect\": 0.0013393138592042615, \"value\": 6.0}, \"8\": {\"effect\": 0.0, \"value\": 0.0}, \"9\": {\"effect\": -0.0021443209373855736, \"value\": 0.0}, \"10\": {\"effect\": 0.0, \"value\": 1.0}, \"11\": {\"effect\": -0.0003934228918208958, \"value\": 0.0}, \"12\": {\"effect\": -0.0018407104189807882, \"value\": 1.0}, \"13\": {\"effect\": -0.0023198402455770067, \"value\": 1.0}}}, {\"outValue\": 0.9405806725917208, \"simIndex\": 106.0, \"features\": {\"0\": {\"effect\": -0.0059202992646764175, \"value\": 27.0}, \"1\": {\"effect\": 0.0, \"value\": 2.0}, \"2\": {\"effect\": -0.0022035533983961785, \"value\": 19.0}, \"3\": {\"effect\": 0.0019098083155944382, \"value\": 1.0}, \"4\": {\"effect\": -0.0005989325826986237, \"value\": 0.0}, \"5\": {\"effect\": 0.002673937583976954, \"value\": 0.0}, \"6\": {\"effect\": 0.0, \"value\": 0.0}, \"7\": {\"effect\": 0.0017942636378468274, \"value\": 0.0}, \"8\": {\"effect\": 0.0, \"value\": 0.0}, \"9\": {\"effect\": -0.0009884944688944982, \"value\": 0.0}, \"10\": {\"effect\": 0.0, \"value\": 0.0}, \"11\": {\"effect\": -0.0003682565933937733, \"value\": 0.0}, \"12\": {\"effect\": 0.0, \"value\": 1.0}, \"13\": {\"effect\": -0.000793986198471942, \"value\": 1.0}}}, {\"outValue\": 0.9403641138864878, \"simIndex\": 11.0, \"features\": {\"0\": {\"effect\": -0.006671221863788032, \"value\": 29.0}, \"1\": {\"effect\": 0.0, \"value\": 3.0}, \"2\": {\"effect\": 0.0, \"value\": 17.0}, \"3\": {\"effect\": 0.0, \"value\": 3.0}, \"4\": {\"effect\": 0.0, \"value\": 0.0}, \"5\": {\"effect\": -0.001062547464800499, \"value\": 0.0}, \"6\": {\"effect\": 0.0, \"value\": 1.0}, \"7\": {\"effect\": -0.004469820832960098, \"value\": 10.0}, \"8\": {\"effect\": 0.0, \"value\": 0.0}, \"9\": {\"effect\": -0.0008995470628777227, \"value\": 0.0}, \"10\": {\"effect\": 0.0, \"value\": 0.0}, \"11\": {\"effect\": 0.0, \"value\": 0.0}, \"12\": {\"effect\": 0.004575933377625652, \"value\": 1.0}, \"13\": {\"effect\": 0.003815132172454414, \"value\": 1.0}}}, {\"outValue\": 0.9136251357203374, \"simIndex\": 126.0, \"features\": {\"0\": {\"effect\": -0.006232623079011113, \"value\": 30.0}, \"1\": {\"effect\": 0.0, \"value\": 2.0}, \"2\": {\"effect\": -0.0028588963931339174, \"value\": 18.0}, \"3\": {\"effect\": 0.004873079127068148, \"value\": 1.0}, \"4\": {\"effect\": 0.0019433361994323807, \"value\": 1.0}, \"5\": {\"effect\": -0.018216771386719087, \"value\": 11.0}, \"6\": {\"effect\": 0.0010163027023581735, \"value\": 0.0}, \"7\": {\"effect\": -0.0028428169324628237, \"value\": 0.0}, \"8\": {\"effect\": 0.0, \"value\": 0.0}, \"9\": {\"effect\": -0.001831393630104955, \"value\": 0.0}, \"10\": {\"effect\": 0.0, \"value\": 0.0}, \"11\": {\"effect\": -0.0004217943957772301, \"value\": 0.0}, \"12\": {\"effect\": -0.0032496121859834515, \"value\": 1.0}, \"13\": {\"effect\": -0.003629859866162752, \"value\": 1.0}}}, {\"outValue\": 0.9394789867241986, \"simIndex\": 115.0, \"features\": {\"0\": {\"effect\": -0.0038787748441750053, \"value\": 40.0}, \"1\": {\"effect\": 0.0, \"value\": 2.0}, \"2\": {\"effect\": -0.003050734572801086, \"value\": 20.0}, \"3\": {\"effect\": 0.0, \"value\": 3.0}, \"4\": {\"effect\": -0.0003773934055421159, \"value\": 0.0}, \"5\": {\"effect\": 0.0025438170758926657, \"value\": 0.0}, \"6\": {\"effect\": 0.0, \"value\": 0.0}, \"7\": {\"effect\": 0.00180295414276847, \"value\": 0.0}, \"8\": {\"effect\": 0.0, \"value\": 1.0}, \"9\": {\"effect\": -0.000543716876578706, \"value\": 1.0}, \"10\": {\"effect\": 0.0, \"value\": 0.0}, \"11\": {\"effect\": 0.0, \"value\": 0.0}, \"12\": {\"effect\": -0.0008583994175411882, \"value\": 1.0}, \"13\": {\"effect\": -0.001234950938658488, \"value\": 1.0}}}, {\"outValue\": 0.938160607334345, \"simIndex\": 156.0, \"features\": {\"0\": {\"effect\": -0.013514006649648311, \"value\": 18.0}, \"1\": {\"effect\": 0.0, \"value\": 7.0}, \"2\": {\"effect\": 0.001785188656660876, \"value\": 14.0}, \"3\": {\"effect\": 0.0018840623862937116, \"value\": 1.0}, \"4\": {\"effect\": 0.0, \"value\": 0.0}, \"5\": {\"effect\": -0.000934092751627996, \"value\": 0.0}, \"6\": {\"effect\": 0.0, \"value\": 1.0}, \"7\": {\"effect\": 0.0003476547862213677, \"value\": 0.0}, \"8\": {\"effect\": 0.0, \"value\": 0.0}, \"9\": {\"effect\": -0.0011123661367737096, \"value\": 0.0}, \"10\": {\"effect\": 0.0, \"value\": 0.0}, \"11\": {\"effect\": 0.0, \"value\": 0.0}, \"12\": {\"effect\": 0.002496816112785344, \"value\": 1.0}, \"13\": {\"effect\": 0.0021311653695996902, \"value\": 1.0}}}, {\"outValue\": 0.9410208628365095, \"simIndex\": 37.0, \"features\": {\"0\": {\"effect\": -0.004880628093036004, \"value\": 28.0}, \"1\": {\"effect\": 0.0, \"value\": 5.0}, \"2\": {\"effect\": 0.0016505158898725949, \"value\": 15.0}, \"3\": {\"effect\": -0.0008910886057439046, \"value\": 4.0}, \"4\": {\"effect\": -0.00043360611919729874, \"value\": 0.0}, \"5\": {\"effect\": 0.0, \"value\": 0.0}, \"6\": {\"effect\": 0.0, \"value\": 0.0}, \"7\": {\"effect\": 0.001575410882367777, \"value\": 0.0}, \"8\": {\"effect\": 0.0, \"value\": 0.0}, \"9\": {\"effect\": -0.0007583842714153507, \"value\": 0.0}, \"10\": {\"effect\": 0.0, \"value\": 0.0}, \"11\": {\"effect\": 0.0, \"value\": 0.0}, \"12\": {\"effect\": 0.0, \"value\": 1.0}, \"13\": {\"effect\": -0.0003175424071723315, \"value\": 1.0}}}, {\"outValue\": 0.9395784428711562, \"simIndex\": 5.0, \"features\": {\"0\": {\"effect\": -0.004777128256141688, \"value\": 40.0}, \"1\": {\"effect\": 0.0, \"value\": 2.0}, \"2\": {\"effect\": -0.011134634393539688, \"value\": 27.0}, \"3\": {\"effect\": 0.0018146906216760588, \"value\": 1.0}, \"4\": {\"effect\": -0.00040428746615301845, \"value\": 0.0}, \"5\": {\"effect\": 0.00782850715824861, \"value\": 0.0}, \"6\": {\"effect\": 0.0, \"value\": 0.0}, \"7\": {\"effect\": 0.003346264066642909, \"value\": 0.0}, \"8\": {\"effect\": 0.0, \"value\": 1.0}, \"9\": {\"effect\": -0.00046385776021041006, \"value\": 1.0}, \"10\": {\"effect\": 0.0, \"value\": 0.0}, \"11\": {\"effect\": 0.0, \"value\": 0.0}, \"12\": {\"effect\": -0.0005953839538681994, \"value\": 1.0}, \"13\": {\"effect\": -0.0011119127063324184, \"value\": 1.0}}}, {\"outValue\": 0.9398374395164474, \"simIndex\": 91.0, \"features\": {\"0\": {\"effect\": -0.007020600396716277, \"value\": 25.0}, \"1\": {\"effect\": 0.0, \"value\": 4.0}, \"2\": {\"effect\": 0.0, \"value\": 17.0}, \"3\": {\"effect\": 0.0, \"value\": 3.0}, \"4\": {\"effect\": -0.0006776018261520078, \"value\": 0.0}, \"5\": {\"effect\": 0.0015224450203997603, \"value\": 0.0}, \"6\": {\"effect\": 0.0, \"value\": 1.0}, \"7\": {\"effect\": 0.0007730565433125862, \"value\": 1.5}, \"8\": {\"effect\": 0.0, \"value\": 0.0}, \"9\": {\"effect\": -0.0011471797210497168, \"value\": 0.0}, \"10\": {\"effect\": 0.0, \"value\": 0.0}, \"11\": {\"effect\": 0.0, \"value\": 0.0}, \"12\": {\"effect\": 0.0009146452930833015, \"value\": 1.0}, \"13\": {\"effect\": 0.0003964890427356777, \"value\": 1.0}}}, {\"outValue\": 0.9397554636113056, \"simIndex\": 25.0, \"features\": {\"0\": {\"effect\": -0.006808798989500429, \"value\": 23.0}, \"1\": {\"effect\": 0.0, \"value\": 1.0}, \"2\": {\"effect\": 0.0007165554849946588, \"value\": 15.0}, \"3\": {\"effect\": 0.0, \"value\": 3.0}, \"4\": {\"effect\": -0.0005763874611490693, \"value\": 0.0}, \"5\": {\"effect\": -0.0011703582131905362, \"value\": 0.0}, \"6\": {\"effect\": 0.0, \"value\": 1.0}, \"7\": {\"effect\": 0.0, \"value\": 0.25}, \"8\": {\"effect\": 0.0006257160690991007, \"value\": 1.0}, \"9\": {\"effect\": 0.0013003868337713178, \"value\": 7.0}, \"10\": {\"effect\": 0.0, \"value\": 0.0}, \"11\": {\"effect\": 0.0, \"value\": 0.0}, \"12\": {\"effect\": 0.0005921643264464732, \"value\": 1.0}, \"13\": {\"effect\": 0.0, \"value\": 1.0}}}, {\"outValue\": 0.939373379018355, \"simIndex\": 48.0, \"features\": {\"0\": {\"effect\": -0.009024637728341814, \"value\": 22.0}, \"1\": {\"effect\": 0.0, \"value\": 4.0}, \"2\": {\"effect\": 0.0006750085105433211, \"value\": 16.0}, \"3\": {\"effect\": 0.0018727261948586365, \"value\": 1.0}, \"4\": {\"effect\": -0.0005759231964703243, \"value\": 0.0}, \"5\": {\"effect\": 0.0, \"value\": 0.0}, \"6\": {\"effect\": 0.0, \"value\": 1.0}, \"7\": {\"effect\": 0.0006664459029670357, \"value\": 0.5}, \"8\": {\"effect\": 0.0, \"value\": 0.0}, \"9\": {\"effect\": -0.001144320960030123, \"value\": 0.0}, \"10\": {\"effect\": 0.0, \"value\": 0.0}, \"11\": {\"effect\": 0.0, \"value\": 0.0}, \"12\": {\"effect\": 0.0012567120016595283, \"value\": 1.0}, \"13\": {\"effect\": 0.0005711827323347301, \"value\": 1.0}}}, {\"outValue\": 0.9320829914796149, \"simIndex\": 27.0, \"features\": {\"0\": {\"effect\": -0.006193475652643022, \"value\": 37.0}, \"1\": {\"effect\": 0.0, \"value\": 3.0}, \"2\": {\"effect\": -0.00036955646217563896, \"value\": 17.0}, \"3\": {\"effect\": 0.0, \"value\": 3.0}, \"4\": {\"effect\": -0.0004533477700130054, \"value\": 0.0}, \"5\": {\"effect\": -0.0033190093527235625, \"value\": 0.0}, \"6\": {\"effect\": 0.0, \"value\": 1.0}, \"7\": {\"effect\": 0.0, \"value\": 3.0}, \"8\": {\"effect\": 0.0, \"value\": 1.0}, \"9\": {\"effect\": -0.0005237611926895936, \"value\": 8.0}, \"10\": {\"effect\": 0.0, \"value\": 0.0}, \"11\": {\"effect\": -0.00021022626500306462, \"value\": 0.0}, \"12\": {\"effect\": -0.000827945340788349, \"value\": 1.0}, \"13\": {\"effect\": -0.0010958720451828899, \"value\": 1.0}}}, {\"outValue\": 0.9415668213561028, \"simIndex\": 12.0, \"features\": {\"0\": {\"effect\": -0.009895860146486609, \"value\": 22.0}, \"1\": {\"effect\": 0.0, \"value\": 2.0}, \"2\": {\"effect\": 0.0008409250635911412, \"value\": 16.0}, \"3\": {\"effect\": 0.0015177535935789075, \"value\": 2.0}, \"4\": {\"effect\": -0.0007882087942868779, \"value\": 0.0}, \"5\": {\"effect\": -0.0008587481317133966, \"value\": 0.0}, \"6\": {\"effect\": 0.0, \"value\": 1.0}, \"7\": {\"effect\": -0.00323585312313708, \"value\": 9.0}, \"8\": {\"effect\": 0.0, \"value\": 0.0}, \"9\": {\"effect\": -0.0015798483036989627, \"value\": 0.0}, \"10\": {\"effect\": 0.0, \"value\": 0.0}, \"11\": {\"effect\": 0.0, \"value\": 0.0}, \"12\": {\"effect\": 0.005732073479450206, \"value\": 1.0}, \"13\": {\"effect\": 0.004758402157971426, \"value\": 1.0}}}, {\"outValue\": 0.9400746255457785, \"simIndex\": 45.0, \"features\": {\"0\": {\"effect\": -0.008210859916336199, \"value\": 23.0}, \"1\": {\"effect\": 0.0, \"value\": 4.0}, \"2\": {\"effect\": 0.0, \"value\": 16.0}, \"3\": {\"effect\": 0.0013405280356433976, \"value\": 2.0}, \"4\": {\"effect\": -0.0005787172114162685, \"value\": 0.0}, \"5\": {\"effect\": -0.0010770863792191132, \"value\": 0.0}, \"6\": {\"effect\": 0.0, \"value\": 1.0}, \"7\": {\"effect\": 0.0024012930151278335, \"value\": 0.0}, \"8\": {\"effect\": 0.0, \"value\": 0.0}, \"9\": {\"effect\": -0.0010866686063352301, \"value\": 0.0}, \"10\": {\"effect\": 0.0, \"value\": 1.0}, \"11\": {\"effect\": 0.0014053683431119362, \"value\": 1.0}, \"12\": {\"effect\": 0.0008045827043680585, \"value\": 2.0}, \"13\": {\"effect\": 0.0, \"value\": 2.0}}}, {\"outValue\": 0.9401600592901265, \"simIndex\": 102.0, \"features\": {\"0\": {\"effect\": -0.00518335086394555, \"value\": 30.0}, \"1\": {\"effect\": 0.0, \"value\": 2.0}, \"2\": {\"effect\": -0.0013648841165310383, \"value\": 18.0}, \"3\": {\"effect\": 0.003200736482981037, \"value\": 0.0}, \"4\": {\"effect\": -0.0005636336667261058, \"value\": 0.0}, \"5\": {\"effect\": 0.0015535432140385422, \"value\": 0.0}, \"6\": {\"effect\": 0.0, \"value\": 1.0}, \"7\": {\"effect\": 0.0010299658127690694, \"value\": 1.0}, \"8\": {\"effect\": 0.0, \"value\": 0.0}, \"9\": {\"effect\": -0.0010832570998941967, \"value\": 0.0}, \"10\": {\"effect\": 0.0, \"value\": 0.0}, \"11\": {\"effect\": -0.00037065220070921267, \"value\": 0.0}, \"12\": {\"effect\": -0.0008696862129223732, \"value\": 1.0}, \"13\": {\"effect\": -0.0012649076197677597, \"value\": 1.0}}}, {\"outValue\": 0.9386563718582647, \"simIndex\": 64.0, \"features\": {\"0\": {\"effect\": -0.011077541098769435, \"value\": 20.0}, \"1\": {\"effect\": 0.0, \"value\": 4.0}, \"2\": {\"effect\": 0.0, \"value\": 17.0}, \"3\": {\"effect\": 0.0016697313094833181, \"value\": 1.0}, \"4\": {\"effect\": -0.0007653195455110031, \"value\": 0.0}, \"5\": {\"effect\": 0.0008042164011562236, \"value\": 0.0}, \"6\": {\"effect\": 0.0, \"value\": 1.0}, \"7\": {\"effect\": 0.0007040576818157043, \"value\": 0.16}, \"8\": {\"effect\": 0.0, \"value\": 0.0}, \"9\": {\"effect\": -0.001253850163655779, \"value\": 0.0}, \"10\": {\"effect\": 0.0, \"value\": 0.0}, \"11\": {\"effect\": 0.0, \"value\": 0.0}, \"12\": {\"effect\": 0.0019992633905842943, \"value\": 1.0}, \"13\": {\"effect\": 0.0014996283223272892, \"value\": 1.0}}}, {\"outValue\": 0.939084499903578, \"simIndex\": 35.0, \"features\": {\"0\": {\"effect\": -0.003998119565819335, \"value\": 36.0}, \"1\": {\"effect\": 0.0, \"value\": 3.0}, \"2\": {\"effect\": 0.0011376820267183676, \"value\": 15.0}, \"3\": {\"effect\": -0.0009225485412005636, \"value\": 4.0}, \"4\": {\"effect\": -0.0003777035112116616, \"value\": 0.0}, \"5\": {\"effect\": 0.0, \"value\": 0.0}, \"6\": {\"effect\": 0.0, \"value\": 1.0}, \"7\": {\"effect\": 0.000895610444727168, \"value\": 0.25}, \"8\": {\"effect\": 0.0, \"value\": 1.0}, \"9\": {\"effect\": -0.0004970732071582079, \"value\": 1.0}, \"10\": {\"effect\": 0.0, \"value\": 0.0}, \"11\": {\"effect\": 0.0, \"value\": 0.0}, \"12\": {\"effect\": -0.0009001976340588212, \"value\": 1.0}, \"13\": {\"effect\": -0.0013293356692529986, \"value\": 1.0}}}, {\"outValue\": 0.9392091310825625, \"simIndex\": 59.0, \"features\": {\"0\": {\"effect\": -0.012381596782691637, \"value\": 18.0}, \"1\": {\"effect\": 0.0005964438034149521, \"value\": 1.0}, \"2\": {\"effect\": -0.00113032748002935, \"value\": 18.0}, \"3\": {\"effect\": 0.0014798803418488377, \"value\": 1.0}, \"4\": {\"effect\": -0.0005958330524441346, \"value\": 0.0}, \"5\": {\"effect\": 0.0014378740526741207, \"value\": 0.0}, \"6\": {\"effect\": 0.0, \"value\": 1.0}, \"7\": {\"effect\": 0.0008899760024986712, \"value\": 0.0}, \"8\": {\"effect\": 0.0, \"value\": 0.0}, \"9\": {\"effect\": -0.001491830967826088, \"value\": 0.0}, \"10\": {\"effect\": 0.0, \"value\": 0.0}, \"11\": {\"effect\": 0.0, \"value\": 0.0}, \"12\": {\"effect\": 0.0029075268981515238, \"value\": 1.0}, \"13\": {\"effect\": 0.0024208327061315885, \"value\": 1.0}}}, {\"outValue\": 0.9388055733229393, \"simIndex\": 58.0, \"features\": {\"0\": {\"effect\": -0.010482515611805496, \"value\": 21.0}, \"1\": {\"effect\": 0.0, \"value\": 1.0}, \"2\": {\"effect\": 0.0, \"value\": 17.0}, \"3\": {\"effect\": 0.00203992934509324, \"value\": 1.0}, \"4\": {\"effect\": -0.0004942280156909661, \"value\": 0.0}, \"5\": {\"effect\": 0.0, \"value\": 0.0}, \"6\": {\"effect\": 0.0, \"value\": 1.0}, \"7\": {\"effect\": -0.001040447679255485, \"value\": 4.0}, \"8\": {\"effect\": 0.0, \"value\": 0.0}, \"9\": {\"effect\": -0.0013695527769475727, \"value\": 0.0}, \"10\": {\"effect\": 0.0, \"value\": 1.0}, \"11\": {\"effect\": -0.0004152249208044939, \"value\": 0.0}, \"12\": {\"effect\": 0.0030989041535282634, \"value\": 1.0}, \"13\": {\"effect\": 0.002392523267987799, \"value\": 1.0}}}, {\"outValue\": 0.9393014636682884, \"simIndex\": 88.0, \"features\": {\"0\": {\"effect\": -0.005251374341990842, \"value\": 34.0}, \"1\": {\"effect\": 0.0, \"value\": 3.0}, \"2\": {\"effect\": -0.002566441246669427, \"value\": 19.0}, \"3\": {\"effect\": 0.0, \"value\": 3.0}, \"4\": {\"effect\": -0.0004577701210932805, \"value\": 0.0}, \"5\": {\"effect\": 0.003319927137864609, \"value\": 0.0}, \"6\": {\"effect\": 0.0, \"value\": 1.0}, \"7\": {\"effect\": -0.0003427329726689646, \"value\": 5.0}, \"8\": {\"effect\": 0.0, \"value\": 0.0}, \"9\": {\"effect\": -0.0014010560965636238, \"value\": 0.0}, \"10\": {\"effect\": 0.0, \"value\": 0.0}, \"11\": {\"effect\": 0.0, \"value\": 0.0}, \"12\": {\"effect\": 0.0009247257485758423, \"value\": 1.0}, \"13\": {\"effect\": 0.0, \"value\": 1.0}}}, {\"outValue\": 0.9297218053778983, \"simIndex\": 137.0, \"features\": {\"0\": {\"effect\": -0.0044645105573526914, \"value\": 36.0}, \"1\": {\"effect\": 0.0, \"value\": 3.0}, \"2\": {\"effect\": 0.002871720860946121, \"value\": 16.0}, \"3\": {\"effect\": 0.0, \"value\": 3.0}, \"4\": {\"effect\": 0.0015330520566100908, \"value\": 1.0}, \"5\": {\"effect\": -0.007634357012706569, \"value\": 6.0}, \"6\": {\"effect\": -0.0003712066576262796, \"value\": 1.0}, \"7\": {\"effect\": -0.001035404180669601, \"value\": 2.0}, \"8\": {\"effect\": 0.0, \"value\": 0.0}, \"9\": {\"effect\": -0.001559421513801269, \"value\": 0.0}, \"10\": {\"effect\": 0.0, \"value\": 0.0}, \"11\": {\"effect\": -0.0003469126325327549, \"value\": 0.0}, \"12\": {\"effect\": -0.0019971662769511997, \"value\": 1.0}, \"13\": {\"effect\": -0.002350174268851625, \"value\": 1.0}}}, {\"outValue\": 0.9408084828892229, \"simIndex\": 101.0, \"features\": {\"0\": {\"effect\": -0.004768496725183336, \"value\": 33.0}, \"1\": {\"effect\": 0.0, \"value\": 3.0}, \"2\": {\"effect\": -0.002523737710884312, \"value\": 19.0}, \"3\": {\"effect\": 0.003344734988594575, \"value\": 0.0}, \"4\": {\"effect\": -0.0004760370890196826, \"value\": 0.0}, \"5\": {\"effect\": 0.002914435846637399, \"value\": 0.0}, \"6\": {\"effect\": 0.0, \"value\": 0.0}, \"7\": {\"effect\": 0.001558636873702757, \"value\": 0.0}, \"8\": {\"effect\": 0.0, \"value\": 0.0}, \"9\": {\"effect\": -0.0011313053698902165, \"value\": 0.0}, \"10\": {\"effect\": 0.0, \"value\": 0.0}, \"11\": {\"effect\": 0.0, \"value\": 0.0}, \"12\": {\"effect\": -0.0014196338504145823, \"value\": 1.0}, \"13\": {\"effect\": -0.001766299635153742, \"value\": 1.0}}}, {\"outValue\": 0.9398775440538497, \"simIndex\": 75.0, \"features\": {\"0\": {\"effect\": -0.008906715196632057, \"value\": 22.0}, \"1\": {\"effect\": 0.0005422716253603919, \"value\": 1.0}, \"2\": {\"effect\": -0.004103285417162707, \"value\": 21.0}, \"3\": {\"effect\": 0.0018204616423563814, \"value\": 1.0}, \"4\": {\"effect\": -0.0007967601140155835, \"value\": 0.0}, \"5\": {\"effect\": 0.004201127774257655, \"value\": 0.0}, \"6\": {\"effect\": 0.0, \"value\": 0.0}, \"7\": {\"effect\": 0.0015608796288793343, \"value\": 0.0}, \"8\": {\"effect\": 0.0, \"value\": 0.0}, \"9\": {\"effect\": -0.00141717401687205, \"value\": 0.0}, \"10\": {\"effect\": 0.0, \"value\": 0.0}, \"11\": {\"effect\": 0.0, \"value\": 0.0}, \"12\": {\"effect\": 0.0012011673080510766, \"value\": 1.0}, \"13\": {\"effect\": 0.000699385258793212, \"value\": 1.0}}}, {\"outValue\": 0.9384023341128372, \"simIndex\": 111.0, \"features\": {\"0\": {\"effect\": -0.005167476620960105, \"value\": 40.0}, \"1\": {\"effect\": 0.0, \"value\": 1.0}, \"2\": {\"effect\": -0.002824825930389504, \"value\": 20.0}, \"3\": {\"effect\": -0.005120577579802495, \"value\": 7.0}, \"4\": {\"effect\": -0.00034450550548722515, \"value\": 0.0}, \"5\": {\"effect\": 0.005162296086066887, \"value\": 0.0}, \"6\": {\"effect\": 0.0, \"value\": 0.0}, \"7\": {\"effect\": 0.0034077739036150662, \"value\": 0.0}, \"8\": {\"effect\": 0.0, \"value\": 0.0}, \"9\": {\"effect\": -0.0017865358010394367, \"value\": 0.0}, \"10\": {\"effect\": 0.0, \"value\": 0.0}, \"11\": {\"effect\": 0.0, \"value\": 0.0}, \"12\": {\"effect\": 0.0, \"value\": 1.0}, \"13\": {\"effect\": 0.0, \"value\": 1.0}}}, {\"outValue\": 0.940877331709407, \"simIndex\": 32.0, \"features\": {\"0\": {\"effect\": -0.005610263285025706, \"value\": 26.0}, \"1\": {\"effect\": 0.0, \"value\": 4.0}, \"2\": {\"effect\": 0.0030169934687489216, \"value\": 13.0}, \"3\": {\"effect\": 0.0022501167226494164, \"value\": 1.0}, \"4\": {\"effect\": -0.0005771979799541575, \"value\": 0.0}, \"5\": {\"effect\": -0.00197191057613877, \"value\": 0.0}, \"6\": {\"effect\": 0.0, \"value\": 1.0}, \"7\": {\"effect\": 0.0, \"value\": 0.25}, \"8\": {\"effect\": 0.0, \"value\": 0.0}, \"9\": {\"effect\": -0.0006438026128375543, \"value\": 0.0}, \"10\": {\"effect\": 0.0, \"value\": 0.0}, \"11\": {\"effect\": 0.0, \"value\": 0.0}, \"12\": {\"effect\": 0.0, \"value\": 1.0}, \"13\": {\"effect\": -0.0006627895888691926, \"value\": 1.0}}}, {\"outValue\": 0.9403226097577411, \"simIndex\": 131.0, \"features\": {\"0\": {\"effect\": -0.006072748110371594, \"value\": 32.0}, \"1\": {\"effect\": 0.0, \"value\": 2.0}, \"2\": {\"effect\": 0.0010442227335921675, \"value\": 17.0}, \"3\": {\"effect\": 0.0031641315597025843, \"value\": 2.0}, \"4\": {\"effect\": 0.0012385475684934832, \"value\": 1.0}, \"5\": {\"effect\": -0.0059182314887305226, \"value\": 9.0}, \"6\": {\"effect\": 0.0, \"value\": 1.0}, \"7\": {\"effect\": 0.00291952001187908, \"value\": 10.0}, \"8\": {\"effect\": 0.0, \"value\": 0.0}, \"9\": {\"effect\": -0.0016312224774261757, \"value\": 0.0}, \"10\": {\"effect\": 0.0, \"value\": 0.0}, \"11\": {\"effect\": 0.0, \"value\": 0.0}, \"12\": {\"effect\": 0.0005022043997679852, \"value\": 1.0}, \"13\": {\"effect\": 0.0, \"value\": 1.0}}}, {\"outValue\": 0.9401335088358043, \"simIndex\": 152.0, \"features\": {\"0\": {\"effect\": -0.014850046650813983, \"value\": 16.0}, \"1\": {\"effect\": 0.0003795082201811222, \"value\": 1.0}, \"2\": {\"effect\": 0.0012159440723052144, \"value\": 15.0}, \"3\": {\"effect\": 0.00182357040258812, \"value\": 1.0}, \"4\": {\"effect\": 0.0011336402813553815, \"value\": 1.0}, \"5\": {\"effect\": -0.0013372737889823993, \"value\": 1.0}, \"6\": {\"effect\": 0.0003232106372920932, \"value\": 0.0}, \"7\": {\"effect\": 0.000426010721882703, \"value\": 0.0}, \"8\": {\"effect\": 0.0, \"value\": 0.0}, \"9\": {\"effect\": -0.0013901255028204015, \"value\": 0.0}, \"10\": {\"effect\": 0.0, \"value\": 0.0}, \"11\": {\"effect\": 0.0, \"value\": 0.0}, \"12\": {\"effect\": 0.004114056877891547, \"value\": 1.0}, \"13\": {\"effect\": 0.0032188280040908127, \"value\": 1.0}}}, {\"outValue\": 0.9407750287828296, \"simIndex\": 86.0, \"features\": {\"0\": {\"effect\": -0.006482165159885029, \"value\": 25.0}, \"1\": {\"effect\": 0.0, \"value\": 3.0}, \"2\": {\"effect\": -0.0012687848256824545, \"value\": 18.0}, \"3\": {\"effect\": 0.0, \"value\": 3.0}, \"4\": {\"effect\": -0.0006526563146423726, \"value\": 0.0}, \"5\": {\"effect\": 0.0024358189298034558, \"value\": 0.0}, \"6\": {\"effect\": 0.0, \"value\": 0.0}, \"7\": {\"effect\": 0.0018999477440834992, \"value\": 0.0}, \"8\": {\"effect\": 0.0, \"value\": 0.0}, \"9\": {\"effect\": -0.0009428082646992203, \"value\": 0.0}, \"10\": {\"effect\": 0.0, \"value\": 0.0}, \"11\": {\"effect\": 0.0, \"value\": 0.0}, \"12\": {\"effect\": 0.0007094911130176556, \"value\": 1.0}, \"13\": {\"effect\": 0.0, \"value\": 1.0}}}, {\"outValue\": 0.9399702820648443, \"simIndex\": 49.0, \"features\": {\"0\": {\"effect\": -0.00948160610949564, \"value\": 21.0}, \"1\": {\"effect\": 0.0, \"value\": 4.0}, \"2\": {\"effect\": 0.0013890958315779418, \"value\": 15.0}, \"3\": {\"effect\": 0.0010691025605410027, \"value\": 2.0}, \"4\": {\"effect\": -0.0005647497399512949, \"value\": 0.0}, \"5\": {\"effect\": 0.0, \"value\": 0.0}, \"6\": {\"effect\": 0.0, \"value\": 0.0}, \"7\": {\"effect\": 0.0009215555538556253, \"value\": 0.0}, \"8\": {\"effect\": 0.0, \"value\": 0.0}, \"9\": {\"effect\": -0.0010764889705041254, \"value\": 0.0}, \"10\": {\"effect\": 0.0, \"value\": 0.0}, \"11\": {\"effect\": 0.0, \"value\": 0.0}, \"12\": {\"effect\": 0.0016332169797383198, \"value\": 1.0}, \"13\": {\"effect\": 0.0010039703982484532, \"value\": 1.0}}}, {\"outValue\": 0.9401557644881944, \"simIndex\": 74.0, \"features\": {\"0\": {\"effect\": -0.007582159744128732, \"value\": 24.0}, \"1\": {\"effect\": 0.00038489179004944215, \"value\": 1.0}, \"2\": {\"effect\": -0.004214712844951449, \"value\": 21.0}, \"3\": {\"effect\": 0.0017717157582877378, \"value\": 1.0}, \"4\": {\"effect\": -0.000635851875662786, \"value\": 0.0}, \"5\": {\"effect\": 0.00457879225220171, \"value\": 0.0}, \"6\": {\"effect\": 0.0, \"value\": 1.0}, \"7\": {\"effect\": 0.0013067974514305394, \"value\": 1.0}, \"8\": {\"effect\": 0.0, \"value\": 0.0}, \"9\": {\"effect\": -0.0014085426811373423, \"value\": 0.0}, \"10\": {\"effect\": 0.0, \"value\": 0.0}, \"11\": {\"effect\": 0.0, \"value\": 0.0}, \"12\": {\"effect\": 0.0008786488212711987, \"value\": 1.0}, \"13\": {\"effect\": 0.0, \"value\": 1.0}}}, {\"outValue\": 0.9392945629930747, \"simIndex\": 10.0, \"features\": {\"0\": {\"effect\": -0.007188745106754991, \"value\": 28.0}, \"1\": {\"effect\": 0.0, \"value\": 2.0}, \"2\": {\"effect\": 0.0, \"value\": 17.0}, \"3\": {\"effect\": 0.002816254387854515, \"value\": 1.0}, \"4\": {\"effect\": -0.0005959231587471395, \"value\": 0.0}, \"5\": {\"effect\": -0.001512743676247542, \"value\": 0.0}, \"6\": {\"effect\": 0.0, \"value\": 1.0}, \"7\": {\"effect\": -0.0035181395875002975, \"value\": 9.0}, \"8\": {\"effect\": 0.0, \"value\": 0.0}, \"9\": {\"effect\": -0.0013309029843070613, \"value\": 0.0}, \"10\": {\"effect\": 0.0, \"value\": 0.0}, \"11\": {\"effect\": 0.0, \"value\": 0.0}, \"12\": {\"effect\": 0.0030728893065171104, \"value\": 1.0}, \"13\": {\"effect\": 0.0024756882514260243, \"value\": 1.0}}}, {\"outValue\": 0.9393240260074333, \"simIndex\": 36.0, \"features\": {\"0\": {\"effect\": -0.004564050955985232, \"value\": 30.0}, \"1\": {\"effect\": 0.0, \"value\": 1.0}, \"2\": {\"effect\": 0.001116807959608234, \"value\": 15.0}, \"3\": {\"effect\": 0.0, \"value\": 3.0}, \"4\": {\"effect\": -0.0005812580364901367, \"value\": 0.0}, \"5\": {\"effect\": -0.0002885672689700385, \"value\": 0.0}, \"6\": {\"effect\": 0.0, \"value\": 1.0}, \"7\": {\"effect\": 0.001353075445044542, \"value\": 0.0}, \"8\": {\"effect\": 0.0, \"value\": 0.0}, \"9\": {\"effect\": -0.000951917954717284, \"value\": 0.0}, \"10\": {\"effect\": 0.0, \"value\": 0.0}, \"11\": {\"effect\": -0.00029948160112539847, \"value\": 0.0}, \"12\": {\"effect\": -0.0005133689646005324, \"value\": 1.0}, \"13\": {\"effect\": -0.0010233981761649576, \"value\": 1.0}}}, {\"outValue\": 0.9389259534502085, \"simIndex\": 155.0, \"features\": {\"0\": {\"effect\": -0.013644013021966715, \"value\": 17.0}, \"1\": {\"effect\": 0.0, \"value\": 2.0}, \"2\": {\"effect\": 0.0010635079198382967, \"value\": 15.0}, \"3\": {\"effect\": 0.0016101543836701082, \"value\": 1.0}, \"4\": {\"effect\": 0.0, \"value\": 0.0}, \"5\": {\"effect\": -0.0008020600157427043, \"value\": 0.0}, \"6\": {\"effect\": 0.000541734834011156, \"value\": 0.0}, \"7\": {\"effect\": 0.00043818519190268277, \"value\": 0.0}, \"8\": {\"effect\": 0.0, \"value\": 0.0}, \"9\": {\"effect\": -0.0015054792549403853, \"value\": 0.0}, \"10\": {\"effect\": 0.0, \"value\": 0.0}, \"11\": {\"effect\": 0.0, \"value\": 0.0}, \"12\": {\"effect\": 0.0033283273749133173, \"value\": 1.0}, \"13\": {\"effect\": 0.002819410477688647, \"value\": 1.0}}}, {\"outValue\": 0.9397414953673785, \"simIndex\": 54.0, \"features\": {\"0\": {\"effect\": -0.010569682606906675, \"value\": 20.0}, \"1\": {\"effect\": 0.0, \"value\": 4.0}, \"2\": {\"effect\": 0.002116197901199715, \"value\": 14.0}, \"3\": {\"effect\": 0.0018727100984183677, \"value\": 1.0}, \"4\": {\"effect\": 0.0, \"value\": 0.0}, \"5\": {\"effect\": -0.0013396824940831564, \"value\": 0.0}, \"6\": {\"effect\": 0.00038602513170294403, \"value\": 0.0}, \"7\": {\"effect\": 0.0004391979828526826, \"value\": 0.0}, \"8\": {\"effect\": 0.0, \"value\": 0.0}, \"9\": {\"effect\": -0.0011701544479899369, \"value\": 0.0}, \"10\": {\"effect\": 0.0, \"value\": 0.0}, \"11\": {\"effect\": 0.0, \"value\": 0.0}, \"12\": {\"effect\": 0.0018064068455264253, \"value\": 1.0}, \"13\": {\"effect\": 0.0011242913958240727, \"value\": 1.0}}}, {\"outValue\": 0.9455398569750464, \"simIndex\": 169.0, \"features\": {\"0\": {\"effect\": -0.0024314655962359884, \"value\": 30.0}, \"1\": {\"effect\": 0.0, \"value\": 5.0}, \"2\": {\"effect\": 0.0008606584028294098, \"value\": 16.0}, \"3\": {\"effect\": -0.004103305515989336, \"value\": 4.0}, \"4\": {\"effect\": -0.0005257414730457915, \"value\": 0.0}, \"5\": {\"effect\": -0.008701142313460001, \"value\": 0.0}, \"6\": {\"effect\": 0.0008425511370050223, \"value\": 0.0}, \"7\": {\"effect\": 0.018290447855466508, \"value\": 0.0}, \"8\": {\"effect\": 0.0011000145750715692, \"value\": 1.0}, \"9\": {\"effect\": 0.0049916246862665775, \"value\": 7.0}, \"10\": {\"effect\": -0.0005762812205892566, \"value\": 1.0}, \"11\": {\"effect\": 0.0013768672203019459, \"value\": 1.0}, \"12\": {\"effect\": -0.006577777204723724, \"value\": 11.0}, \"13\": {\"effect\": -0.004082779138684604, \"value\": 11.0}}}, {\"outValue\": 0.9386762033505954, \"simIndex\": 145.0, \"features\": {\"0\": {\"effect\": -0.014197970450447848, \"value\": 17.0}, \"1\": {\"effect\": 0.0, \"value\": 1.0}, \"2\": {\"effect\": 0.0018247337005095742, \"value\": 14.0}, \"3\": {\"effect\": 0.0020642451106487247, \"value\": 1.0}, \"4\": {\"effect\": -0.0006277883385632909, \"value\": 0.0}, \"5\": {\"effect\": -0.0012728792562125089, \"value\": 0.0}, \"6\": {\"effect\": 0.0, \"value\": 1.0}, \"7\": {\"effect\": -0.0006999568853052829, \"value\": 2.0}, \"8\": {\"effect\": 0.0, \"value\": 0.0}, \"9\": {\"effect\": -0.0014693713344744938, \"value\": 0.0}, \"10\": {\"effect\": 0.0, \"value\": 0.0}, \"11\": {\"effect\": 0.0, \"value\": 0.0}, \"12\": {\"effect\": 0.004265030915885866, \"value\": 1.0}, \"13\": {\"effect\": 0.0037139743277206268, \"value\": 1.0}}}, {\"outValue\": 0.9385030290101276, \"simIndex\": 76.0, \"features\": {\"0\": {\"effect\": -0.008937390151571632, \"value\": 23.0}, \"1\": {\"effect\": 0.0, \"value\": 5.0}, \"2\": {\"effect\": -0.0036771492417996543, \"value\": 20.0}, \"3\": {\"effect\": 0.0019497251557691467, \"value\": 1.0}, \"4\": {\"effect\": -0.0006485460321910778, \"value\": 0.0}, \"5\": {\"effect\": 0.0038425133712996, \"value\": 0.0}, \"6\": {\"effect\": 0.0, \"value\": 1.0}, \"7\": {\"effect\": 0.0009631811323563941, \"value\": 1.0}, \"8\": {\"effect\": 0.0, \"value\": 0.0}, \"9\": {\"effect\": -0.0012182049775217203, \"value\": 0.0}, \"10\": {\"effect\": 0.0, \"value\": 0.0}, \"11\": {\"effect\": 0.0, \"value\": 0.0}, \"12\": {\"effect\": 0.0011527141929524934, \"value\": 1.0}, \"13\": {\"effect\": 0.0, \"value\": 1.0}}}, {\"outValue\": 0.9609728823996149, \"simIndex\": 170.0, \"features\": {\"0\": {\"effect\": 0.003928388816360144, \"value\": 33.0}, \"1\": {\"effect\": 0.0, \"value\": 4.0}, \"2\": {\"effect\": 0.0, \"value\": 17.0}, \"3\": {\"effect\": 0.012272306055864574, \"value\": 0.0}, \"4\": {\"effect\": 0.0, \"value\": 0.0}, \"5\": {\"effect\": -0.007871452814764387, \"value\": 0.0}, \"6\": {\"effect\": -0.00048488200284179, \"value\": 1.0}, \"7\": {\"effect\": 0.015234449375339703, \"value\": 0.75}, \"8\": {\"effect\": 0.0, \"value\": 0.0}, \"9\": {\"effect\": -0.0012749150123122777, \"value\": 0.0}, \"10\": {\"effect\": -0.0003263595570668406, \"value\": 1.0}, \"11\": {\"effect\": 0.0017004406511800779, \"value\": 1.0}, \"12\": {\"effect\": -0.004767945975686407, \"value\": 11.0}, \"13\": {\"effect\": -0.0025133326972919846, \"value\": 11.0}}}, {\"outValue\": 0.926036616546559, \"simIndex\": 130.0, \"features\": {\"0\": {\"effect\": -0.006489271334740207, \"value\": 36.0}, \"1\": {\"effect\": 0.0, \"value\": 2.0}, \"2\": {\"effect\": -0.0036451086883811205, \"value\": 18.0}, \"3\": {\"effect\": 0.008440100882721818, \"value\": 1.0}, \"4\": {\"effect\": 0.0014403557174695004, \"value\": 1.0}, \"5\": {\"effect\": -0.014343546351226482, \"value\": 19.0}, \"6\": {\"effect\": -0.0006300995064104677, \"value\": 1.0}, \"7\": {\"effect\": 0.006710632579886647, \"value\": 8.0}, \"8\": {\"effect\": 0.0, \"value\": 0.0}, \"9\": {\"effect\": -0.004218407653877477, \"value\": 0.0}, \"10\": {\"effect\": -0.0002550107640485813, \"value\": 0.0}, \"11\": {\"effect\": -0.00042982836785432875, \"value\": 0.0}, \"12\": {\"effect\": -0.0026483075770861453, \"value\": 1.0}, \"13\": {\"effect\": -0.002971077950728214, \"value\": 1.0}}}, {\"outValue\": 0.9397316653877482, \"simIndex\": 46.0, \"features\": {\"0\": {\"effect\": -0.008706428530884113, \"value\": 22.0}, \"1\": {\"effect\": 0.0, \"value\": 2.0}, \"2\": {\"effect\": 0.0, \"value\": 17.0}, \"3\": {\"effect\": 0.0016529540270918026, \"value\": 1.0}, \"4\": {\"effect\": -0.0007657643644601491, \"value\": 0.0}, \"5\": {\"effect\": 0.0008152144745485579, \"value\": 0.0}, \"6\": {\"effect\": 0.0, \"value\": 1.0}, \"7\": {\"effect\": 0.0012569998284431183, \"value\": 0.0}, \"8\": {\"effect\": 0.0, \"value\": 0.0}, \"9\": {\"effect\": -0.0011697758451194437, \"value\": 0.0}, \"10\": {\"effect\": 0.0, \"value\": 0.0}, \"11\": {\"effect\": 0.0, \"value\": 0.0}, \"12\": {\"effect\": 0.0010615889679718115, \"value\": 1.0}, \"13\": {\"effect\": 0.0005106912693225718, \"value\": 1.0}}}, {\"outValue\": 0.9398393360391654, \"simIndex\": 110.0, \"features\": {\"0\": {\"effect\": -0.005157779142638037, \"value\": 34.0}, \"1\": {\"effect\": 0.0, \"value\": 1.0}, \"2\": {\"effect\": -0.0036369620485959234, \"value\": 20.0}, \"3\": {\"effect\": 0.00268977268880876, \"value\": 1.0}, \"4\": {\"effect\": -0.0003979045461548155, \"value\": 0.0}, \"5\": {\"effect\": 0.0035387854510749548, \"value\": 0.0}, \"6\": {\"effect\": 0.0, \"value\": 1.0}, \"7\": {\"effect\": 0.0, \"value\": 4.0}, \"8\": {\"effect\": 0.0, \"value\": 0.0}, \"9\": {\"effect\": -0.001445761913890895, \"value\": 0.0}, \"10\": {\"effect\": 0.0, \"value\": 0.0}, \"11\": {\"effect\": -0.0002541172018590784, \"value\": 0.0}, \"12\": {\"effect\": 0.0, \"value\": 1.0}, \"13\": {\"effect\": -0.0005728828084136609, \"value\": 1.0}}}, {\"outValue\": 0.938950758484305, \"simIndex\": 165.0, \"features\": {\"0\": {\"effect\": -0.011426254271562433, \"value\": 19.0}, \"1\": {\"effect\": 0.0, \"value\": 1.0}, \"2\": {\"effect\": 0.0015589249747878595, \"value\": 14.0}, \"3\": {\"effect\": 0.0011123743482168349, \"value\": 2.0}, \"4\": {\"effect\": -0.0005754262992842974, \"value\": 0.0}, \"5\": {\"effect\": -0.001168045976932374, \"value\": 0.0}, \"6\": {\"effect\": 0.0, \"value\": 1.0}, \"7\": {\"effect\": 0.0, \"value\": 1.5}, \"8\": {\"effect\": 0.0, \"value\": 0.0}, \"9\": {\"effect\": -0.0013751082899562577, \"value\": 0.0}, \"10\": {\"effect\": 0.0, \"value\": 0.0}, \"11\": {\"effect\": 0.0, \"value\": 0.0}, \"12\": {\"effect\": 0.0032322230819594377, \"value\": 1.0}, \"13\": {\"effect\": 0.0025158853562421493, \"value\": 1.0}}}, {\"outValue\": 0.9403375057965291, \"simIndex\": 99.0, \"features\": {\"0\": {\"effect\": -0.006543600284891116, \"value\": 25.0}, \"1\": {\"effect\": 0.0, \"value\": 3.0}, \"2\": {\"effect\": 0.0, \"value\": 17.0}, \"3\": {\"effect\": 0.0011349473224134409, \"value\": 2.0}, \"4\": {\"effect\": -0.0006541208447187127, \"value\": 0.0}, \"5\": {\"effect\": 0.0012622394778021063, \"value\": 0.0}, \"6\": {\"effect\": 0.0, \"value\": 1.0}, \"7\": {\"effect\": 0.0014777831794226563, \"value\": 0.08}, \"8\": {\"effect\": 0.0, \"value\": 0.0}, \"9\": {\"effect\": -0.0010071572062107272, \"value\": 0.0}, \"10\": {\"effect\": 0.0, \"value\": 0.0}, \"11\": {\"effect\": -0.000408771408122623, \"value\": 0.0}, \"12\": {\"effect\": 0.0, \"value\": 1.0}, \"13\": {\"effect\": 0.0, \"value\": 1.0}}}, {\"outValue\": 0.9395456703640631, \"simIndex\": 53.0, \"features\": {\"0\": {\"effect\": -0.009084727317242669, \"value\": 21.0}, \"1\": {\"effect\": 0.0, \"value\": 2.0}, \"2\": {\"effect\": 0.002464672837464363, \"value\": 13.0}, \"3\": {\"effect\": 0.0010301911759973287, \"value\": 2.0}, \"4\": {\"effect\": -0.0006384729421859293, \"value\": 0.0}, \"5\": {\"effect\": -0.0019756666240375613, \"value\": 0.0}, \"6\": {\"effect\": 0.0, \"value\": 1.0}, \"7\": {\"effect\": 0.0008575910584759545, \"value\": 0.0}, \"8\": {\"effect\": 0.0, \"value\": 0.0}, \"9\": {\"effect\": -0.0011030036589507438, \"value\": 0.0}, \"10\": {\"effect\": 0.0, \"value\": 0.0}, \"11\": {\"effect\": 0.0, \"value\": 0.0}, \"12\": {\"effect\": 0.0016771273670067644, \"value\": 1.0}, \"13\": {\"effect\": 0.0012417729067015475, \"value\": 1.0}}}, {\"outValue\": 0.9394755356566369, \"simIndex\": 67.0, \"features\": {\"0\": {\"effect\": -0.010399897498580689, \"value\": 20.0}, \"1\": {\"effect\": 0.0004080641816132306, \"value\": 1.0}, \"2\": {\"effect\": -0.0019671946375945516, \"value\": 19.0}, \"3\": {\"effect\": 0.0016468570702116115, \"value\": 1.0}, \"4\": {\"effect\": -0.0007336716324867071, \"value\": 0.0}, \"5\": {\"effect\": 0.0021289025335488308, \"value\": 0.0}, \"6\": {\"effect\": 0.0, \"value\": 0.0}, \"7\": {\"effect\": 0.0011879913968116606, \"value\": 0.0}, \"8\": {\"effect\": 0.0, \"value\": 0.0}, \"9\": {\"effect\": -0.0013508587916409524, \"value\": 0.0}, \"10\": {\"effect\": 0.0, \"value\": 0.0}, \"11\": {\"effect\": 0.0, \"value\": 0.0}, \"12\": {\"effect\": 0.002099616357341908, \"value\": 1.0}, \"13\": {\"effect\": 0.0013795411165784827, \"value\": 1.0}}}, {\"outValue\": 0.938886683459744, \"simIndex\": 149.0, \"features\": {\"0\": {\"effect\": -0.014622972706383706, \"value\": 16.0}, \"1\": {\"effect\": 0.000335953567562065, \"value\": 1.0}, \"2\": {\"effect\": 0.000300693513962971, \"value\": 16.0}, \"3\": {\"effect\": 0.0017716331032759476, \"value\": 1.0}, \"4\": {\"effect\": 0.0, \"value\": 0.0}, \"5\": {\"effect\": 0.0, \"value\": 0.0}, \"6\": {\"effect\": 0.0, \"value\": 0.0}, \"7\": {\"effect\": 0.0004584467904572478, \"value\": 0.0}, \"8\": {\"effect\": 0.0, \"value\": 0.0}, \"9\": {\"effect\": -0.0016277316126255261, \"value\": 0.0}, \"10\": {\"effect\": 0.0, \"value\": 0.0}, \"11\": {\"effect\": 0.0, \"value\": 0.0}, \"12\": {\"effect\": 0.003837178142745966, \"value\": 1.0}, \"13\": {\"effect\": 0.003357297099914997, \"value\": 1.0}}}, {\"outValue\": 0.9394608510175754, \"simIndex\": 133.0, \"features\": {\"0\": {\"effect\": -0.01070620812790826, \"value\": 20.0}, \"1\": {\"effect\": 0.0, \"value\": 3.0}, \"2\": {\"effect\": 0.003856106044282516, \"value\": 14.0}, \"3\": {\"effect\": 0.0, \"value\": 3.0}, \"4\": {\"effect\": 0.0017592746727971894, \"value\": 1.0}, \"5\": {\"effect\": -0.0052244005169687115, \"value\": 4.0}, \"6\": {\"effect\": 0.0006232685264232459, \"value\": 0.0}, \"7\": {\"effect\": 0.0006988241570226898, \"value\": 0.0}, \"8\": {\"effect\": 0.0, \"value\": 0.0}, \"9\": {\"effect\": -0.0010718904454495104, \"value\": 0.0}, \"10\": {\"effect\": 0.0, \"value\": 1.0}, \"11\": {\"effect\": 0.001552130006566019, \"value\": 1.0}, \"12\": {\"effect\": 0.0018015381047969763, \"value\": 1.0}, \"13\": {\"effect\": 0.0010960230351791563, \"value\": 1.0}}}, {\"outValue\": 0.9372755616856411, \"simIndex\": 120.0, \"features\": {\"0\": {\"effect\": -0.005684873211277877, \"value\": 37.0}, \"1\": {\"effect\": 0.0, \"value\": 2.0}, \"2\": {\"effect\": -0.005639600002005961, \"value\": 21.0}, \"3\": {\"effect\": -0.0013243422660678102, \"value\": 4.0}, \"4\": {\"effect\": -0.0005956482826583519, \"value\": 0.0}, \"5\": {\"effect\": 0.006262103332891699, \"value\": 0.0}, \"6\": {\"effect\": 0.0, \"value\": 1.0}, \"7\": {\"effect\": 0.0, \"value\": 4.0}, \"8\": {\"effect\": 0.0, \"value\": 0.0}, \"9\": {\"effect\": -0.0017804654508120424, \"value\": 0.0}, \"10\": {\"effect\": 0.0, \"value\": 0.0}, \"11\": {\"effect\": 0.0, \"value\": 0.0}, \"12\": {\"effect\": 0.0009622020047373656, \"value\": 1.0}, \"13\": {\"effect\": 0.0, \"value\": 1.0}}}, {\"outValue\": 0.9394613680821374, \"simIndex\": 77.0, \"features\": {\"0\": {\"effect\": -0.006146798535348283, \"value\": 32.0}, \"1\": {\"effect\": 0.0, \"value\": 2.0}, \"2\": {\"effect\": -0.0026203549196800275, \"value\": 19.0}, \"3\": {\"effect\": 0.003298482594305918, \"value\": 1.0}, \"4\": {\"effect\": -0.0005545269859442052, \"value\": 0.0}, \"5\": {\"effect\": 0.001164605155255551, \"value\": 0.0}, \"6\": {\"effect\": 0.0, \"value\": 1.0}, \"7\": {\"effect\": -0.0024567019294118677, \"value\": 8.0}, \"8\": {\"effect\": 0.0, \"value\": 0.0}, \"9\": {\"effect\": -0.0014128805194016606, \"value\": 0.0}, \"10\": {\"effect\": 0.0, \"value\": 0.0}, \"11\": {\"effect\": 0.0, \"value\": 0.0}, \"12\": {\"effect\": 0.0017733308535149237, \"value\": 1.0}, \"13\": {\"effect\": 0.0013400268080130187, \"value\": 1.0}}}, {\"outValue\": 0.9431128523488846, \"simIndex\": 3.0, \"features\": {\"0\": {\"effect\": -0.005418526324314352, \"value\": 32.0}, \"1\": {\"effect\": -0.0016613114684708695, \"value\": 7.0}, \"2\": {\"effect\": 0.028865279633497273, \"value\": 12.0}, \"3\": {\"effect\": 0.002814894599917131, \"value\": 2.0}, \"4\": {\"effect\": 0.001112605519531661, \"value\": 1.0}, \"5\": {\"effect\": -0.010993084916325252, \"value\": 19.0}, \"6\": {\"effect\": -0.0005060120463276089, \"value\": 1.0}, \"7\": {\"effect\": -0.005600966005586275, \"value\": 0.0}, \"8\": {\"effect\": 0.0, \"value\": 0.0}, \"9\": {\"effect\": -0.002875089121307282, \"value\": 0.0}, \"10\": {\"effect\": 0.0, \"value\": 0.0}, \"11\": {\"effect\": -0.0005319632363004066, \"value\": 0.0}, \"12\": {\"effect\": -0.0035739821441519615, \"value\": 1.0}, \"13\": {\"effect\": -0.0035951777021114707, \"value\": 1.0}}}, {\"outValue\": 0.9387600567370014, \"simIndex\": 158.0, \"features\": {\"0\": {\"effect\": -0.011965310270850644, \"value\": 19.0}, \"1\": {\"effect\": 0.0, \"value\": 2.0}, \"2\": {\"effect\": 0.0, \"value\": 16.0}, \"3\": {\"effect\": 0.0018638673460207884, \"value\": 1.0}, \"4\": {\"effect\": -0.0005782640006947544, \"value\": 0.0}, \"5\": {\"effect\": 0.0, \"value\": 0.0}, \"6\": {\"effect\": 0.0, \"value\": 1.0}, \"7\": {\"effect\": 0.0, \"value\": 2.0}, \"8\": {\"effect\": 0.0, \"value\": 0.0}, \"9\": {\"effect\": -0.0013986280495925365, \"value\": 0.0}, \"10\": {\"effect\": 0.0, \"value\": 0.0}, \"11\": {\"effect\": 0.0, \"value\": 0.0}, \"12\": {\"effect\": 0.00331479804433292, \"value\": 1.0}, \"13\": {\"effect\": 0.0024474081069515256, \"value\": 1.0}}}, {\"outValue\": 0.941577818727049, \"simIndex\": 69.0, \"features\": {\"0\": {\"effect\": -0.007658815218044153, \"value\": 23.0}, \"1\": {\"effect\": 0.0, \"value\": 1.0}, \"2\": {\"effect\": -0.00108369558127566, \"value\": 18.0}, \"3\": {\"effect\": -0.001611925151735684, \"value\": 5.0}, \"4\": {\"effect\": -0.0008297487012962471, \"value\": 0.0}, \"5\": {\"effect\": 0.0029516838410619216, \"value\": 0.0}, \"6\": {\"effect\": 0.0, \"value\": 1.0}, \"7\": {\"effect\": 0.002188770089417826, \"value\": 0.25}, \"8\": {\"effect\": 0.0, \"value\": 0.0}, \"9\": {\"effect\": -0.001099352605716455, \"value\": 0.0}, \"10\": {\"effect\": 0.0, \"value\": 0.0}, \"11\": {\"effect\": 0.0, \"value\": 0.0}, \"12\": {\"effect\": 0.002157138713510807, \"value\": 1.0}, \"13\": {\"effect\": 0.0014875777802926277, \"value\": 1.0}}}, {\"outValue\": 0.9394316761248686, \"simIndex\": 52.0, \"features\": {\"0\": {\"effect\": -0.009493993339116243, \"value\": 21.0}, \"1\": {\"effect\": 0.0, \"value\": 3.0}, \"2\": {\"effect\": 0.0018689430328419103, \"value\": 14.0}, \"3\": {\"effect\": 0.0, \"value\": 3.0}, \"4\": {\"effect\": -0.0005912385723451995, \"value\": 0.0}, \"5\": {\"effect\": -0.0010536705706863233, \"value\": 0.0}, \"6\": {\"effect\": 0.0, \"value\": 1.0}, \"7\": {\"effect\": 0.0006239847782147511, \"value\": 1.0}, \"8\": {\"effect\": 0.0, \"value\": 0.0}, \"9\": {\"effect\": -0.0012096609024865243, \"value\": 0.0}, \"10\": {\"effect\": 0.0, \"value\": 0.0}, \"11\": {\"effect\": 0.0, \"value\": 0.0}, \"12\": {\"effect\": 0.002487765414259772, \"value\": 1.0}, \"13\": {\"effect\": 0.0017233607233523504, \"value\": 1.0}}}, {\"outValue\": 0.9402867561624291, \"simIndex\": 15.0, \"features\": {\"0\": {\"effect\": -0.0056977043818998725, \"value\": 29.0}, \"1\": {\"effect\": 0.0, \"value\": 4.0}, \"2\": {\"effect\": 0.0008314843566927465, \"value\": 16.0}, \"3\": {\"effect\": -0.0022946420615671285, \"value\": 5.0}, \"4\": {\"effect\": 0.0, \"value\": 0.0}, \"5\": {\"effect\": 0.0, \"value\": 0.0}, \"6\": {\"effect\": 0.0, \"value\": 1.0}, \"7\": {\"effect\": -0.0014050272631279427, \"value\": 6.0}, \"8\": {\"effect\": 0.0, \"value\": 0.0}, \"9\": {\"effect\": -0.001186737335688636, \"value\": 0.0}, \"10\": {\"effect\": 0.0, \"value\": 0.0}, \"11\": {\"effect\": 0.0, \"value\": 0.0}, \"12\": {\"effect\": 0.0029248408354682074, \"value\": 1.0}, \"13\": {\"effect\": 0.0020383564517176397, \"value\": 1.0}}}, {\"outValue\": 0.9321083203283428, \"simIndex\": 123.0, \"features\": {\"0\": {\"effect\": -0.0054661126908529326, \"value\": 33.0}, \"1\": {\"effect\": 0.0, \"value\": 5.0}, \"2\": {\"effect\": -0.004128047946316668, \"value\": 19.0}, \"3\": {\"effect\": 0.003697894108990611, \"value\": 1.0}, \"4\": {\"effect\": 0.0016440291597489905, \"value\": 1.0}, \"5\": {\"effect\": -0.0032183180972953866, \"value\": 4.0}, \"6\": {\"effect\": -0.0003398784132129856, \"value\": 1.0}, \"7\": {\"effect\": -0.00021552287290260534, \"value\": 2.282200521}, \"8\": {\"effect\": 0.0, \"value\": 0.0}, \"9\": {\"effect\": -0.001316087055674332, \"value\": 0.0}, \"10\": {\"effect\": 0.0, \"value\": 0.0}, \"11\": {\"effect\": -0.0003598468958689264, \"value\": 0.0}, \"12\": {\"effect\": -0.0013435000472051557, \"value\": 1.0}, \"13\": {\"effect\": -0.0019224744819018817, \"value\": 1.0}}}, {\"outValue\": 0.9384271119419879, \"simIndex\": 114.0, \"features\": {\"0\": {\"effect\": -0.004254186458786246, \"value\": 37.0}, \"1\": {\"effect\": 0.0, \"value\": 3.0}, \"2\": {\"effect\": -0.001238672313460489, \"value\": 18.0}, \"3\": {\"effect\": 0.0, \"value\": 3.0}, \"4\": {\"effect\": -0.0003584189478892119, \"value\": 0.0}, \"5\": {\"effect\": 0.0024605185080009404, \"value\": 0.0}, \"6\": {\"effect\": -0.00022706148026462166, \"value\": 1.0}, \"7\": {\"effect\": 0.001155227906525697, \"value\": 0.25}, \"8\": {\"effect\": 0.0, \"value\": 0.0}, \"9\": {\"effect\": -0.0017170628391617463, \"value\": 0.0}, \"10\": {\"effect\": 0.0, \"value\": 0.0}, \"11\": {\"effect\": -0.0002391403477207221, \"value\": 0.0}, \"12\": {\"effect\": -0.000932977389576884, \"value\": 1.0}, \"13\": {\"effect\": -0.0012973002565128625, \"value\": 1.0}}}, {\"outValue\": 0.9394065965907363, \"simIndex\": 47.0, \"features\": {\"0\": {\"effect\": -0.008677618083995722, \"value\": 22.0}, \"1\": {\"effect\": 0.0, \"value\": 3.0}, \"2\": {\"effect\": 0.0, \"value\": 17.0}, \"3\": {\"effect\": 0.0018967609169995943, \"value\": 1.0}, \"4\": {\"effect\": -0.0005991351138377545, \"value\": 0.0}, \"5\": {\"effect\": 0.0, \"value\": 0.0}, \"6\": {\"effect\": 0.0, \"value\": 0.0}, \"7\": {\"effect\": 0.0012661529752588442, \"value\": 0.0}, \"8\": {\"effect\": 0.0, \"value\": 0.0}, \"9\": {\"effect\": -0.0011499747162109783, \"value\": 0.0}, \"10\": {\"effect\": 0.0, \"value\": 1.0}, \"11\": {\"effect\": 0.0, \"value\": 0.0}, \"12\": {\"effect\": 0.0011370850676807628, \"value\": 1.0}, \"13\": {\"effect\": 0.000457139984007527, \"value\": 1.0}}}, {\"outValue\": 0.9405053088436616, \"simIndex\": 17.0, \"features\": {\"0\": {\"effect\": -0.005629183367777691, \"value\": 30.0}, \"1\": {\"effect\": 0.0006225907427706086, \"value\": 5.0}, \"2\": {\"effect\": 0.0021276006300297904, \"value\": 15.0}, \"3\": {\"effect\": 0.0, \"value\": 3.0}, \"4\": {\"effect\": -0.0006154914239839045, \"value\": 0.0}, \"5\": {\"effect\": -0.0012835483508816204, \"value\": 0.0}, \"6\": {\"effect\": 0.0, \"value\": 1.0}, \"7\": {\"effect\": -0.0011509964845692238, \"value\": 6.0}, \"8\": {\"effect\": 0.0, \"value\": 0.0}, \"9\": {\"effect\": -0.0010610014510297168, \"value\": 0.0}, \"10\": {\"effect\": 0.0, \"value\": 0.0}, \"11\": {\"effect\": 0.0, \"value\": 0.0}, \"12\": {\"effect\": 0.0015680580553765965, \"value\": 1.0}, \"13\": {\"effect\": 0.000851094932892673, \"value\": 1.0}}}, {\"outValue\": 0.941383964270835, \"simIndex\": 72.0, \"features\": {\"0\": {\"effect\": -0.008402216770599838, \"value\": 22.0}, \"1\": {\"effect\": 0.0002851826668804616, \"value\": 1.0}, \"2\": {\"effect\": 0.0, \"value\": 17.0}, \"3\": {\"effect\": 0.0008460280255218268, \"value\": 2.0}, \"4\": {\"effect\": -0.0007552374424810693, \"value\": 0.0}, \"5\": {\"effect\": 0.000836697086631391, \"value\": 0.0}, \"6\": {\"effect\": 0.0, \"value\": 1.0}, \"7\": {\"effect\": 0.0004463314195858976, \"value\": 0.16}, \"8\": {\"effect\": 0.0006054379597678996, \"value\": 1.0}, \"9\": {\"effect\": 0.0009314518863458411, \"value\": 3.0}, \"10\": {\"effect\": 0.0, \"value\": 0.0}, \"11\": {\"effect\": 0.0, \"value\": 0.0}, \"12\": {\"effect\": 0.0011284072757977719, \"value\": 1.0}, \"13\": {\"effect\": 0.00038569660255079706, \"value\": 1.0}}}, {\"outValue\": 0.9403127705254284, \"simIndex\": 21.0, \"features\": {\"0\": {\"effect\": -0.006783196788690778, \"value\": 24.0}, \"1\": {\"effect\": 0.0, \"value\": 1.0}, \"2\": {\"effect\": 0.0004463100186418217, \"value\": 16.0}, \"3\": {\"effect\": 0.0, \"value\": 3.0}, \"4\": {\"effect\": -0.0007484594074636166, \"value\": 0.0}, \"5\": {\"effect\": 0.00048096025686346225, \"value\": 0.0}, \"6\": {\"effect\": 0.0, \"value\": 1.0}, \"7\": {\"effect\": 0.0014249541609894253, \"value\": 0.25}, \"8\": {\"effect\": 0.0, \"value\": 0.0}, \"9\": {\"effect\": -0.001029202543527135, \"value\": 0.0}, \"10\": {\"effect\": 0.0, \"value\": 0.0}, \"11\": {\"effect\": 0.0, \"value\": 0.0}, \"12\": {\"effect\": 0.001042561885223522, \"value\": 1.0}, \"13\": {\"effect\": 0.0004026573825576252, \"value\": 1.0}}}, {\"outValue\": 0.9394970711056333, \"simIndex\": 31.0, \"features\": {\"0\": {\"effect\": -0.007274518154074479, \"value\": 23.0}, \"1\": {\"effect\": 0.0, \"value\": 1.0}, \"2\": {\"effect\": 0.0023267885308057346, \"value\": 13.0}, \"3\": {\"effect\": 0.0010003653209008155, \"value\": 2.0}, \"4\": {\"effect\": -0.0006516779055555635, \"value\": 0.0}, \"5\": {\"effect\": -0.002085684963964602, \"value\": 0.0}, \"6\": {\"effect\": 0.0, \"value\": 1.0}, \"7\": {\"effect\": 0.0009977376680409223, \"value\": 0.16}, \"8\": {\"effect\": 0.0, \"value\": 0.0}, \"9\": {\"effect\": -0.0009237144959760692, \"value\": 0.0}, \"10\": {\"effect\": 0.0, \"value\": 0.0}, \"11\": {\"effect\": 0.0, \"value\": 0.0}, \"12\": {\"effect\": 0.0010315895446224785, \"value\": 1.0}, \"13\": {\"effect\": 0.0, \"value\": 1.0}}}, {\"outValue\": 0.9382851072183739, \"simIndex\": 40.0, \"features\": {\"0\": {\"effect\": -0.004405067552094508, \"value\": 35.0}, \"1\": {\"effect\": 0.0, \"value\": 2.0}, \"2\": {\"effect\": -0.0003938361597872978, \"value\": 17.0}, \"3\": {\"effect\": 0.0, \"value\": 3.0}, \"4\": {\"effect\": -0.00048805557167537093, \"value\": 0.0}, \"5\": {\"effect\": 0.0013172810469070937, \"value\": 0.0}, \"6\": {\"effect\": 0.0, \"value\": 1.0}, \"7\": {\"effect\": 0.0009647610604175071, \"value\": 1.0}, \"8\": {\"effect\": 0.0, \"value\": 0.0}, \"9\": {\"effect\": -0.0015743985966539071, \"value\": 0.0}, \"10\": {\"effect\": 0.0, \"value\": 0.0}, \"11\": {\"effect\": -0.00031597017803871837, \"value\": 0.0}, \"12\": {\"effect\": -0.0006822112370456013, \"value\": 1.0}, \"13\": {\"effect\": -0.0012135811544893753, \"value\": 1.0}}}, {\"outValue\": 0.9383253005916484, \"simIndex\": 119.0, \"features\": {\"0\": {\"effect\": -0.003907925991912707, \"value\": 41.0}, \"1\": {\"effect\": 0.0, \"value\": 4.0}, \"2\": {\"effect\": -0.004673789072833759, \"value\": 21.0}, \"3\": {\"effect\": 0.0, \"value\": 3.0}, \"4\": {\"effect\": -0.0005799409339676928, \"value\": 0.0}, \"5\": {\"effect\": 0.004774787277497857, \"value\": 0.0}, \"6\": {\"effect\": 0.0, \"value\": 1.0}, \"7\": {\"effect\": 0.0014613362824910593, \"value\": 0.25}, \"8\": {\"effect\": 0.0, \"value\": 0.0}, \"9\": {\"effect\": -0.0019186375809008283, \"value\": 0.0}, \"10\": {\"effect\": 0.0, \"value\": 0.0}, \"11\": {\"effect\": 0.0, \"value\": 0.0}, \"12\": {\"effect\": -0.0007899464848892855, \"value\": 1.0}, \"13\": {\"effect\": -0.0011167684646702777, \"value\": 1.0}}}, {\"outValue\": 0.9420215382744469, \"simIndex\": 71.0, \"features\": {\"0\": {\"effect\": -0.009354341547831935, \"value\": 21.0}, \"1\": {\"effect\": 0.00028867396435134545, \"value\": 2.0}, \"2\": {\"effect\": -0.0011653489500072353, \"value\": 18.0}, \"3\": {\"effect\": 0.0, \"value\": 3.0}, \"4\": {\"effect\": 0.0, \"value\": 0.0}, \"5\": {\"effect\": 0.0019136819465013478, \"value\": 0.0}, \"6\": {\"effect\": 0.0, \"value\": 0.0}, \"7\": {\"effect\": 0.0007578075878266622, \"value\": 0.0}, \"8\": {\"effect\": 0.0006079948840451185, \"value\": 1.0}, \"9\": {\"effect\": 0.0011660948743638024, \"value\": 3.0}, \"10\": {\"effect\": 0.0, \"value\": 0.0}, \"11\": {\"effect\": 0.0, \"value\": 0.0}, \"12\": {\"effect\": 0.0016476032417567052, \"value\": 1.0}, \"13\": {\"effect\": 0.0010831867126070323, \"value\": 1.0}}}, {\"outValue\": 0.9386253201352154, \"simIndex\": 161.0, \"features\": {\"0\": {\"effect\": -0.01183245279375017, \"value\": 19.0}, \"1\": {\"effect\": 0.0, \"value\": 4.0}, \"2\": {\"effect\": 0.0011411497779566758, \"value\": 15.0}, \"3\": {\"effect\": 0.0019548859488015637, \"value\": 1.0}, \"4\": {\"effect\": -0.0005937695407476845, \"value\": 0.0}, \"5\": {\"effect\": -0.0006574016753888817, \"value\": 0.0}, \"6\": {\"effect\": 0.0, \"value\": 1.0}, \"7\": {\"effect\": 0.00041844567515308614, \"value\": 0.42}, \"8\": {\"effect\": 0.0, \"value\": 0.0}, \"9\": {\"effect\": -0.0012019141903894534, \"value\": 0.0}, \"10\": {\"effect\": 0.0, \"value\": 0.0}, \"11\": {\"effect\": 0.0, \"value\": 0.0}, \"12\": {\"effect\": 0.0024246848379206997, \"value\": 1.0}, \"13\": {\"effect\": 0.001895506534825486, \"value\": 1.0}}}, {\"outValue\": 0.9405080633230622, \"simIndex\": 87.0, \"features\": {\"0\": {\"effect\": -0.00631846591467344, \"value\": 26.0}, \"1\": {\"effect\": 0.0, \"value\": 1.0}, \"2\": {\"effect\": -0.002237683976242659, \"value\": 19.0}, \"3\": {\"effect\": 0.0, \"value\": 3.0}, \"4\": {\"effect\": -0.0007356220819640259, \"value\": 0.0}, \"5\": {\"effect\": 0.0034289543939273115, \"value\": 0.0}, \"6\": {\"effect\": 0.0, \"value\": 1.0}, \"7\": {\"effect\": 0.001437701998804338, \"value\": 1.0}, \"8\": {\"effect\": 0.0, \"value\": 0.0}, \"9\": {\"effect\": -0.0010265521581652153, \"value\": 0.0}, \"10\": {\"effect\": 0.0, \"value\": 0.0}, \"11\": {\"effect\": 0.0, \"value\": 0.0}, \"12\": {\"effect\": 0.00088354550054188, \"value\": 1.0}, \"13\": {\"effect\": 0.0, \"value\": 1.0}}}, {\"outValue\": 0.940485095368664, \"simIndex\": 26.0, \"features\": {\"0\": {\"effect\": -0.007457976363852901, \"value\": 24.0}, \"1\": {\"effect\": 0.0, \"value\": 3.0}, \"2\": {\"effect\": 0.0012312645345413271, \"value\": 15.0}, \"3\": {\"effect\": -0.0009829002247390157, \"value\": 4.0}, \"4\": {\"effect\": 0.0, \"value\": 0.0}, \"5\": {\"effect\": -0.0018468104072649726, \"value\": 0.0}, \"6\": {\"effect\": 0.0, \"value\": 1.0}, \"7\": {\"effect\": 0.0, \"value\": 3.0}, \"8\": {\"effect\": 0.000525649200063984, \"value\": 1.0}, \"9\": {\"effect\": 0.00031891010571095555, \"value\": 2.0}, \"10\": {\"effect\": 0.0, \"value\": 1.0}, \"11\": {\"effect\": 0.0010021683433763967, \"value\": 1.0}, \"12\": {\"effect\": 0.0015484948732227078, \"value\": 2.0}, \"13\": {\"effect\": 0.0010701097467714403, \"value\": 2.0}}}, {\"outValue\": 0.9208788038957612, \"simIndex\": 128.0, \"features\": {\"0\": {\"effect\": -0.005368823493573385, \"value\": 34.0}, \"1\": {\"effect\": 0.0, \"value\": 3.0}, \"2\": {\"effect\": 0.0006834533943757357, \"value\": 17.0}, \"3\": {\"effect\": 0.004885556734231952, \"value\": 1.0}, \"4\": {\"effect\": 0.0017119492542672764, \"value\": 1.0}, \"5\": {\"effect\": -0.01363197724607357, \"value\": 9.0}, \"6\": {\"effect\": -0.0005186452463767852, \"value\": 1.0}, \"7\": {\"effect\": -0.0029973919410886205, \"value\": 0.0}, \"8\": {\"effect\": 0.0, \"value\": 0.0}, \"9\": {\"effect\": -0.0018664317898391593, \"value\": 0.0}, \"10\": {\"effect\": 0.0, \"value\": 0.0}, \"11\": {\"effect\": -0.0004125565683439237, \"value\": 0.0}, \"12\": {\"effect\": -0.0031501394285151346, \"value\": 1.0}, \"13\": {\"effect\": -0.0035323753341372915, \"value\": 1.0}}}, {\"outValue\": 0.9391415618882598, \"simIndex\": 80.0, \"features\": {\"0\": {\"effect\": -0.00780637468280415, \"value\": 25.0}, \"1\": {\"effect\": 0.0, \"value\": 2.0}, \"2\": {\"effect\": -0.0012450648721231443, \"value\": 18.0}, \"3\": {\"effect\": 0.0013344935544174464, \"value\": 2.0}, \"4\": {\"effect\": -0.0007355694430270857, \"value\": 0.0}, \"5\": {\"effect\": 0.0011972024452747937, \"value\": 0.0}, \"6\": {\"effect\": 0.0, \"value\": 1.0}, \"7\": {\"effect\": -0.0011283589543866542, \"value\": 5.0}, \"8\": {\"effect\": 0.0, \"value\": 0.0}, \"9\": {\"effect\": -0.0013092706103223876, \"value\": 0.0}, \"10\": {\"effect\": 0.0, \"value\": 0.0}, \"11\": {\"effect\": 0.0, \"value\": 0.0}, \"12\": {\"effect\": 0.0022580696311336936, \"value\": 1.0}, \"13\": {\"effect\": 0.0015002492592632397, \"value\": 1.0}}}, {\"outValue\": 0.938978578414857, \"simIndex\": 153.0, \"features\": {\"0\": {\"effect\": -0.013881427629125122, \"value\": 17.0}, \"1\": {\"effect\": 0.0, \"value\": 3.0}, \"2\": {\"effect\": 0.0018277498223075528, \"value\": 14.0}, \"3\": {\"effect\": 0.0016401712996006292, \"value\": 1.0}, \"4\": {\"effect\": 0.0, \"value\": 0.0}, \"5\": {\"effect\": -0.0012442899527195022, \"value\": 0.0}, \"6\": {\"effect\": 0.0, \"value\": 0.0}, \"7\": {\"effect\": 0.0005687491108713177, \"value\": 0.0}, \"8\": {\"effect\": 0.0, \"value\": 0.0}, \"9\": {\"effect\": -0.001489015433224698, \"value\": 0.0}, \"10\": {\"effect\": 0.0, \"value\": 0.0}, \"11\": {\"effect\": 0.0, \"value\": 0.0}, \"12\": {\"effect\": 0.0034923991907769712, \"value\": 1.0}, \"13\": {\"effect\": 0.0029880564455357847, \"value\": 1.0}}}, {\"outValue\": 0.9388898250754847, \"simIndex\": 147.0, \"features\": {\"0\": {\"effect\": -0.01590492840204298, \"value\": 15.0}, \"1\": {\"effect\": 0.0, \"value\": 2.0}, \"2\": {\"effect\": 0.0016948090813683533, \"value\": 14.0}, \"3\": {\"effect\": 0.0019640704033324083, \"value\": 1.0}, \"4\": {\"effect\": 0.0, \"value\": 0.0}, \"5\": {\"effect\": -0.0010688757734055448, \"value\": 0.0}, \"6\": {\"effect\": 0.0, \"value\": 0.0}, \"7\": {\"effect\": 0.0, \"value\": 0.0}, \"8\": {\"effect\": 0.0, \"value\": 0.0}, \"9\": {\"effect\": -0.0012413486287172065, \"value\": 0.0}, \"10\": {\"effect\": 0.0, \"value\": 0.0}, \"11\": {\"effect\": 0.0, \"value\": 0.0}, \"12\": {\"effect\": 0.004540475373587585, \"value\": 1.0}, \"13\": {\"effect\": 0.0038294374605280113, \"value\": 1.0}}}, {\"outValue\": 0.9401543893590483, \"simIndex\": 9.0, \"features\": {\"0\": {\"effect\": -0.007112834129385981, \"value\": 30.0}, \"1\": {\"effect\": 0.0, \"value\": 4.0}, \"2\": {\"effect\": 0.001793879068679438, \"value\": 16.0}, \"3\": {\"effect\": 0.0021142254701426535, \"value\": 2.0}, \"4\": {\"effect\": -0.0006060266136263589, \"value\": 0.0}, \"5\": {\"effect\": -0.003201812533094743, \"value\": 0.0}, \"6\": {\"effect\": 0.0, \"value\": 1.0}, \"7\": {\"effect\": -0.006670873572193055, \"value\": 13.0}, \"8\": {\"effect\": 0.0, \"value\": 0.0}, \"9\": {\"effect\": -0.0013014605506640178, \"value\": 0.0}, \"10\": {\"effect\": 0.0, \"value\": 0.0}, \"11\": {\"effect\": 0.0, \"value\": 0.0}, \"12\": {\"effect\": 0.005404464090534241, \"value\": 1.0}, \"13\": {\"effect\": 0.004658642567822037, \"value\": 1.0}}}, {\"outValue\": 0.935081994527982, \"simIndex\": 8.0, \"features\": {\"0\": {\"effect\": -0.004580771933798718, \"value\": 40.0}, \"1\": {\"effect\": -0.0002673769724722431, \"value\": 1.0}, \"2\": {\"effect\": -0.005958469603898192, \"value\": 20.0}, \"3\": {\"effect\": 0.002906151367599279, \"value\": 2.0}, \"4\": {\"effect\": -0.00025612948542963736, \"value\": 0.0}, \"5\": {\"effect\": -0.0015252096818866353, \"value\": 0.0}, \"6\": {\"effect\": -0.0003624168949754418, \"value\": 1.0}, \"7\": {\"effect\": -0.010558212110800113, \"value\": 15.0}, \"8\": {\"effect\": -0.00034658110240183733, \"value\": 0.0}, \"9\": {\"effect\": -0.0015524042065009902, \"value\": 0.0}, \"10\": {\"effect\": 0.0, \"value\": 0.0}, \"11\": {\"effect\": -0.00026912717377841275, \"value\": 0.0}, \"12\": {\"effect\": 0.0067217841716693625, \"value\": 1.0}, \"13\": {\"effect\": 0.006054572593821535, \"value\": 1.0}}}, {\"outValue\": 0.9383765575981351, \"simIndex\": 6.0, \"features\": {\"0\": {\"effect\": -0.005955695082842211, \"value\": 35.0}, \"1\": {\"effect\": 0.0, \"value\": 5.0}, \"2\": {\"effect\": -0.008062174070158528, \"value\": 23.0}, \"3\": {\"effect\": 0.0011423965671353495, \"value\": 2.0}, \"4\": {\"effect\": -0.0005273467539860556, \"value\": 0.0}, \"5\": {\"effect\": 0.008671154655936387, \"value\": 0.0}, \"6\": {\"effect\": 0.0, \"value\": 1.0}, \"7\": {\"effect\": 0.0020899969635508686, \"value\": 0.33}, \"8\": {\"effect\": 0.0, \"value\": 0.0}, \"9\": {\"effect\": -0.0019114304986639317, \"value\": 0.0}, \"10\": {\"effect\": 0.0, \"value\": 0.0}, \"11\": {\"effect\": 0.0, \"value\": 0.0}, \"12\": {\"effect\": -0.0009030652901491714, \"value\": 1.0}, \"13\": {\"effect\": -0.0012434644535216696, \"value\": 1.0}}}, {\"outValue\": 0.939872087042065, \"simIndex\": 93.0, \"features\": {\"0\": {\"effect\": -0.007427224847841158, \"value\": 24.0}, \"1\": {\"effect\": 0.0, \"value\": 2.0}, \"2\": {\"effect\": -0.0012427683458433704, \"value\": 18.0}, \"3\": {\"effect\": 0.0019020906595520201, \"value\": 1.0}, \"4\": {\"effect\": -0.0007271784726818622, \"value\": 0.0}, \"5\": {\"effect\": 0.0017102539643718572, \"value\": 0.0}, \"6\": {\"effect\": 0.0, \"value\": 1.0}, \"7\": {\"effect\": 0.0010515962078316552, \"value\": 0.66}, \"8\": {\"effect\": 0.0, \"value\": 0.0}, \"9\": {\"effect\": -0.0011413731215773252, \"value\": 0.0}, \"10\": {\"effect\": 0.0, \"value\": 0.0}, \"11\": {\"effect\": 0.0, \"value\": 0.0}, \"12\": {\"effect\": 0.0006705054374191652, \"value\": 1.0}, \"13\": {\"effect\": 0.0, \"value\": 1.0}}}, {\"outValue\": 0.9387184402487493, \"simIndex\": 154.0, \"features\": {\"0\": {\"effect\": -0.01385688047738069, \"value\": 17.0}, \"1\": {\"effect\": 0.0, \"value\": 3.0}, \"2\": {\"effect\": 0.0010193522743259338, \"value\": 15.0}, \"3\": {\"effect\": 0.001714169429038574, \"value\": 1.0}, \"4\": {\"effect\": 0.0, \"value\": 0.0}, \"5\": {\"effect\": -0.0007132224441697569, \"value\": 0.0}, \"6\": {\"effect\": 0.0003521869687130156, \"value\": 0.0}, \"7\": {\"effect\": 0.0004943844727514739, \"value\": 0.0}, \"8\": {\"effect\": 0.0, \"value\": 0.0}, \"9\": {\"effect\": -0.00143089788598374, \"value\": 0.0}, \"10\": {\"effect\": 0.0, \"value\": 0.0}, \"11\": {\"effect\": 0.0, \"value\": 0.0}, \"12\": {\"effect\": 0.003407976723016675, \"value\": 1.0}, \"13\": {\"effect\": 0.002655185627603744, \"value\": 1.0}}}, {\"outValue\": 0.9392764885983955, \"simIndex\": 70.0, \"features\": {\"0\": {\"effect\": -0.008333334777869152, \"value\": 24.0}, \"1\": {\"effect\": 0.0, \"value\": 4.0}, \"2\": {\"effect\": -0.0012262618944597964, \"value\": 18.0}, \"3\": {\"effect\": -0.0010040259025853736, \"value\": 4.0}, \"4\": {\"effect\": -0.000763768410261172, \"value\": 0.0}, \"5\": {\"effect\": 0.0024542135547042047, \"value\": 0.0}, \"6\": {\"effect\": 0.0, \"value\": 1.0}, \"7\": {\"effect\": -0.0005801514390916208, \"value\": 4.0}, \"8\": {\"effect\": 0.0, \"value\": 0.0}, \"9\": {\"effect\": -0.0014579078217445275, \"value\": 0.0}, \"10\": {\"effect\": 0.0, \"value\": 0.0}, \"11\": {\"effect\": 0.0, \"value\": 0.0}, \"12\": {\"effect\": 0.002946881749062386, \"value\": 1.0}, \"13\": {\"effect\": 0.002164657979806514, \"value\": 1.0}}}, {\"outValue\": 0.9384473924235158, \"simIndex\": 144.0, \"features\": {\"0\": {\"effect\": -0.016527282891231822, \"value\": 15.0}, \"1\": {\"effect\": 0.0, \"value\": 4.0}, \"2\": {\"effect\": 0.0028864991363890978, \"value\": 12.0}, \"3\": {\"effect\": 0.001765873452280747, \"value\": 1.0}, \"4\": {\"effect\": 0.0, \"value\": 0.0}, \"5\": {\"effect\": -0.0018871239172060916, \"value\": 0.0}, \"6\": {\"effect\": 0.0, \"value\": 1.0}, \"7\": {\"effect\": -0.0005736922929155796, \"value\": 1.0}, \"8\": {\"effect\": 0.0, \"value\": 0.0}, \"9\": {\"effect\": -0.001290050781789209, \"value\": 0.0}, \"10\": {\"effect\": 0.0, \"value\": 0.0}, \"11\": {\"effect\": 0.0, \"value\": 0.0}, \"12\": {\"effect\": 0.00484071452181869, \"value\": 1.0}, \"13\": {\"effect\": 0.004156269635335932, \"value\": 1.0}}}, {\"outValue\": 0.9404713682319014, \"simIndex\": 98.0, \"features\": {\"0\": {\"effect\": -0.0065526833159220525, \"value\": 25.0}, \"1\": {\"effect\": 0.0, \"value\": 1.0}, \"2\": {\"effect\": -0.0011712125266971122, \"value\": 18.0}, \"3\": {\"effect\": 0.0018628651296532038, \"value\": 1.0}, \"4\": {\"effect\": -0.0005698504914833759, \"value\": 0.0}, \"5\": {\"effect\": 0.001499902297453473, \"value\": 0.0}, \"6\": {\"effect\": 0.0, \"value\": 0.0}, \"7\": {\"effect\": 0.0016425054683054225, \"value\": 0.0}, \"8\": {\"effect\": 0.0, \"value\": 0.0}, \"9\": {\"effect\": -0.0009727940394387981, \"value\": 0.0}, \"10\": {\"effect\": 0.0, \"value\": 0.0}, \"11\": {\"effect\": 0.0, \"value\": 0.0}, \"12\": {\"effect\": 0.0, \"value\": 1.0}, \"13\": {\"effect\": -0.00034354985080345835, \"value\": 1.0}}}, {\"outValue\": 0.9394319888879178, \"simIndex\": 23.0, \"features\": {\"0\": {\"effect\": -0.005550344541260177, \"value\": 28.0}, \"1\": {\"effect\": 0.0, \"value\": 3.0}, \"2\": {\"effect\": 0.0015393930401563513, \"value\": 15.0}, \"3\": {\"effect\": 0.0, \"value\": 3.0}, \"4\": {\"effect\": -0.0005999102722956452, \"value\": 0.0}, \"5\": {\"effect\": -0.0007169739889945894, \"value\": 0.0}, \"6\": {\"effect\": 0.0, \"value\": 1.0}, \"7\": {\"effect\": 0.0, \"value\": 3.0}, \"8\": {\"effect\": 0.0, \"value\": 0.0}, \"9\": {\"effect\": -0.0009786622103459398, \"value\": 0.0}, \"10\": {\"effect\": 0.0, \"value\": 0.0}, \"11\": {\"effect\": 0.0, \"value\": 0.0}, \"12\": {\"effect\": 0.0006623012998237306, \"value\": 1.0}, \"13\": {\"effect\": 0.0, \"value\": 1.0}}}, {\"outValue\": 0.9367699803278285, \"simIndex\": 73.0, \"features\": {\"0\": {\"effect\": -0.006685530910739407, \"value\": 32.0}, \"1\": {\"effect\": 0.0, \"value\": 1.0}, \"2\": {\"effect\": -0.007435751305158214, \"value\": 22.0}, \"3\": {\"effect\": 0.001609677671911054, \"value\": 2.0}, \"4\": {\"effect\": -0.0005107106729916808, \"value\": 0.0}, \"5\": {\"effect\": 0.005489885793838962, \"value\": 0.0}, \"6\": {\"effect\": 0.0, \"value\": 1.0}, \"7\": {\"effect\": -0.002525971484943974, \"value\": 7.0}, \"8\": {\"effect\": 0.0, \"value\": 0.0}, \"9\": {\"effect\": -0.0017402422839469054, \"value\": 0.0}, \"10\": {\"effect\": 0.0, \"value\": 0.0}, \"11\": {\"effect\": 0.0, \"value\": 0.0}, \"12\": {\"effect\": 0.001984031594611237, \"value\": 1.0}, \"13\": {\"effect\": 0.001508406364413413, \"value\": 1.0}}}, {\"outValue\": 0.9389895030730119, \"simIndex\": 159.0, \"features\": {\"0\": {\"effect\": -0.012408393068906478, \"value\": 18.0}, \"1\": {\"effect\": 0.0, \"value\": 1.0}, \"2\": {\"effect\": 0.0010491707972241663, \"value\": 15.0}, \"3\": {\"effect\": 0.001745189906450915, \"value\": 1.0}, \"4\": {\"effect\": -0.0006636556519112515, \"value\": 0.0}, \"5\": {\"effect\": 0.0, \"value\": 0.0}, \"6\": {\"effect\": 0.0, \"value\": 1.0}, \"7\": {\"effect\": 0.0, \"value\": 0.33}, \"8\": {\"effect\": 0.0, \"value\": 0.0}, \"9\": {\"effect\": -0.0013853997660289719, \"value\": 0.0}, \"10\": {\"effect\": 0.0, \"value\": 0.0}, \"11\": {\"effect\": 0.0, \"value\": 0.0}, \"12\": {\"effect\": 0.003226843591064364, \"value\": 1.0}, \"13\": {\"effect\": 0.002349561704285073, \"value\": 1.0}}}, {\"outValue\": 0.9398811911912655, \"simIndex\": 89.0, \"features\": {\"0\": {\"effect\": -0.004846121120600763, \"value\": 35.0}, \"1\": {\"effect\": 0.0, \"value\": 3.0}, \"2\": {\"effect\": -0.001302263619372791, \"value\": 18.0}, \"3\": {\"effect\": 0.0, \"value\": 3.0}, \"4\": {\"effect\": 0.0, \"value\": 0.0}, \"5\": {\"effect\": 0.001883609419675043, \"value\": 0.0}, \"6\": {\"effect\": 0.0, \"value\": 1.0}, \"7\": {\"effect\": 0.0, \"value\": 5.0}, \"8\": {\"effect\": 0.0, \"value\": 0.0}, \"9\": {\"effect\": -0.0016098101022064167, \"value\": 0.0}, \"10\": {\"effect\": 0.0, \"value\": 0.0}, \"11\": {\"effect\": 0.0, \"value\": 0.0}, \"12\": {\"effect\": 0.0006795910529363222, \"value\": 1.0}, \"13\": {\"effect\": 0.0, \"value\": 1.0}}}, {\"outValue\": 0.934430654330903, \"simIndex\": 28.0, \"features\": {\"0\": {\"effect\": -0.006321971450585569, \"value\": 34.0}, \"1\": {\"effect\": 0.0, \"value\": 3.0}, \"2\": {\"effect\": 0.0, \"value\": 16.0}, \"3\": {\"effect\": 0.001329534366274164, \"value\": 2.0}, \"4\": {\"effect\": -0.00038108349248688065, \"value\": 0.0}, \"5\": {\"effect\": -0.0019056748282848647, \"value\": 0.0}, \"6\": {\"effect\": 0.0, \"value\": 1.0}, \"7\": {\"effect\": 0.0, \"value\": 1.0}, \"8\": {\"effect\": 0.0, \"value\": 1.0}, \"9\": {\"effect\": -0.0004879559792049528, \"value\": 5.0}, \"10\": {\"effect\": 0.0, \"value\": 0.0}, \"11\": {\"effect\": -0.00019969457765971806, \"value\": 0.0}, \"12\": {\"effect\": -0.001109234901668517, \"value\": 1.0}, \"13\": {\"effect\": -0.0015694503663147234, \"value\": 1.0}}}, {\"outValue\": 0.9385626398856263, \"simIndex\": 109.0, \"features\": {\"0\": {\"effect\": -0.005815492734226513, \"value\": 31.0}, \"1\": {\"effect\": 0.0, \"value\": 3.0}, \"2\": {\"effect\": -0.003942712786523125, \"value\": 20.0}, \"3\": {\"effect\": 0.002427614417452746, \"value\": 1.0}, \"4\": {\"effect\": -0.0005250067664080813, \"value\": 0.0}, \"5\": {\"effect\": 0.003734952958252418, \"value\": 0.0}, \"6\": {\"effect\": 0.0, \"value\": 1.0}, \"7\": {\"effect\": 0.0, \"value\": 3.0}, \"8\": {\"effect\": 0.0, \"value\": 0.0}, \"9\": {\"effect\": -0.001425652721918612, \"value\": 0.0}, \"10\": {\"effect\": 0.0, \"value\": 0.0}, \"11\": {\"effect\": -0.0003736545645810019, \"value\": 0.0}, \"12\": {\"effect\": 0.0, \"value\": 1.0}, \"13\": {\"effect\": -0.0005935934772556186, \"value\": 1.0}}}, {\"outValue\": 0.9400279419005484, \"simIndex\": 66.0, \"features\": {\"0\": {\"effect\": -0.010129449922553229, \"value\": 20.0}, \"1\": {\"effect\": 0.0004131736382421017, \"value\": 1.0}, \"2\": {\"effect\": -0.0011451568627652143, \"value\": 18.0}, \"3\": {\"effect\": 0.0008477837530657907, \"value\": 2.0}, \"4\": {\"effect\": -0.000766289845484712, \"value\": 0.0}, \"5\": {\"effect\": 0.0020780140471258856, \"value\": 0.0}, \"6\": {\"effect\": 0.0, \"value\": 1.0}, \"7\": {\"effect\": 0.001182473757234648, \"value\": 0.0}, \"8\": {\"effect\": 0.0, \"value\": 0.0}, \"9\": {\"effect\": -0.0012154286411449333, \"value\": 0.0}, \"10\": {\"effect\": 0.0, \"value\": 0.0}, \"11\": {\"effect\": 0.0, \"value\": 0.0}, \"12\": {\"effect\": 0.002123285981369984, \"value\": 1.0}, \"13\": {\"effect\": 0.0015633504346240085, \"value\": 1.0}}}, {\"outValue\": 0.9389359786295571, \"simIndex\": 51.0, \"features\": {\"0\": {\"effect\": -0.010211778357754542, \"value\": 21.0}, \"1\": {\"effect\": 0.0, \"value\": 5.0}, \"2\": {\"effect\": 0.0005482585460015988, \"value\": 16.0}, \"3\": {\"effect\": 0.0020123799524786466, \"value\": 1.0}, \"4\": {\"effect\": -0.0006888044862481775, \"value\": 0.0}, \"5\": {\"effect\": 0.0, \"value\": 0.0}, \"6\": {\"effect\": 0.0, \"value\": 1.0}, \"7\": {\"effect\": 0.0006298289112650272, \"value\": 0.42}, \"8\": {\"effect\": 0.0, \"value\": 0.0}, \"9\": {\"effect\": -0.0010788386789472876, \"value\": 0.0}, \"10\": {\"effect\": 0.0, \"value\": 0.0}, \"11\": {\"effect\": 0.0, \"value\": 0.0}, \"12\": {\"effect\": 0.0016072849546034092, \"value\": 1.0}, \"13\": {\"effect\": 0.0010414622273243988, \"value\": 1.0}}}, {\"outValue\": 0.9405005779192264, \"simIndex\": 95.0, \"features\": {\"0\": {\"effect\": -0.0076061219647936325, \"value\": 23.0}, \"1\": {\"effect\": 0.0, \"value\": 1.0}, \"2\": {\"effect\": -0.0011243840811137897, \"value\": 18.0}, \"3\": {\"effect\": 0.001081422965598029, \"value\": 2.0}, \"4\": {\"effect\": -0.0005827283503393186, \"value\": 0.0}, \"5\": {\"effect\": 0.0017200933223972025, \"value\": 0.0}, \"6\": {\"effect\": 0.0, \"value\": 0.0}, \"7\": {\"effect\": 0.001798452455557399, \"value\": 0.0}, \"8\": {\"effect\": 0.0, \"value\": 0.0}, \"9\": {\"effect\": -0.0010457443357662073, \"value\": 0.0}, \"10\": {\"effect\": 0.0, \"value\": 0.0}, \"11\": {\"effect\": 0.0, \"value\": 0.0}, \"12\": {\"effect\": 0.0011834023468526265, \"value\": 1.0}, \"13\": {\"effect\": 0.0, \"value\": 1.0}}}, {\"outValue\": 0.9386592457606657, \"simIndex\": 38.0, \"features\": {\"0\": {\"effect\": -0.0042889878836961035, \"value\": 33.0}, \"1\": {\"effect\": 0.0, \"value\": 1.0}, \"2\": {\"effect\": 0.0, \"value\": 16.0}, \"3\": {\"effect\": -0.0008196621099687404, \"value\": 4.0}, \"4\": {\"effect\": -0.0003432778634967224, \"value\": 0.0}, \"5\": {\"effect\": 0.0, \"value\": 0.0}, \"6\": {\"effect\": 0.0, \"value\": 0.0}, \"7\": {\"effect\": 0.0016886434902641694, \"value\": 0.0}, \"8\": {\"effect\": 0.0, \"value\": 0.0}, \"9\": {\"effect\": -0.0010542387406842438, \"value\": 0.0}, \"10\": {\"effect\": 0.0, \"value\": 0.0}, \"11\": {\"effect\": -0.0001499149614189836, \"value\": 0.0}, \"12\": {\"effect\": -0.00045604141820444755, \"value\": 1.0}, \"13\": {\"effect\": -0.0009934603129632593, \"value\": 1.0}}}, {\"outValue\": 0.9390696638656181, \"simIndex\": 24.0, \"features\": {\"0\": {\"effect\": -0.006888272268409975, \"value\": 23.0}, \"1\": {\"effect\": 0.0, \"value\": 2.0}, \"2\": {\"effect\": 0.0009678290535125467, \"value\": 14.0}, \"3\": {\"effect\": 0.0007855139741007947, \"value\": 2.0}, \"4\": {\"effect\": 0.0, \"value\": 0.0}, \"5\": {\"effect\": -0.002270260783269594, \"value\": 0.0}, \"6\": {\"effect\": 0.00031337174918764314, \"value\": 0.0}, \"7\": {\"effect\": 0.0, \"value\": 0.0}, \"8\": {\"effect\": 0.00042348181919494784, \"value\": 1.0}, \"9\": {\"effect\": 0.0006618147604676534, \"value\": 7.0}, \"10\": {\"effect\": 0.0, \"value\": 0.0}, \"11\": {\"effect\": 0.0, \"value\": 0.0}, \"12\": {\"effect\": 0.0, \"value\": 1.0}, \"13\": {\"effect\": 0.0, \"value\": 1.0}}}, {\"outValue\": 0.9398376025440711, \"simIndex\": 121.0, \"features\": {\"0\": {\"effect\": -0.0019379557432124064, \"value\": 44.0}, \"1\": {\"effect\": 0.0, \"value\": 3.0}, \"2\": {\"effect\": -0.0065510752128700965, \"value\": 23.0}, \"3\": {\"effect\": 0.0022084595285139486, \"value\": 1.0}, \"4\": {\"effect\": -0.0005212865513156712, \"value\": 0.0}, \"5\": {\"effect\": 0.004585976071312626, \"value\": 0.0}, \"6\": {\"effect\": 0.0, \"value\": 1.0}, \"7\": {\"effect\": 0.0016417596386996852, \"value\": 0.0}, \"8\": {\"effect\": 0.0, \"value\": 0.0}, \"9\": {\"effect\": -0.002345982478690021, \"value\": 0.0}, \"10\": {\"effect\": 0.0, \"value\": 0.0}, \"11\": {\"effect\": -0.0002870051256900761, \"value\": 0.0}, \"12\": {\"effect\": -0.0008343446946028482, \"value\": 1.0}, \"13\": {\"effect\": -0.0011971284489080839, \"value\": 1.0}}}, {\"outValue\": 0.9404316024325436, \"simIndex\": 20.0, \"features\": {\"0\": {\"effect\": -0.00614894233809862, \"value\": 25.0}, \"1\": {\"effect\": 0.0, \"value\": 2.0}, \"2\": {\"effect\": 0.0, \"value\": 16.0}, \"3\": {\"effect\": 0.0, \"value\": 3.0}, \"4\": {\"effect\": -0.000513925226595728, \"value\": 0.0}, \"5\": {\"effect\": 0.000561127542742389, \"value\": 0.0}, \"6\": {\"effect\": 0.0, \"value\": 1.0}, \"7\": {\"effect\": 0.001704008884866025, \"value\": 0.0}, \"8\": {\"effect\": 0.0, \"value\": 0.0}, \"9\": {\"effect\": -0.0008380223510146651, \"value\": 0.0}, \"10\": {\"effect\": 0.0, \"value\": 0.0}, \"11\": {\"effect\": 0.0, \"value\": 0.0}, \"12\": {\"effect\": 0.0005911703598101854, \"value\": 1.0}, \"13\": {\"effect\": 0.0, \"value\": 1.0}}}, {\"outValue\": 0.9384725420719102, \"simIndex\": 146.0, \"features\": {\"0\": {\"effect\": -0.01519181554090756, \"value\": 16.0}, \"1\": {\"effect\": 0.0, \"value\": 3.0}, \"2\": {\"effect\": 0.0019781113438891666, \"value\": 14.0}, \"3\": {\"effect\": 0.0008794052110307135, \"value\": 2.0}, \"4\": {\"effect\": -0.0004972058533861271, \"value\": 0.0}, \"5\": {\"effect\": -0.0007356104850577147, \"value\": 0.0}, \"6\": {\"effect\": 0.0, \"value\": 1.0}, \"7\": {\"effect\": 0.0, \"value\": 1.0}, \"8\": {\"effect\": 0.0, \"value\": 0.0}, \"9\": {\"effect\": -0.0015273162952425343, \"value\": 0.0}, \"10\": {\"effect\": 0.0, \"value\": 0.0}, \"11\": {\"effect\": 0.0, \"value\": 0.0}, \"12\": {\"effect\": 0.004748258161350054, \"value\": 1.0}, \"13\": {\"effect\": 0.0037425299694001622, \"value\": 1.0}}}, {\"outValue\": 0.9453477003280649, \"simIndex\": 134.0, \"features\": {\"0\": {\"effect\": -0.006478591968456534, \"value\": 27.0}, \"1\": {\"effect\": 0.0, \"value\": 2.0}, \"2\": {\"effect\": 0.00935578142087156, \"value\": 13.0}, \"3\": {\"effect\": 0.0030212372486302995, \"value\": 2.0}, \"4\": {\"effect\": 0.0016508527896032911, \"value\": 1.0}, \"5\": {\"effect\": -0.004786664630877655, \"value\": 7.0}, \"6\": {\"effect\": -0.0004201128030640711, \"value\": 1.0}, \"7\": {\"effect\": 0.0, \"value\": 3.0}, \"8\": {\"effect\": 0.0, \"value\": 0.0}, \"9\": {\"effect\": -0.0013721433179980768, \"value\": 0.0}, \"10\": {\"effect\": 0.0, \"value\": 1.0}, \"11\": {\"effect\": 0.0016838582535946664, \"value\": 1.0}, \"12\": {\"effect\": -0.0016209057483421334, \"value\": 5.0}, \"13\": {\"effect\": -0.0007617964767304842, \"value\": 5.0}}}, {\"outValue\": 0.9401550129358355, \"simIndex\": 30.0, \"features\": {\"0\": {\"effect\": -0.007669395525069368, \"value\": 23.0}, \"1\": {\"effect\": 0.0, \"value\": 2.0}, \"2\": {\"effect\": 0.0013395130801134194, \"value\": 15.0}, \"3\": {\"effect\": 0.0026506823424336753, \"value\": 0.0}, \"4\": {\"effect\": -0.0006524297706739317, \"value\": 0.0}, \"5\": {\"effect\": -0.0011518000541986418, \"value\": 0.0}, \"6\": {\"effect\": 0.0, \"value\": 0.0}, \"7\": {\"effect\": 0.0009108183240130255, \"value\": 0.0}, \"8\": {\"effect\": 0.0, \"value\": 0.0}, \"9\": {\"effect\": -0.0009452115622757508, \"value\": 0.0}, \"10\": {\"effect\": 0.0, \"value\": 0.0}, \"11\": {\"effect\": 0.0, \"value\": 0.0}, \"12\": {\"effect\": 0.0005966505406589905, \"value\": 1.0}, \"13\": {\"effect\": 0.0, \"value\": 1.0}}}, {\"outValue\": 0.9493069303538115, \"simIndex\": 171.0, \"features\": {\"0\": {\"effect\": -0.0009996908084461608, \"value\": 36.0}, \"1\": {\"effect\": 0.0012223023525866944, \"value\": 1.0}, \"2\": {\"effect\": -0.020118485320251178, \"value\": 22.0}, \"3\": {\"effect\": -0.0037884387718052255, \"value\": 4.0}, \"4\": {\"effect\": 0.001327883847933655, \"value\": 1.0}, \"5\": {\"effect\": -0.008609164142654942, \"value\": 16.0}, \"6\": {\"effect\": 0.001209512639739202, \"value\": 0.0}, \"7\": {\"effect\": 0.010490505537324831, \"value\": 0.0}, \"8\": {\"effect\": 0.0, \"value\": 0.0}, \"9\": {\"effect\": -0.0034643533484012656, \"value\": 0.0}, \"10\": {\"effect\": 0.0007642501910029831, \"value\": 1.0}, \"11\": {\"effect\": 0.0030750645712360344, \"value\": 1.0}, \"12\": {\"effect\": 0.010895138911471097, \"value\": 7.0}, \"13\": {\"effect\": 0.01222621913324175, \"value\": 7.0}}}, {\"outValue\": 0.9389822089495247, \"simIndex\": 57.0, \"features\": {\"0\": {\"effect\": -0.01051253412949784, \"value\": 21.0}, \"1\": {\"effect\": 0.0, \"value\": 1.0}, \"2\": {\"effect\": 0.0018261037106167702, \"value\": 14.0}, \"3\": {\"effect\": 0.0010645203281064585, \"value\": 2.0}, \"4\": {\"effect\": -0.0005669286507768937, \"value\": 0.0}, \"5\": {\"effect\": -0.0016128009093351425, \"value\": 0.0}, \"6\": {\"effect\": 0.0, \"value\": 1.0}, \"7\": {\"effect\": -0.0009479706177167061, \"value\": 4.0}, \"8\": {\"effect\": 0.0, \"value\": 0.0}, \"9\": {\"effect\": -0.0013344088255907369, \"value\": 0.0}, \"10\": {\"effect\": 0.0, \"value\": 0.0}, \"11\": {\"effect\": 0.0, \"value\": 0.0}, \"12\": {\"effect\": 0.0032835675905650164, \"value\": 1.0}, \"13\": {\"effect\": 0.002706474892319682, \"value\": 1.0}}}], \"plot_cmap\": \"RdBu\", \"ordering_keys\": null, \"ordering_keys_time_format\": null}),\n    document.getElementById('iW1UPX7WTJT4JPUJET5U2')\n  );\n</script>"
     },
     "execution_count": 93,
     "metadata": {},
     "output_type": "execute_result"
    }
   ],
   "source": [
    "shap.force_plot(explainer.expected_value[0], shap_values[0], X_test)"
   ]
  },
  {
   "cell_type": "markdown",
   "metadata": {},
   "source": [
    "We can see initially `Age` pushes the probability of cancer down, but as we progress `Age` becomes a relevant factor to the having-cancer prediction"
   ]
  },
  {
   "cell_type": "markdown",
   "metadata": {},
   "source": [
    "#### Exercise 4.6\n",
    "Try to find a better performing model for the cancer-dataset. Share it with us! Then, repeat the above Kernel-SHAP to explain that model. How do the feature contributions change?"
   ]
  },
  {
   "cell_type": "markdown",
   "metadata": {},
   "source": [
    "#### Exercise 4.7\n",
    "\n",
    "What is the best model you can find for the bike-dataset? \n",
    "Can you still explain this blackbox? \n",
    "Repeat Kernel-SHAP for the bike-dataset. "
   ]
  },
  {
   "cell_type": "code",
   "execution_count": 106,
   "metadata": {
    "ExecuteTime": {
     "end_time": "2023-06-30T22:32:47.270101Z",
     "start_time": "2023-06-30T22:32:47.258952Z"
    }
   },
   "outputs": [
    {
     "data": {
      "text/plain": "{'ex_4_1': True,\n 'ex_4_2': True,\n 'ex_4_3': True,\n 'ex_4_4': True,\n 'ex_4_5': True}"
     },
     "execution_count": 106,
     "metadata": {},
     "output_type": "execute_result"
    }
   ],
   "source": [
    "scores"
   ]
  },
  {
   "cell_type": "code",
   "execution_count": 107,
   "metadata": {
    "ExecuteTime": {
     "end_time": "2023-06-30T22:32:47.919849Z",
     "start_time": "2023-06-30T22:32:47.909678Z"
    }
   },
   "outputs": [],
   "source": [
    "write_submission_txt()"
   ]
  },
  {
   "cell_type": "code",
   "execution_count": 108,
   "metadata": {
    "ExecuteTime": {
     "end_time": "2023-06-30T22:32:49.670069Z",
     "start_time": "2023-06-30T22:32:49.658180Z"
    }
   },
   "outputs": [
    {
     "data": {
      "text/plain": "'100.0% are correct'"
     },
     "execution_count": 108,
     "metadata": {},
     "output_type": "execute_result"
    }
   ],
   "source": [
    "grade(\"ce4_Changhun_Kim.txt\")"
   ]
  },
  {
   "cell_type": "code",
   "execution_count": null,
   "metadata": {
    "is_executing": true
   },
   "outputs": [],
   "source": []
  }
 ],
 "metadata": {
  "interpreter": {
   "hash": "5a6413dd6dc280ee238485e74b5c4c06359e9e68f7263f527836d1601d105317"
  },
  "kernelspec": {
   "display_name": "Python 3 (ipykernel)",
   "language": "python",
   "name": "python3"
  },
  "language_info": {
   "codemirror_mode": {
    "name": "ipython",
    "version": 3
   },
   "file_extension": ".py",
   "mimetype": "text/x-python",
   "name": "python",
   "nbconvert_exporter": "python",
   "pygments_lexer": "ipython3",
   "version": "3.9.15"
  }
 },
 "nbformat": 4,
 "nbformat_minor": 4
}
